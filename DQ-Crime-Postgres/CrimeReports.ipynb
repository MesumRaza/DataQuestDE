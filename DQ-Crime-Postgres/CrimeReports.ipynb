{
 "cells": [
  {
   "cell_type": "markdown",
   "metadata": {},
   "source": [
    "# Building a database for Crime Reports"
   ]
  },
  {
   "cell_type": "markdown",
   "metadata": {},
   "source": [
    "In this project, we will build a database for storing data related with crimes that occurred in Boston. We'll be using Postgres."
   ]
  },
  {
   "cell_type": "markdown",
   "metadata": {},
   "source": [
    "### Goals"
   ]
  },
  {
   "cell_type": "markdown",
   "metadata": {},
   "source": [
    "The goal of this guided project is for you to create a database named `crimes_db` with a table – `boston_crimes` – with appropriate datatypes for storing the data from the `boston.csv` file. \n",
    "\n",
    "We will be creating the table inside a schema named `crimes`. \n",
    "\n",
    "We will also create the `readonly` and `readwrite` groups with the appropriate privileges as we have discussed in this course. Finally, you will also need to create one user for each of these groups."
   ]
  },
  {
   "cell_type": "markdown",
   "metadata": {},
   "source": [
    "<img src=\"goal.png\">"
   ]
  },
  {
   "cell_type": "markdown",
   "metadata": {},
   "source": [
    "### Creating Crimes Database"
   ]
  },
  {
   "cell_type": "markdown",
   "metadata": {},
   "source": [
    "Let's start by creating the `crimes_db` database. We'll first connect to the `dq` database with user `dq` when connecting to the postgres server. We'll create our database, then connect to and setup the scheme - `crimes`"
   ]
  },
  {
   "cell_type": "code",
   "execution_count": 1,
   "metadata": {},
   "outputs": [],
   "source": [
    "import psycopg2"
   ]
  },
  {
   "cell_type": "code",
   "execution_count": 71,
   "metadata": {},
   "outputs": [],
   "source": [
    "# Connect to postgres database\n",
    "conn = psycopg2.connect(dbname = \"postgres\", user = \"postgres\")\n",
    "conn.autocommit = True\n",
    "cur = conn.cursor()"
   ]
  },
  {
   "cell_type": "code",
   "execution_count": null,
   "metadata": {},
   "outputs": [],
   "source": [
    "# Create crimes database\n",
    "cur.execute(\"CREATE DATABASE crimes_db;\")\n",
    "conn.autocommit = False"
   ]
  },
  {
   "cell_type": "code",
   "execution_count": 72,
   "metadata": {},
   "outputs": [],
   "source": [
    "conn.close()"
   ]
  },
  {
   "cell_type": "code",
   "execution_count": 2,
   "metadata": {},
   "outputs": [],
   "source": [
    "# Connect to our newley created database\n",
    "conn = psycopg2.connect(dbname = \"crimes_db\", user = \"postgres\")\n",
    "cur = conn.cursor()"
   ]
  },
  {
   "cell_type": "code",
   "execution_count": 81,
   "metadata": {},
   "outputs": [],
   "source": [
    "# Create a schema within our database\n",
    "\n",
    "cur.execute(\"CREATE SCHEMA crimes;\")"
   ]
  },
  {
   "cell_type": "markdown",
   "metadata": {},
   "source": [
    "### Obtaining Column names and sample"
   ]
  },
  {
   "cell_type": "markdown",
   "metadata": {},
   "source": [
    "Let's take a look at our Boston data"
   ]
  },
  {
   "cell_type": "code",
   "execution_count": 3,
   "metadata": {},
   "outputs": [],
   "source": [
    "import csv"
   ]
  },
  {
   "cell_type": "code",
   "execution_count": 4,
   "metadata": {},
   "outputs": [
    {
     "name": "stdout",
     "output_type": "stream",
     "text": [
      "['incident_number', 'offense_code', 'description', 'date', 'day_of_the_week', 'lat', 'long']\n",
      "['1', '619', 'LARCENY ALL OTHERS', '2018-09-02', 'Sunday', '42.35779134', '-71.13937053']\n"
     ]
    }
   ],
   "source": [
    "# Print header and first two rows of our data\n",
    "with open(\"Boston.csv\", \"r\") as file:\n",
    "    reader = csv.reader(file)\n",
    "    col_headers = next(reader)\n",
    "    first_row = next(reader)\n",
    "    print(col_headers)\n",
    "    print(first_row)"
   ]
  },
  {
   "cell_type": "markdown",
   "metadata": {},
   "source": [
    "### Creating an Auxillary Function"
   ]
  },
  {
   "cell_type": "markdown",
   "metadata": {},
   "source": [
    "Let's create a function that will tell us all the different values for each column in our data"
   ]
  },
  {
   "cell_type": "code",
   "execution_count": 5,
   "metadata": {},
   "outputs": [],
   "source": [
    "def get_col_set(csv_filename, col_index):\n",
    "    values = set()\n",
    "    with open(csv_filename, 'r') as file:\n",
    "        next(file)\n",
    "        reader = csv.reader(file)\n",
    "        for row in reader:\n",
    "            values.add(row[col_index])\n",
    "    return values"
   ]
  },
  {
   "cell_type": "code",
   "execution_count": 6,
   "metadata": {},
   "outputs": [
    {
     "name": "stdout",
     "output_type": "stream",
     "text": [
      "7\n"
     ]
    }
   ],
   "source": [
    "print(len(col_headers))"
   ]
  },
  {
   "cell_type": "code",
   "execution_count": 7,
   "metadata": {},
   "outputs": [
    {
     "name": "stdout",
     "output_type": "stream",
     "text": [
      "incident_number      298329\n",
      "offense_code         219\n",
      "description          239\n",
      "date                 1177\n",
      "day_of_the_week      7\n",
      "lat                  18177\n",
      "long                 18177\n"
     ]
    }
   ],
   "source": [
    "for index in range(len(col_headers)):\n",
    "    values = get_col_set(\"Boston.csv\", index)\n",
    "    print(f'{col_headers[index]:20} {len(values)}')"
   ]
  },
  {
   "cell_type": "markdown",
   "metadata": {},
   "source": [
    "### Finding the maximum length"
   ]
  },
  {
   "cell_type": "markdown",
   "metadata": {},
   "source": [
    "Let's compute the maximum length of each value in the `description` column and `offense_code` column."
   ]
  },
  {
   "cell_type": "code",
   "execution_count": 8,
   "metadata": {},
   "outputs": [
    {
     "name": "stdout",
     "output_type": "stream",
     "text": [
      "58\n"
     ]
    }
   ],
   "source": [
    "description_values = get_col_set(\"Boston.csv\", 2)\n",
    "\n",
    "max_len = 0\n",
    "for description in description_values:\n",
    "    if len(description) > max_len:\n",
    "        max_len = len(description)\n",
    "print(max_len)"
   ]
  },
  {
   "cell_type": "code",
   "execution_count": 9,
   "metadata": {},
   "outputs": [
    {
     "name": "stdout",
     "output_type": "stream",
     "text": [
      "4\n"
     ]
    }
   ],
   "source": [
    "offense_values = get_col_set(\"Boston.csv\", 1)\n",
    "\n",
    "max_len = 0\n",
    "for code in offense_values:\n",
    "    if len(code) > max_len:\n",
    "        max_len = len(code)\n",
    "print(max_len)"
   ]
  },
  {
   "cell_type": "markdown",
   "metadata": {},
   "source": [
    "### Creating the Table"
   ]
  },
  {
   "cell_type": "markdown",
   "metadata": {},
   "source": [
    "Let's now create a table to store the Boston crime data. We can see that for `day_of_the_week` there are 7 unique values. For this, we might want to use an `enumerate datatype`. Let's begin."
   ]
  },
  {
   "cell_type": "code",
   "execution_count": 10,
   "metadata": {},
   "outputs": [
    {
     "name": "stdout",
     "output_type": "stream",
     "text": [
      "{'Friday', 'Monday', 'Saturday', 'Tuesday', 'Sunday', 'Wednesday', 'Thursday'}\n"
     ]
    }
   ],
   "source": [
    "print(get_col_set(\"Boston.csv\", 4))"
   ]
  },
  {
   "cell_type": "code",
   "execution_count": 82,
   "metadata": {},
   "outputs": [],
   "source": [
    "cur.execute(\"\"\"CREATE TYPE days AS ENUM \n",
    "                ('Saturday', 'Wednesday', 'Thursday', 'Sunday', 'Friday', 'Monday', 'Tuesday');\"\"\")"
   ]
  },
  {
   "cell_type": "code",
   "execution_count": 11,
   "metadata": {},
   "outputs": [
    {
     "name": "stdout",
     "output_type": "stream",
     "text": [
      "['incident_number', 'offense_code', 'description', 'date', 'day_of_the_week', 'lat', 'long']\n"
     ]
    }
   ],
   "source": [
    "print(col_headers)"
   ]
  },
  {
   "cell_type": "code",
   "execution_count": 12,
   "metadata": {},
   "outputs": [
    {
     "name": "stdout",
     "output_type": "stream",
     "text": [
      "['1', '619', 'LARCENY ALL OTHERS', '2018-09-02', 'Sunday', '42.35779134', '-71.13937053']\n"
     ]
    }
   ],
   "source": [
    "print(first_row)"
   ]
  },
  {
   "cell_type": "markdown",
   "metadata": {},
   "source": [
    "For these remaining columns, what datatypes should we use?\n",
    "\n",
    "* `incident_number` - Because numbers go up to 298329, we'll use the `integer` datatype\n",
    "\n",
    "\n",
    "* `offense_code` - We'll also go with the `smallint` datatype here\n",
    "\n",
    "\n",
    "* `description` - As this is text, and the maximum length is 58. We'll round up and use the `varchar` datatype with a value of 60.\n",
    "\n",
    "\n",
    "* `date` - We'll use the `date` type here, which will allow us to perform sane queries.\n",
    "\n",
    "\n",
    "* `day_of_the_week` - We'll go with our `enumerated data` type. Why? Because because we have a predefined set of values. When we create an enumerated datatype, each possible value is assigned to a 4 byte index within a seperate table. This will ultimately save us memory.\n",
    "\n",
    "\n",
    "* `lat` - Because we're dealing with decimals, we'll go with the `decimal` datatype\n",
    "\n",
    "\n",
    "* `long` - Same as above"
   ]
  },
  {
   "cell_type": "code",
   "execution_count": 83,
   "metadata": {},
   "outputs": [],
   "source": [
    "# Create our boston_crimes table within our new schema\n",
    "try:\n",
    "    cur.execute(\"\"\"CREATE TABLE crimes.boston_crimes (\n",
    "                incident_number integer PRIMARY KEY,\n",
    "                 offense_code smallint,\n",
    "                 description varchar(60),\n",
    "                 date date,\n",
    "                 day_of_the_week days,\n",
    "                 lat decimal,\n",
    "                 long decimal);\"\"\")\n",
    "except Exception as ex:\n",
    "    print(ex)"
   ]
  },
  {
   "cell_type": "code",
   "execution_count": 13,
   "metadata": {},
   "outputs": [],
   "source": [
    "cur.execute(\"SELECT * FROM crimes.boston_crimes LIMIT 10;\")"
   ]
  },
  {
   "cell_type": "code",
   "execution_count": 14,
   "metadata": {},
   "outputs": [
    {
     "name": "stdout",
     "output_type": "stream",
     "text": [
      "Column(name='incident_number', type_code=23)\n",
      "Column(name='offense_code', type_code=21)\n",
      "Column(name='description', type_code=1043)\n",
      "Column(name='date', type_code=1082)\n",
      "Column(name='day_of_the_week', type_code=16468)\n",
      "Column(name='lat', type_code=1700)\n",
      "Column(name='long', type_code=1700)\n"
     ]
    }
   ],
   "source": [
    "for i in cur.description:\n",
    "    print(i)"
   ]
  },
  {
   "cell_type": "code",
   "execution_count": 15,
   "metadata": {},
   "outputs": [],
   "source": [
    "conn.commit()\n",
    "conn.close()"
   ]
  },
  {
   "cell_type": "markdown",
   "metadata": {},
   "source": [
    "### Loading the Data"
   ]
  },
  {
   "cell_type": "markdown",
   "metadata": {},
   "source": [
    "Let's now copy our Boston data into the database. We'll use the `copy_expert` method as below."
   ]
  },
  {
   "cell_type": "code",
   "execution_count": 16,
   "metadata": {},
   "outputs": [],
   "source": [
    "# Connect again to our database\n",
    "conn = psycopg2.connect(dbname = \"crimes_db\", user = \"postgres\")\n",
    "cur = conn.cursor()"
   ]
  },
  {
   "cell_type": "code",
   "execution_count": 21,
   "metadata": {},
   "outputs": [],
   "source": [
    "with open(\"Boston.csv\", \"r\") as f:\n",
    "    cur.copy_expert(\"COPY crimes.boston_crimes FROM STDIN WITH CSV HEADER;\", f)"
   ]
  },
  {
   "cell_type": "code",
   "execution_count": 17,
   "metadata": {},
   "outputs": [],
   "source": [
    "cur.execute(\"SELECT * FROM pg_user;\")"
   ]
  },
  {
   "cell_type": "code",
   "execution_count": 18,
   "metadata": {},
   "outputs": [
    {
     "data": {
      "text/plain": [
       "[('postgres', 10, True, True, True, True, '********', None, None),\n",
       " ('aaronwright', 16384, True, True, False, False, '********', None, None)]"
      ]
     },
     "execution_count": 18,
     "metadata": {},
     "output_type": "execute_result"
    }
   ],
   "source": [
    "cur.fetchall()"
   ]
  },
  {
   "cell_type": "markdown",
   "metadata": {},
   "source": [
    "### Revoking Public Privileges"
   ]
  },
  {
   "cell_type": "markdown",
   "metadata": {},
   "source": [
    "When we created our database `crimes_db` a `public` schema was automatically created, and grants access to this schema via a role/group `public`. \n",
    "\n",
    "We want to revoke all privliges from the `public` group on the `public` schema.\n",
    "\n",
    "We also want to revoke all privliges of `public` on the `crimes_db` database.\n",
    "\n",
    "If we don't do this, a user will inherit privileges from the `public` role even if we restrict their privileges and will be able to do stuff with the `public` schema (e.g. create objects)"
   ]
  },
  {
   "cell_type": "code",
   "execution_count": 99,
   "metadata": {},
   "outputs": [],
   "source": [
    "cur.execute(\"REVOKE ALL ON SCHEMA public FROM public;\")"
   ]
  },
  {
   "cell_type": "code",
   "execution_count": 100,
   "metadata": {},
   "outputs": [],
   "source": [
    "cur.execute(\"REVOKE ALL ON DATABASE crimes_db FROM public;\")"
   ]
  },
  {
   "cell_type": "markdown",
   "metadata": {},
   "source": [
    "### Creating User Groups"
   ]
  },
  {
   "cell_type": "markdown",
   "metadata": {},
   "source": [
    "Let's now setup some groups. Mainly we want `readonly` and `readwrite` groups setup."
   ]
  },
  {
   "cell_type": "code",
   "execution_count": 26,
   "metadata": {},
   "outputs": [],
   "source": [
    "# Create our groups/roles\n",
    "cur.execute(\"CREATE GROUP readonly NOLOGIN;\")\n",
    "cur.execute(\"CREATE GROUP readwrite NOLOGIN;\")"
   ]
  },
  {
   "cell_type": "code",
   "execution_count": 27,
   "metadata": {},
   "outputs": [],
   "source": [
    "# Grant our groups/roles connections prviliges to our database\n",
    "cur.execute(\"GRANT CONNECT ON DATABASE crimes_db TO readonly;\")\n",
    "cur.execute(\"GRANT CONNECT ON DATABASE crimes_db TO readwrite;\")"
   ]
  },
  {
   "cell_type": "code",
   "execution_count": 28,
   "metadata": {},
   "outputs": [],
   "source": [
    "# Grant usage privilages to our schema\n",
    "cur.execute(\"GRANT USAGE ON SCHEMA crimes TO readonly;\")\n",
    "cur.execute(\"GRANT USAGE ON SCHEMA crimes TO readwrite\")"
   ]
  },
  {
   "cell_type": "code",
   "execution_count": 31,
   "metadata": {},
   "outputs": [],
   "source": [
    "# Grant prvilieges to our groups\n",
    "cur.execute(\"GRANT SELECT ON ALL TABLES IN SCHEMA CRIMES TO readonly;\")\n",
    "cur.execute(\"GRANT SELECT, INSERT, DELETE, UPDATE ON ALL TABLES IN SCHEMA CRIMES TO readwrite;\")"
   ]
  },
  {
   "cell_type": "code",
   "execution_count": 34,
   "metadata": {},
   "outputs": [],
   "source": [
    "# Check our privileges are correct\n",
    "cur.execute(\"SELECT grantor, grantee, privilege_type FROM information_schema.table_privileges WHERE table_name = 'boston_crimes';\")"
   ]
  },
  {
   "cell_type": "code",
   "execution_count": 35,
   "metadata": {},
   "outputs": [
    {
     "data": {
      "text/plain": [
       "[('postgres', 'postgres', 'INSERT'),\n",
       " ('postgres', 'postgres', 'SELECT'),\n",
       " ('postgres', 'postgres', 'UPDATE'),\n",
       " ('postgres', 'postgres', 'DELETE'),\n",
       " ('postgres', 'postgres', 'TRUNCATE'),\n",
       " ('postgres', 'postgres', 'REFERENCES'),\n",
       " ('postgres', 'postgres', 'TRIGGER'),\n",
       " ('postgres', 'readonly', 'SELECT'),\n",
       " ('postgres', 'readwrite', 'INSERT'),\n",
       " ('postgres', 'readwrite', 'SELECT'),\n",
       " ('postgres', 'readwrite', 'UPDATE'),\n",
       " ('postgres', 'readwrite', 'DELETE')]"
      ]
     },
     "execution_count": 35,
     "metadata": {},
     "output_type": "execute_result"
    }
   ],
   "source": [
    "cur.fetchall()"
   ]
  },
  {
   "cell_type": "markdown",
   "metadata": {},
   "source": [
    "### Creating Users"
   ]
  },
  {
   "cell_type": "markdown",
   "metadata": {},
   "source": [
    "Let's now create one user in each group, giving them a password."
   ]
  },
  {
   "cell_type": "code",
   "execution_count": 36,
   "metadata": {},
   "outputs": [],
   "source": [
    "# Set up users\n",
    "cur.execute(\"CREATE USER data_analyst WITH PASSWORD 'secret1';\")\n",
    "cur.execute(\"CREATE USER data_scientist WITH PASSWORD 'secret2';\")"
   ]
  },
  {
   "cell_type": "code",
   "execution_count": 37,
   "metadata": {},
   "outputs": [],
   "source": [
    "# Assign users to groups\n",
    "cur.execute(\"GRANT readonly TO data_analyst;\")\n",
    "cur.execute(\"GRANT readwrite TO data_scientist;\")"
   ]
  },
  {
   "cell_type": "code",
   "execution_count": 38,
   "metadata": {},
   "outputs": [],
   "source": [
    "conn.commit()\n",
    "conn.close()"
   ]
  },
  {
   "cell_type": "markdown",
   "metadata": {},
   "source": [
    "### Testing"
   ]
  },
  {
   "cell_type": "markdown",
   "metadata": {},
   "source": [
    "Let's now test we've set everything up correctly"
   ]
  },
  {
   "cell_type": "code",
   "execution_count": 42,
   "metadata": {},
   "outputs": [],
   "source": [
    "conn = psycopg2.connect(dbname = \"crimes_db\", user = \"postgres\")"
   ]
  },
  {
   "cell_type": "code",
   "execution_count": 43,
   "metadata": {},
   "outputs": [],
   "source": [
    "cur = conn.cursor()"
   ]
  },
  {
   "cell_type": "code",
   "execution_count": 76,
   "metadata": {},
   "outputs": [
    {
     "data": {
      "text/plain": [
       "[('readonly', 'SELECT'),\n",
       " ('readwrite', 'INSERT'),\n",
       " ('readwrite', 'SELECT'),\n",
       " ('readwrite', 'UPDATE'),\n",
       " ('readwrite', 'DELETE')]"
      ]
     },
     "execution_count": 76,
     "metadata": {},
     "output_type": "execute_result"
    }
   ],
   "source": [
    "# Check our roles have the right prvileges\n",
    "cur.execute(\"\"\"SELECT grantee, privilege_type\n",
    "                FROM information_schema.table_privileges\n",
    "                WHERE grantee = 'readwrite' OR grantee = 'readonly';\"\"\")\n",
    "cur.fetchall()"
   ]
  },
  {
   "cell_type": "code",
   "execution_count": 86,
   "metadata": {},
   "outputs": [],
   "source": [
    "conn.rollback()"
   ]
  },
  {
   "cell_type": "code",
   "execution_count": null,
   "metadata": {},
   "outputs": [],
   "source": []
  }
 ],
 "metadata": {
  "kernelspec": {
   "display_name": "Python 3",
   "language": "python",
   "name": "python3"
  },
  "language_info": {
   "codemirror_mode": {
    "name": "ipython",
    "version": 3
   },
   "file_extension": ".py",
   "mimetype": "text/x-python",
   "name": "python",
   "nbconvert_exporter": "python",
   "pygments_lexer": "ipython3",
   "version": "3.8.3"
  }
 },
 "nbformat": 4,
 "nbformat_minor": 4
}
