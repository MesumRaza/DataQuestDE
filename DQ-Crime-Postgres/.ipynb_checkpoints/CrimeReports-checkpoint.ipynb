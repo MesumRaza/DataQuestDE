{
 "cells": [
  {
   "cell_type": "markdown",
   "metadata": {},
   "source": [
    "# Building a database for Crime Reports"
   ]
  },
  {
   "cell_type": "markdown",
   "metadata": {},
   "source": [
    "In this project, we will build a database for storing data related with crimes that occurred in Boston. We'll be using Postgres."
   ]
  },
  {
   "cell_type": "markdown",
   "metadata": {},
   "source": [
    "### Goals"
   ]
  },
  {
   "cell_type": "markdown",
   "metadata": {},
   "source": [
    "The goal of this guided project is for you to create a database named `crimes_db` with a table – `boston_crimes` – with appropriate datatypes for storing the data from the `boston.csv` file. \n",
    "\n",
    "We will be creating the table inside a schema named `crimes`. \n",
    "\n",
    "We will also create the `readonly` and `readwrite` groups with the appropriate privileges as we have discussed in this course. Finally, you will also need to create one user for each of these groups."
   ]
  },
  {
   "cell_type": "markdown",
   "metadata": {},
   "source": [
    "<img src=\"goal.png\">"
   ]
  },
  {
   "cell_type": "markdown",
   "metadata": {},
   "source": [
    "### Creating Crimes Database"
   ]
  },
  {
   "cell_type": "markdown",
   "metadata": {},
   "source": [
    "Let's start by creating the `crimes_db` database. We'll first connect to the `dq` database with user `dq` when connecting to the postgres server. We'll create our database, then connect to and setup the scheme - `crimes`"
   ]
  },
  {
   "cell_type": "code",
   "execution_count": 66,
   "metadata": {},
   "outputs": [],
   "source": [
    "import psycopg2\n",
    "\n",
    "from psycopg2.extensions import AsIs"
   ]
  },
  {
   "cell_type": "code",
   "execution_count": 2,
   "metadata": {},
   "outputs": [],
   "source": [
    "# Connect to postgres database\n",
    "conn = psycopg2.connect(dbname = \"postgres\", user = \"postgres\")\n",
    "conn.autocommit = True\n",
    "cur = conn.cursor()"
   ]
  },
  {
   "cell_type": "code",
   "execution_count": 3,
   "metadata": {},
   "outputs": [
    {
     "ename": "DuplicateDatabase",
     "evalue": "database \"crimes_db\" already exists\n",
     "output_type": "error",
     "traceback": [
      "\u001b[0;31m---------------------------------------------------------------------------\u001b[0m",
      "\u001b[0;31mDuplicateDatabase\u001b[0m                         Traceback (most recent call last)",
      "\u001b[0;32m<ipython-input-3-e3adb3a10e5a>\u001b[0m in \u001b[0;36m<module>\u001b[0;34m\u001b[0m\n\u001b[1;32m      1\u001b[0m \u001b[0;31m# Create crimes database\u001b[0m\u001b[0;34m\u001b[0m\u001b[0;34m\u001b[0m\u001b[0;34m\u001b[0m\u001b[0m\n\u001b[0;32m----> 2\u001b[0;31m \u001b[0mcur\u001b[0m\u001b[0;34m.\u001b[0m\u001b[0mexecute\u001b[0m\u001b[0;34m(\u001b[0m\u001b[0;34m\"CREATE DATABASE crimes_db;\"\u001b[0m\u001b[0;34m)\u001b[0m\u001b[0;34m\u001b[0m\u001b[0;34m\u001b[0m\u001b[0m\n\u001b[0m\u001b[1;32m      3\u001b[0m \u001b[0mconn\u001b[0m\u001b[0;34m.\u001b[0m\u001b[0mautocommit\u001b[0m \u001b[0;34m=\u001b[0m \u001b[0;32mFalse\u001b[0m\u001b[0;34m\u001b[0m\u001b[0;34m\u001b[0m\u001b[0m\n",
      "\u001b[0;31mDuplicateDatabase\u001b[0m: database \"crimes_db\" already exists\n"
     ]
    }
   ],
   "source": [
    "# Create crimes database\n",
    "cur.execute(\"CREATE DATABASE crimes_db;\")\n",
    "conn.autocommit = False"
   ]
  },
  {
   "cell_type": "code",
   "execution_count": 4,
   "metadata": {},
   "outputs": [],
   "source": [
    "conn.close()"
   ]
  },
  {
   "cell_type": "code",
   "execution_count": 5,
   "metadata": {},
   "outputs": [],
   "source": [
    "# Connect to our newley created database\n",
    "conn = psycopg2.connect(dbname = \"crimes_db\", user = \"postgres\")\n",
    "cur = conn.cursor()"
   ]
  },
  {
   "cell_type": "code",
   "execution_count": 6,
   "metadata": {},
   "outputs": [
    {
     "ename": "DuplicateSchema",
     "evalue": "schema \"crimes\" already exists\n",
     "output_type": "error",
     "traceback": [
      "\u001b[0;31m---------------------------------------------------------------------------\u001b[0m",
      "\u001b[0;31mDuplicateSchema\u001b[0m                           Traceback (most recent call last)",
      "\u001b[0;32m<ipython-input-6-b999a8e21617>\u001b[0m in \u001b[0;36m<module>\u001b[0;34m\u001b[0m\n\u001b[1;32m      1\u001b[0m \u001b[0;31m# Create a schema within our database\u001b[0m\u001b[0;34m\u001b[0m\u001b[0;34m\u001b[0m\u001b[0;34m\u001b[0m\u001b[0m\n\u001b[1;32m      2\u001b[0m \u001b[0;34m\u001b[0m\u001b[0m\n\u001b[0;32m----> 3\u001b[0;31m \u001b[0mcur\u001b[0m\u001b[0;34m.\u001b[0m\u001b[0mexecute\u001b[0m\u001b[0;34m(\u001b[0m\u001b[0;34m\"CREATE SCHEMA crimes;\"\u001b[0m\u001b[0;34m)\u001b[0m\u001b[0;34m\u001b[0m\u001b[0;34m\u001b[0m\u001b[0m\n\u001b[0m",
      "\u001b[0;31mDuplicateSchema\u001b[0m: schema \"crimes\" already exists\n"
     ]
    }
   ],
   "source": [
    "# Create a schema within our database\n",
    "\n",
    "cur.execute(\"CREATE SCHEMA crimes;\")"
   ]
  },
  {
   "cell_type": "markdown",
   "metadata": {},
   "source": [
    "### Obtaining Column names and sample"
   ]
  },
  {
   "cell_type": "markdown",
   "metadata": {},
   "source": [
    "Let's take a look at our Boston data"
   ]
  },
  {
   "cell_type": "code",
   "execution_count": 7,
   "metadata": {},
   "outputs": [],
   "source": [
    "import csv"
   ]
  },
  {
   "cell_type": "code",
   "execution_count": 8,
   "metadata": {},
   "outputs": [
    {
     "name": "stdout",
     "output_type": "stream",
     "text": [
      "['incident_number', 'offense_code', 'description', 'date', 'day_of_the_week', 'lat', 'long']\n",
      "['1', '619', 'LARCENY ALL OTHERS', '2018-09-02', 'Sunday', '42.35779134', '-71.13937053']\n"
     ]
    }
   ],
   "source": [
    "# Print header and first two rows of our data\n",
    "with open(\"Boston.csv\", \"r\") as file:\n",
    "    reader = csv.reader(file)\n",
    "    col_headers = next(reader)\n",
    "    first_row = next(reader)\n",
    "    print(col_headers)\n",
    "    print(first_row)"
   ]
  },
  {
   "cell_type": "markdown",
   "metadata": {},
   "source": [
    "### Creating an Auxillary Function"
   ]
  },
  {
   "cell_type": "markdown",
   "metadata": {},
   "source": [
    "Let's create a function that will tell us all the different values for each column in our data"
   ]
  },
  {
   "cell_type": "code",
   "execution_count": 9,
   "metadata": {},
   "outputs": [],
   "source": [
    "def get_col_set(csv_filename, col_index):\n",
    "    values = set()\n",
    "    with open(csv_filename, 'r') as file:\n",
    "        next(file)\n",
    "        reader = csv.reader(file)\n",
    "        for row in reader:\n",
    "            values.add(row[col_index])\n",
    "    return values"
   ]
  },
  {
   "cell_type": "code",
   "execution_count": 10,
   "metadata": {},
   "outputs": [
    {
     "name": "stdout",
     "output_type": "stream",
     "text": [
      "7\n"
     ]
    }
   ],
   "source": [
    "print(len(col_headers))"
   ]
  },
  {
   "cell_type": "code",
   "execution_count": 11,
   "metadata": {},
   "outputs": [
    {
     "name": "stdout",
     "output_type": "stream",
     "text": [
      "incident_number      298329\n",
      "offense_code         219\n",
      "description          239\n",
      "date                 1177\n",
      "day_of_the_week      7\n",
      "lat                  18177\n",
      "long                 18177\n"
     ]
    }
   ],
   "source": [
    "for index in range(len(col_headers)):\n",
    "    values = get_col_set(\"Boston.csv\", index)\n",
    "    print(f'{col_headers[index]:20} {len(values)}')"
   ]
  },
  {
   "cell_type": "markdown",
   "metadata": {},
   "source": [
    "### Finding the maximum length"
   ]
  },
  {
   "cell_type": "markdown",
   "metadata": {},
   "source": [
    "Let's compute the maximum length of each value in the `description` column and `offense_code` column."
   ]
  },
  {
   "cell_type": "code",
   "execution_count": 12,
   "metadata": {},
   "outputs": [
    {
     "name": "stdout",
     "output_type": "stream",
     "text": [
      "58\n"
     ]
    }
   ],
   "source": [
    "description_values = get_col_set(\"Boston.csv\", 2)\n",
    "\n",
    "max_len = 0\n",
    "for description in description_values:\n",
    "    if len(description) > max_len:\n",
    "        max_len = len(description)\n",
    "print(max_len)"
   ]
  },
  {
   "cell_type": "code",
   "execution_count": 13,
   "metadata": {},
   "outputs": [
    {
     "name": "stdout",
     "output_type": "stream",
     "text": [
      "4\n"
     ]
    }
   ],
   "source": [
    "offense_values = get_col_set(\"Boston.csv\", 1)\n",
    "\n",
    "max_len = 0\n",
    "for code in offense_values:\n",
    "    if len(code) > max_len:\n",
    "        max_len = len(code)\n",
    "print(max_len)"
   ]
  },
  {
   "cell_type": "markdown",
   "metadata": {},
   "source": [
    "### Creating the Table"
   ]
  },
  {
   "cell_type": "markdown",
   "metadata": {},
   "source": [
    "Let's now create a table to store the Boston crime data. We can see that for `day_of_the_week` there are 7 unique values. For this, we might want to use an `enumerate datatype`. Let's begin."
   ]
  },
  {
   "cell_type": "code",
   "execution_count": 14,
   "metadata": {},
   "outputs": [
    {
     "name": "stdout",
     "output_type": "stream",
     "text": [
      "{'Tuesday', 'Saturday', 'Sunday', 'Friday', 'Monday', 'Thursday', 'Wednesday'}\n"
     ]
    }
   ],
   "source": [
    "print(get_col_set(\"Boston.csv\", 4))"
   ]
  },
  {
   "cell_type": "code",
   "execution_count": 17,
   "metadata": {},
   "outputs": [
    {
     "ename": "DuplicateObject",
     "evalue": "type \"days\" already exists\n",
     "output_type": "error",
     "traceback": [
      "\u001b[0;31m---------------------------------------------------------------------------\u001b[0m",
      "\u001b[0;31mDuplicateObject\u001b[0m                           Traceback (most recent call last)",
      "\u001b[0;32m<ipython-input-17-9936d7d08eac>\u001b[0m in \u001b[0;36m<module>\u001b[0;34m\u001b[0m\n\u001b[0;32m----> 1\u001b[0;31m cur.execute(\"\"\"CREATE TYPE days AS ENUM \n\u001b[0m\u001b[1;32m      2\u001b[0m                 ('Saturday', 'Wednesday', 'Thursday', 'Sunday', 'Friday', 'Monday', 'Tuesday');\"\"\")\n",
      "\u001b[0;31mDuplicateObject\u001b[0m: type \"days\" already exists\n"
     ]
    }
   ],
   "source": [
    "cur.execute(\"\"\"CREATE TYPE days AS ENUM \n",
    "                ('Saturday', 'Wednesday', 'Thursday', 'Sunday', 'Friday', 'Monday', 'Tuesday');\"\"\")"
   ]
  },
  {
   "cell_type": "code",
   "execution_count": 18,
   "metadata": {},
   "outputs": [
    {
     "name": "stdout",
     "output_type": "stream",
     "text": [
      "['incident_number', 'offense_code', 'description', 'date', 'day_of_the_week', 'lat', 'long']\n"
     ]
    }
   ],
   "source": [
    "print(col_headers)"
   ]
  },
  {
   "cell_type": "code",
   "execution_count": 19,
   "metadata": {},
   "outputs": [
    {
     "name": "stdout",
     "output_type": "stream",
     "text": [
      "['1', '619', 'LARCENY ALL OTHERS', '2018-09-02', 'Sunday', '42.35779134', '-71.13937053']\n"
     ]
    }
   ],
   "source": [
    "print(first_row)"
   ]
  },
  {
   "cell_type": "markdown",
   "metadata": {},
   "source": [
    "For these remaining columns, what datatypes should we use?\n",
    "\n",
    "* `incident_number` - Because numbers go up to 298329, we'll use the `integer` datatype\n",
    "\n",
    "\n",
    "* `offense_code` - We'll also go with the `smallint` datatype here\n",
    "\n",
    "\n",
    "* `description` - As this is text, and the maximum length is 58. We'll round up and use the `varchar` datatype with a value of 60.\n",
    "\n",
    "\n",
    "* `date` - We'll use the `date` type here, which will allow us to perform sane queries.\n",
    "\n",
    "\n",
    "* `day_of_the_week` - We'll go with our `enumerated data` type. Why? Because because we have a predefined set of values. When we create an enumerated datatype, each possible value is assigned to a 4 byte index within a seperate table. This will ultimately save us memory.\n",
    "\n",
    "\n",
    "* `lat` - Because we're dealing with decimals, we'll go with the `decimal` datatype\n",
    "\n",
    "\n",
    "* `long` - Same as above"
   ]
  },
  {
   "cell_type": "code",
   "execution_count": 20,
   "metadata": {},
   "outputs": [
    {
     "name": "stdout",
     "output_type": "stream",
     "text": [
      "current transaction is aborted, commands ignored until end of transaction block\n",
      "\n"
     ]
    }
   ],
   "source": [
    "# Create our boston_crimes table within our new schema\n",
    "try:\n",
    "    cur.execute(\"\"\"CREATE TABLE crimes.boston_crimes (\n",
    "                incident_number integer PRIMARY KEY,\n",
    "                 offense_code smallint,\n",
    "                 description varchar(60),\n",
    "                 date date,\n",
    "                 day_of_the_week days,\n",
    "                 lat decimal,\n",
    "                 long decimal);\"\"\")\n",
    "except Exception as ex:\n",
    "    print(ex)"
   ]
  },
  {
   "cell_type": "code",
   "execution_count": 24,
   "metadata": {},
   "outputs": [],
   "source": [
    "cur.execute(\"SELECT * FROM crimes.boston_crimes LIMIT 10;\")"
   ]
  },
  {
   "cell_type": "code",
   "execution_count": 25,
   "metadata": {},
   "outputs": [
    {
     "name": "stdout",
     "output_type": "stream",
     "text": [
      "Column(name='incident_number', type_code=23)\n",
      "Column(name='offense_code', type_code=21)\n",
      "Column(name='description', type_code=1043)\n",
      "Column(name='date', type_code=1082)\n",
      "Column(name='day_of_the_week', type_code=16468)\n",
      "Column(name='lat', type_code=1700)\n",
      "Column(name='long', type_code=1700)\n"
     ]
    }
   ],
   "source": [
    "for i in cur.description:\n",
    "    print(i)"
   ]
  },
  {
   "cell_type": "code",
   "execution_count": 26,
   "metadata": {},
   "outputs": [],
   "source": [
    "conn.commit()\n",
    "conn.close()"
   ]
  },
  {
   "cell_type": "markdown",
   "metadata": {},
   "source": [
    "### Loading the Data"
   ]
  },
  {
   "cell_type": "markdown",
   "metadata": {},
   "source": [
    "Let's now copy our Boston data into the database. We'll use the `copy_expert` method as below."
   ]
  },
  {
   "cell_type": "code",
   "execution_count": 28,
   "metadata": {},
   "outputs": [],
   "source": [
    "# Connect again to our database\n",
    "conn = psycopg2.connect(dbname = \"crimes_db\", user = \"postgres\")\n",
    "cur = conn.cursor()"
   ]
  },
  {
   "cell_type": "code",
   "execution_count": 29,
   "metadata": {},
   "outputs": [
    {
     "ename": "UniqueViolation",
     "evalue": "duplicate key value violates unique constraint \"boston_crimes_pkey\"\nDETAIL:  Key (incident_number)=(1) already exists.\nCONTEXT:  COPY boston_crimes, line 2\n",
     "output_type": "error",
     "traceback": [
      "\u001b[0;31m---------------------------------------------------------------------------\u001b[0m",
      "\u001b[0;31mUniqueViolation\u001b[0m                           Traceback (most recent call last)",
      "\u001b[0;32m<ipython-input-29-8fadc5828ef5>\u001b[0m in \u001b[0;36m<module>\u001b[0;34m\u001b[0m\n\u001b[1;32m      1\u001b[0m \u001b[0;32mwith\u001b[0m \u001b[0mopen\u001b[0m\u001b[0;34m(\u001b[0m\u001b[0;34m\"Boston.csv\"\u001b[0m\u001b[0;34m,\u001b[0m \u001b[0;34m\"r\"\u001b[0m\u001b[0;34m)\u001b[0m \u001b[0;32mas\u001b[0m \u001b[0mf\u001b[0m\u001b[0;34m:\u001b[0m\u001b[0;34m\u001b[0m\u001b[0;34m\u001b[0m\u001b[0m\n\u001b[0;32m----> 2\u001b[0;31m     \u001b[0mcur\u001b[0m\u001b[0;34m.\u001b[0m\u001b[0mcopy_expert\u001b[0m\u001b[0;34m(\u001b[0m\u001b[0;34m\"COPY crimes.boston_crimes FROM STDIN WITH CSV HEADER;\"\u001b[0m\u001b[0;34m,\u001b[0m \u001b[0mf\u001b[0m\u001b[0;34m)\u001b[0m\u001b[0;34m\u001b[0m\u001b[0;34m\u001b[0m\u001b[0m\n\u001b[0m",
      "\u001b[0;31mUniqueViolation\u001b[0m: duplicate key value violates unique constraint \"boston_crimes_pkey\"\nDETAIL:  Key (incident_number)=(1) already exists.\nCONTEXT:  COPY boston_crimes, line 2\n"
     ]
    }
   ],
   "source": [
    "with open(\"Boston.csv\", \"r\") as f:\n",
    "    cur.copy_expert(\"COPY crimes.boston_crimes FROM STDIN WITH CSV HEADER;\", f)"
   ]
  },
  {
   "cell_type": "code",
   "execution_count": 32,
   "metadata": {},
   "outputs": [],
   "source": [
    "cur.execute(\"SELECT * FROM pg_user;\")"
   ]
  },
  {
   "cell_type": "code",
   "execution_count": 33,
   "metadata": {},
   "outputs": [
    {
     "data": {
      "text/plain": [
       "[('postgres', 10, True, True, True, True, '********', None, None),\n",
       " ('aaronwright', 16384, True, True, False, False, '********', None, None),\n",
       " ('data_analyst', 16493, False, False, False, False, '********', None, None),\n",
       " ('data_scientist', 16494, False, False, False, False, '********', None, None)]"
      ]
     },
     "execution_count": 33,
     "metadata": {},
     "output_type": "execute_result"
    }
   ],
   "source": [
    "cur.fetchall()"
   ]
  },
  {
   "cell_type": "markdown",
   "metadata": {},
   "source": [
    "### Revoking Public Privileges"
   ]
  },
  {
   "cell_type": "markdown",
   "metadata": {},
   "source": [
    "When we created our database `crimes_db` a `public` schema was automatically created, and grants access to this schema via a role/group `public`. \n",
    "\n",
    "We want to revoke all privliges from the `public` group on the `public` schema.\n",
    "\n",
    "We also want to revoke all privliges of `public` on the `crimes_db` database.\n",
    "\n",
    "If we don't do this, a user will inherit privileges from the `public` role even if we restrict their privileges and will be able to do stuff with the `public` schema (e.g. create objects)"
   ]
  },
  {
   "cell_type": "code",
   "execution_count": 34,
   "metadata": {},
   "outputs": [],
   "source": [
    "cur.execute(\"REVOKE ALL ON SCHEMA public FROM public;\")"
   ]
  },
  {
   "cell_type": "code",
   "execution_count": 35,
   "metadata": {},
   "outputs": [],
   "source": [
    "cur.execute(\"REVOKE ALL ON DATABASE crimes_db FROM public;\")"
   ]
  },
  {
   "cell_type": "markdown",
   "metadata": {},
   "source": [
    "### Creating User Groups"
   ]
  },
  {
   "cell_type": "markdown",
   "metadata": {},
   "source": [
    "Let's now setup some groups. Mainly we want `readonly` and `readwrite` groups setup."
   ]
  },
  {
   "cell_type": "code",
   "execution_count": 36,
   "metadata": {},
   "outputs": [
    {
     "ename": "DuplicateObject",
     "evalue": "role \"readonly\" already exists\n",
     "output_type": "error",
     "traceback": [
      "\u001b[0;31m---------------------------------------------------------------------------\u001b[0m",
      "\u001b[0;31mDuplicateObject\u001b[0m                           Traceback (most recent call last)",
      "\u001b[0;32m<ipython-input-36-e4ec6e9e2462>\u001b[0m in \u001b[0;36m<module>\u001b[0;34m\u001b[0m\n\u001b[1;32m      1\u001b[0m \u001b[0;31m# Create our groups/roles\u001b[0m\u001b[0;34m\u001b[0m\u001b[0;34m\u001b[0m\u001b[0;34m\u001b[0m\u001b[0m\n\u001b[0;32m----> 2\u001b[0;31m \u001b[0mcur\u001b[0m\u001b[0;34m.\u001b[0m\u001b[0mexecute\u001b[0m\u001b[0;34m(\u001b[0m\u001b[0;34m\"CREATE GROUP readonly NOLOGIN;\"\u001b[0m\u001b[0;34m)\u001b[0m\u001b[0;34m\u001b[0m\u001b[0;34m\u001b[0m\u001b[0m\n\u001b[0m\u001b[1;32m      3\u001b[0m \u001b[0mcur\u001b[0m\u001b[0;34m.\u001b[0m\u001b[0mexecute\u001b[0m\u001b[0;34m(\u001b[0m\u001b[0;34m\"CREATE GROUP readwrite NOLOGIN;\"\u001b[0m\u001b[0;34m)\u001b[0m\u001b[0;34m\u001b[0m\u001b[0;34m\u001b[0m\u001b[0m\n",
      "\u001b[0;31mDuplicateObject\u001b[0m: role \"readonly\" already exists\n"
     ]
    }
   ],
   "source": [
    "# Create our groups/roles\n",
    "cur.execute(\"CREATE GROUP readonly NOLOGIN;\")\n",
    "cur.execute(\"CREATE GROUP readwrite NOLOGIN;\")"
   ]
  },
  {
   "cell_type": "code",
   "execution_count": 39,
   "metadata": {},
   "outputs": [],
   "source": [
    "# Grant our groups/roles connections prviliges to our database\n",
    "cur.execute(\"GRANT CONNECT ON DATABASE crimes_db TO readonly;\")\n",
    "cur.execute(\"GRANT CONNECT ON DATABASE crimes_db TO readwrite;\")"
   ]
  },
  {
   "cell_type": "code",
   "execution_count": 40,
   "metadata": {},
   "outputs": [],
   "source": [
    "# Grant usage privilages to our schema\n",
    "cur.execute(\"GRANT USAGE ON SCHEMA crimes TO readonly;\")\n",
    "cur.execute(\"GRANT USAGE ON SCHEMA crimes TO readwrite\")"
   ]
  },
  {
   "cell_type": "code",
   "execution_count": 41,
   "metadata": {},
   "outputs": [],
   "source": [
    "# Grant prvilieges to our groups\n",
    "cur.execute(\"GRANT SELECT ON ALL TABLES IN SCHEMA CRIMES TO readonly;\")\n",
    "cur.execute(\"GRANT SELECT, INSERT, DELETE, UPDATE ON ALL TABLES IN SCHEMA CRIMES TO readwrite;\")"
   ]
  },
  {
   "cell_type": "code",
   "execution_count": 42,
   "metadata": {},
   "outputs": [],
   "source": [
    "# Check our privileges are correct\n",
    "cur.execute(\"SELECT grantor, grantee, privilege_type FROM information_schema.table_privileges WHERE table_name = 'boston_crimes';\")"
   ]
  },
  {
   "cell_type": "code",
   "execution_count": 43,
   "metadata": {},
   "outputs": [
    {
     "data": {
      "text/plain": [
       "[('postgres', 'postgres', 'INSERT'),\n",
       " ('postgres', 'postgres', 'SELECT'),\n",
       " ('postgres', 'postgres', 'UPDATE'),\n",
       " ('postgres', 'postgres', 'DELETE'),\n",
       " ('postgres', 'postgres', 'TRUNCATE'),\n",
       " ('postgres', 'postgres', 'REFERENCES'),\n",
       " ('postgres', 'postgres', 'TRIGGER'),\n",
       " ('postgres', 'readonly', 'SELECT'),\n",
       " ('postgres', 'readwrite', 'INSERT'),\n",
       " ('postgres', 'readwrite', 'SELECT'),\n",
       " ('postgres', 'readwrite', 'UPDATE'),\n",
       " ('postgres', 'readwrite', 'DELETE')]"
      ]
     },
     "execution_count": 43,
     "metadata": {},
     "output_type": "execute_result"
    }
   ],
   "source": [
    "cur.fetchall()"
   ]
  },
  {
   "cell_type": "markdown",
   "metadata": {},
   "source": [
    "### Creating Users"
   ]
  },
  {
   "cell_type": "markdown",
   "metadata": {},
   "source": [
    "Let's now create one user in each group, giving them a password."
   ]
  },
  {
   "cell_type": "code",
   "execution_count": 44,
   "metadata": {},
   "outputs": [
    {
     "ename": "DuplicateObject",
     "evalue": "role \"data_analyst\" already exists\n",
     "output_type": "error",
     "traceback": [
      "\u001b[0;31m---------------------------------------------------------------------------\u001b[0m",
      "\u001b[0;31mDuplicateObject\u001b[0m                           Traceback (most recent call last)",
      "\u001b[0;32m<ipython-input-44-290de5301c01>\u001b[0m in \u001b[0;36m<module>\u001b[0;34m\u001b[0m\n\u001b[1;32m      1\u001b[0m \u001b[0;31m# Set up users\u001b[0m\u001b[0;34m\u001b[0m\u001b[0;34m\u001b[0m\u001b[0;34m\u001b[0m\u001b[0m\n\u001b[0;32m----> 2\u001b[0;31m \u001b[0mcur\u001b[0m\u001b[0;34m.\u001b[0m\u001b[0mexecute\u001b[0m\u001b[0;34m(\u001b[0m\u001b[0;34m\"CREATE USER data_analyst WITH PASSWORD 'secret1';\"\u001b[0m\u001b[0;34m)\u001b[0m\u001b[0;34m\u001b[0m\u001b[0;34m\u001b[0m\u001b[0m\n\u001b[0m\u001b[1;32m      3\u001b[0m \u001b[0mcur\u001b[0m\u001b[0;34m.\u001b[0m\u001b[0mexecute\u001b[0m\u001b[0;34m(\u001b[0m\u001b[0;34m\"CREATE USER data_scientist WITH PASSWORD 'secret2';\"\u001b[0m\u001b[0;34m)\u001b[0m\u001b[0;34m\u001b[0m\u001b[0;34m\u001b[0m\u001b[0m\n",
      "\u001b[0;31mDuplicateObject\u001b[0m: role \"data_analyst\" already exists\n"
     ]
    }
   ],
   "source": [
    "# Set up users\n",
    "cur.execute(\"CREATE USER data_analyst WITH PASSWORD 'secret1';\")\n",
    "cur.execute(\"CREATE USER data_scientist WITH PASSWORD 'secret2';\")"
   ]
  },
  {
   "cell_type": "code",
   "execution_count": 45,
   "metadata": {},
   "outputs": [
    {
     "ename": "InFailedSqlTransaction",
     "evalue": "current transaction is aborted, commands ignored until end of transaction block\n",
     "output_type": "error",
     "traceback": [
      "\u001b[0;31m---------------------------------------------------------------------------\u001b[0m",
      "\u001b[0;31mInFailedSqlTransaction\u001b[0m                    Traceback (most recent call last)",
      "\u001b[0;32m<ipython-input-45-cf77c6b5aef6>\u001b[0m in \u001b[0;36m<module>\u001b[0;34m\u001b[0m\n\u001b[1;32m      1\u001b[0m \u001b[0;31m# Assign users to groups\u001b[0m\u001b[0;34m\u001b[0m\u001b[0;34m\u001b[0m\u001b[0;34m\u001b[0m\u001b[0m\n\u001b[0;32m----> 2\u001b[0;31m \u001b[0mcur\u001b[0m\u001b[0;34m.\u001b[0m\u001b[0mexecute\u001b[0m\u001b[0;34m(\u001b[0m\u001b[0;34m\"GRANT readonly TO data_analyst;\"\u001b[0m\u001b[0;34m)\u001b[0m\u001b[0;34m\u001b[0m\u001b[0;34m\u001b[0m\u001b[0m\n\u001b[0m\u001b[1;32m      3\u001b[0m \u001b[0mcur\u001b[0m\u001b[0;34m.\u001b[0m\u001b[0mexecute\u001b[0m\u001b[0;34m(\u001b[0m\u001b[0;34m\"GRANT readwrite TO data_scientist;\"\u001b[0m\u001b[0;34m)\u001b[0m\u001b[0;34m\u001b[0m\u001b[0;34m\u001b[0m\u001b[0m\n",
      "\u001b[0;31mInFailedSqlTransaction\u001b[0m: current transaction is aborted, commands ignored until end of transaction block\n"
     ]
    }
   ],
   "source": [
    "# Assign users to groups\n",
    "cur.execute(\"GRANT readonly TO data_analyst;\")\n",
    "cur.execute(\"GRANT readwrite TO data_scientist;\")"
   ]
  },
  {
   "cell_type": "code",
   "execution_count": 47,
   "metadata": {},
   "outputs": [],
   "source": [
    "conn.commit()\n",
    "conn.close()"
   ]
  },
  {
   "cell_type": "markdown",
   "metadata": {},
   "source": [
    "### Testing"
   ]
  },
  {
   "cell_type": "markdown",
   "metadata": {},
   "source": [
    "Let's now test we've set everything up correctly"
   ]
  },
  {
   "cell_type": "code",
   "execution_count": 55,
   "metadata": {},
   "outputs": [],
   "source": [
    "conn = psycopg2.connect(dbname = \"crimes_db\", user = \"postgres\")"
   ]
  },
  {
   "cell_type": "code",
   "execution_count": 56,
   "metadata": {},
   "outputs": [],
   "source": [
    "cur = conn.cursor()"
   ]
  },
  {
   "cell_type": "code",
   "execution_count": 50,
   "metadata": {},
   "outputs": [
    {
     "data": {
      "text/plain": [
       "[('readonly', 'SELECT'),\n",
       " ('readwrite', 'INSERT'),\n",
       " ('readwrite', 'SELECT'),\n",
       " ('readwrite', 'UPDATE'),\n",
       " ('readwrite', 'DELETE')]"
      ]
     },
     "execution_count": 50,
     "metadata": {},
     "output_type": "execute_result"
    }
   ],
   "source": [
    "# Check our roles have the right prvileges\n",
    "cur.execute(\"\"\"SELECT grantee, privilege_type\n",
    "                FROM information_schema.table_privileges\n",
    "                WHERE grantee = 'readwrite' OR grantee = 'readonly';\"\"\")\n",
    "cur.fetchall()"
   ]
  },
  {
   "cell_type": "code",
   "execution_count": 51,
   "metadata": {},
   "outputs": [
    {
     "data": {
      "text/plain": [
       "[('boston_crimes',),\n",
       " ('pg_aggregate',),\n",
       " ('pg_am',),\n",
       " ('pg_amop',),\n",
       " ('pg_amproc',),\n",
       " ('pg_attrdef',),\n",
       " ('pg_attribute',),\n",
       " ('pg_auth_members',),\n",
       " ('pg_authid',),\n",
       " ('pg_cast',),\n",
       " ('pg_class',),\n",
       " ('pg_collation',),\n",
       " ('pg_constraint',),\n",
       " ('pg_conversion',),\n",
       " ('pg_database',),\n",
       " ('pg_db_role_setting',),\n",
       " ('pg_default_acl',),\n",
       " ('pg_depend',),\n",
       " ('pg_description',),\n",
       " ('pg_enum',),\n",
       " ('pg_event_trigger',),\n",
       " ('pg_extension',),\n",
       " ('pg_foreign_data_wrapper',),\n",
       " ('pg_foreign_server',),\n",
       " ('pg_foreign_table',),\n",
       " ('pg_index',),\n",
       " ('pg_inherits',),\n",
       " ('pg_init_privs',),\n",
       " ('pg_language',),\n",
       " ('pg_largeobject',),\n",
       " ('pg_largeobject_metadata',),\n",
       " ('pg_namespace',),\n",
       " ('pg_opclass',),\n",
       " ('pg_operator',),\n",
       " ('pg_opfamily',),\n",
       " ('pg_partitioned_table',),\n",
       " ('pg_policy',),\n",
       " ('pg_proc',),\n",
       " ('pg_publication',),\n",
       " ('pg_publication_rel',),\n",
       " ('pg_range',),\n",
       " ('pg_replication_origin',),\n",
       " ('pg_rewrite',),\n",
       " ('pg_seclabel',),\n",
       " ('pg_sequence',),\n",
       " ('pg_shdepend',),\n",
       " ('pg_shdescription',),\n",
       " ('pg_shseclabel',),\n",
       " ('pg_statistic',),\n",
       " ('pg_statistic_ext',),\n",
       " ('pg_statistic_ext_data',),\n",
       " ('pg_subscription',),\n",
       " ('pg_subscription_rel',),\n",
       " ('pg_tablespace',),\n",
       " ('pg_transform',),\n",
       " ('pg_trigger',),\n",
       " ('pg_ts_config',),\n",
       " ('pg_ts_config_map',),\n",
       " ('pg_ts_dict',),\n",
       " ('pg_ts_parser',),\n",
       " ('pg_ts_template',),\n",
       " ('pg_type',),\n",
       " ('pg_user_mapping',),\n",
       " ('sql_features',),\n",
       " ('sql_implementation_info',),\n",
       " ('sql_parts',),\n",
       " ('sql_sizing',)]"
      ]
     },
     "execution_count": 51,
     "metadata": {},
     "output_type": "execute_result"
    }
   ],
   "source": [
    "# Check all of our existing tables by querying existing tables contained in Postgres engine\n",
    "cur.execute(\"SELECT tablename FROM pg_catalog.pg_tables ORDER BY 1;\")\n",
    "cur.fetchall()"
   ]
  },
  {
   "cell_type": "markdown",
   "metadata": {},
   "source": [
    "Here we can see a lot of tables starting with **pg**. These are part of the `pg_catalog` group of tables built into the Postgres engine. So how to we differentiate between tables that are user defined, and those that are inernal?\n",
    "\n",
    "We can do this by thinking about **schemas**. These are essentially folders for seperating out tables.\n",
    "\n",
    "When a database is created, 3 schemas are created - `pg_catalog` (for system catalog tables), `information_schema` (for info schema tables), and `public` (the default schemas for creating tables)\n",
    "\n",
    "When you issue a `CREATE TABLE` command, this will be default be stored under the `public` schema.\n",
    "\n",
    "So, if we want to see what user created tables have been created, we can filter our above query to exclude tables existing under `pg_catalog` or `information_schema`."
   ]
  },
  {
   "cell_type": "code",
   "execution_count": 52,
   "metadata": {},
   "outputs": [
    {
     "data": {
      "text/plain": [
       "[('boston_crimes', 'crimes')]"
      ]
     },
     "execution_count": 52,
     "metadata": {},
     "output_type": "execute_result"
    }
   ],
   "source": [
    "cur.execute(\"\"\"SELECT tablename, \n",
    "                      schemaname \n",
    "               FROM pg_catalog.pg_tables \n",
    "               WHERE schemaname != 'pg_catalog' AND\n",
    "                     schemaname != 'information_schema'\n",
    "               ORDER BY 1;\"\"\")\n",
    "cur.fetchall()"
   ]
  },
  {
   "cell_type": "code",
   "execution_count": 53,
   "metadata": {},
   "outputs": [
    {
     "name": "stdout",
     "output_type": "stream",
     "text": [
      "<class 'list'>\n",
      "(1, 619, 'LARCENY ALL OTHERS', datetime.date(2018, 9, 2), 'Sunday', Decimal('42.35779134'), Decimal('-71.13937053'))\n",
      "(2, 1402, 'VANDALISM', datetime.date(2018, 8, 21), 'Tuesday', Decimal('42.30682138'), Decimal('-71.06030035'))\n",
      "(3, 3410, 'TOWED MOTOR VEHICLE', datetime.date(2018, 9, 3), 'Monday', Decimal('42.34658879'), Decimal('-71.07242943'))\n",
      "(4, 3114, 'INVESTIGATE PROPERTY', datetime.date(2018, 9, 3), 'Monday', Decimal('42.33418175'), Decimal('-71.07866441'))\n",
      "(5, 3114, 'INVESTIGATE PROPERTY', datetime.date(2018, 9, 3), 'Monday', Decimal('42.27536542'), Decimal('-71.09036101'))\n",
      "(6, 3820, 'M/V ACCIDENT INVOLVING PEDESTRIAN - INJURY', datetime.date(2018, 9, 3), 'Monday', Decimal('42.29019621'), Decimal('-71.07159012'))\n",
      "(7, 724, 'AUTO THEFT', datetime.date(2018, 9, 3), 'Monday', Decimal('42.30607218'), Decimal('-71.0827326'))\n",
      "(8, 3301, 'VERBAL DISPUTE', datetime.date(2018, 9, 3), 'Monday', Decimal('42.32701648'), Decimal('-71.10555088'))\n",
      "(9, 301, 'ROBBERY - STREET', datetime.date(2018, 9, 3), 'Monday', Decimal('42.33152148'), Decimal('-71.07085307'))\n",
      "(10, 3301, 'VERBAL DISPUTE', datetime.date(2018, 9, 3), 'Monday', Decimal('42.29514664'), Decimal('-71.05860832'))\n"
     ]
    }
   ],
   "source": [
    "cur.execute(\"SELECT * FROM crimes.boston_crimes LIMIT 10;\")\n",
    "rows = cur.fetchall()\n",
    "print(type(rows))\n",
    "for row in rows:\n",
    "    print(row)"
   ]
  },
  {
   "cell_type": "code",
   "execution_count": 58,
   "metadata": {},
   "outputs": [],
   "source": [
    "conn.close()"
   ]
  },
  {
   "cell_type": "markdown",
   "metadata": {},
   "source": [
    "### Let's play around with this database"
   ]
  },
  {
   "cell_type": "code",
   "execution_count": 60,
   "metadata": {},
   "outputs": [],
   "source": [
    "conn = psycopg2.connect(dbname = \"crimes_db\", user = \"postgres\")\n",
    "cur = conn.cursor()"
   ]
  },
  {
   "cell_type": "markdown",
   "metadata": {},
   "source": [
    "Let's first have a look at the `pg_catalog.pg_tables` table."
   ]
  },
  {
   "cell_type": "code",
   "execution_count": 65,
   "metadata": {},
   "outputs": [
    {
     "name": "stdout",
     "output_type": "stream",
     "text": [
      "('boston_crimes',)\n"
     ]
    }
   ],
   "source": [
    "cur.execute(\"SELECT tablename FROM pg_catalog.pg_tables WHERE schemaname != 'pg_catalog' AND schemaname != 'information_schema' LIMIT 10;\")\n",
    "table_names = cur.fetchall()\n",
    "\n",
    "for row in table_names:\n",
    "    print(row)"
   ]
  },
  {
   "cell_type": "markdown",
   "metadata": {},
   "source": [
    "Above we get some information. We have the `boston_crimes` table. We filtered out the `pg_catalog` and `information_schema` schemas, as these are internal tables which contain info we're not interested in right now.\n",
    "\n",
    "If we wanted to loop through all tables (note we only have one in this instance) and save a description of them down, we can do this:"
   ]
  },
  {
   "cell_type": "code",
   "execution_count": 84,
   "metadata": {},
   "outputs": [],
   "source": [
    "col_description = dict()\n",
    "for table in table_names:\n",
    "    cur.execute(\"SELECT * FROM crimes.%s LIMIT 0;\", (AsIs(table[0]),))\n",
    "    col_description[table[0]] = cur.description"
   ]
  },
  {
   "cell_type": "code",
   "execution_count": 85,
   "metadata": {},
   "outputs": [
    {
     "data": {
      "text/plain": [
       "{'boston_crimes': (Column(name='incident_number', type_code=23),\n",
       "  Column(name='offense_code', type_code=21),\n",
       "  Column(name='description', type_code=1043),\n",
       "  Column(name='date', type_code=1082),\n",
       "  Column(name='day_of_the_week', type_code=16468),\n",
       "  Column(name='lat', type_code=1700),\n",
       "  Column(name='long', type_code=1700))}"
      ]
     },
     "execution_count": 85,
     "metadata": {},
     "output_type": "execute_result"
    }
   ],
   "source": [
    "col_description"
   ]
  },
  {
   "cell_type": "markdown",
   "metadata": {},
   "source": [
    "In the above, we can see that in the `boston_crimes` table, we have our columns, along with a type code. What is this type code? This represents the datatype."
   ]
  },
  {
   "cell_type": "code",
   "execution_count": 96,
   "metadata": {},
   "outputs": [
    {
     "data": {
      "text/plain": [
       "[(16, 'bool'),\n",
       " (17, 'bytea'),\n",
       " (18, 'char'),\n",
       " (19, 'name'),\n",
       " (20, 'int8'),\n",
       " (21, 'int2'),\n",
       " (22, 'int2vector'),\n",
       " (23, 'int4'),\n",
       " (24, 'regproc'),\n",
       " (25, 'text')]"
      ]
     },
     "execution_count": 96,
     "metadata": {},
     "output_type": "execute_result"
    }
   ],
   "source": [
    "cur.execute(\"SELECT oid, typname FROM pg_catalog.pg_type LIMIT 10;\")\n",
    "cur.fetchall()"
   ]
  },
  {
   "cell_type": "markdown",
   "metadata": {},
   "source": [
    "We can see what these numbers corrospond to. Let's add all this to a dictionary."
   ]
  },
  {
   "cell_type": "code",
   "execution_count": 109,
   "metadata": {},
   "outputs": [
    {
     "data": {
      "text/plain": [
       "[(16, 'bool'), (17, 'bytea'), (18, 'char'), (19, 'name')]"
      ]
     },
     "execution_count": 109,
     "metadata": {},
     "output_type": "execute_result"
    }
   ],
   "source": [
    "type_code_dict = dict()\n",
    "cur.execute(\"SELECT oid, typname FROM pg_catalog.pg_type;\")\n",
    "types = cur.fetchall()\n",
    "\n",
    "for value in types:\n",
    "    code = value[0]\n",
    "    d_type = value[1]\n",
    "    type_code_dict[code] = d_type\n",
    "    \n",
    "list(type_code_dict.items())[:4]"
   ]
  },
  {
   "cell_type": "code",
   "execution_count": 115,
   "metadata": {},
   "outputs": [
    {
     "data": {
      "text/plain": [
       "{'boston_crimes': (Column(name='incident_number', type_code=23),\n",
       "  Column(name='offense_code', type_code=21),\n",
       "  Column(name='description', type_code=1043),\n",
       "  Column(name='date', type_code=1082),\n",
       "  Column(name='day_of_the_week', type_code=16468),\n",
       "  Column(name='lat', type_code=1700),\n",
       "  Column(name='long', type_code=1700))}"
      ]
     },
     "execution_count": 115,
     "metadata": {},
     "output_type": "execute_result"
    }
   ],
   "source": [
    "col_description"
   ]
  },
  {
   "cell_type": "code",
   "execution_count": 144,
   "metadata": {},
   "outputs": [],
   "source": [
    "readable_description = {\"boston_crimes\" : [{\"name\" : col.name,\n",
    "                                            \"type\" : type_code_dict[col.type_code],\n",
    "                                            \"internal size\" : col.internal_size} \n",
    "                                           for col in col_description[\"boston_crimes\"]]}"
   ]
  },
  {
   "cell_type": "code",
   "execution_count": 145,
   "metadata": {},
   "outputs": [
    {
     "name": "stdout",
     "output_type": "stream",
     "text": [
      "{'name': 'incident_number', 'type': 'int4', 'internal size': 4}\n",
      "{'name': 'offense_code', 'type': 'int2', 'internal size': 2}\n",
      "{'name': 'description', 'type': 'varchar', 'internal size': 60}\n",
      "{'name': 'date', 'type': 'date', 'internal size': 4}\n",
      "{'name': 'day_of_the_week', 'type': 'days', 'internal size': 4}\n",
      "{'name': 'lat', 'type': 'numeric', 'internal size': -1}\n",
      "{'name': 'long', 'type': 'numeric', 'internal size': -1}\n"
     ]
    }
   ],
   "source": [
    "for row in readable_description[\"boston_crimes\"]:\n",
    "    print(row)"
   ]
  },
  {
   "cell_type": "markdown",
   "metadata": {},
   "source": [
    "Above, we've created a new dictionary. We didn't really need to in this instance because we only have one table - `boston_crimes` - but if we had more it would be useful to have a storage place for all the info. The info itself is giving us the name, type and internal size of the columns within our table.\n",
    "\n",
    "Now, let's add a new key which represents number of rows in the table."
   ]
  },
  {
   "cell_type": "code",
   "execution_count": 146,
   "metadata": {},
   "outputs": [
    {
     "data": {
      "text/plain": [
       "{'boston_crimes': [{'name': 'incident_number',\n",
       "   'type': 'int4',\n",
       "   'internal size': 4},\n",
       "  {'name': 'offense_code', 'type': 'int2', 'internal size': 2},\n",
       "  {'name': 'description', 'type': 'varchar', 'internal size': 60},\n",
       "  {'name': 'date', 'type': 'date', 'internal size': 4},\n",
       "  {'name': 'day_of_the_week', 'type': 'days', 'internal size': 4},\n",
       "  {'name': 'lat', 'type': 'numeric', 'internal size': -1},\n",
       "  {'name': 'long', 'type': 'numeric', 'internal size': -1}],\n",
       " 'no_of_rows': 298329}"
      ]
     },
     "execution_count": 146,
     "metadata": {},
     "output_type": "execute_result"
    }
   ],
   "source": [
    "cur.execute(\"SELECT COUNT(*) FROM crimes.boston_crimes;\")\n",
    "no_of_rows = cur.fetchone()[0]\n",
    "readable_description[\"no_of_rows\"] = no_of_rows\n",
    "readable_description"
   ]
  },
  {
   "cell_type": "code",
   "execution_count": 152,
   "metadata": {},
   "outputs": [],
   "source": [
    "conn.commit()\n",
    "conn.close()"
   ]
  },
  {
   "cell_type": "markdown",
   "metadata": {},
   "source": [
    "Great. However, this isn't very readable. Let's convert it to JSON format. This is essentialy a way to represent dictionaries in text files.\n",
    "\n",
    "In Python, we have the `json` library to help with this."
   ]
  },
  {
   "cell_type": "code",
   "execution_count": 153,
   "metadata": {},
   "outputs": [],
   "source": [
    "import json\n",
    "readable_description_json = json.dumps(readable_description, indent = 3)"
   ]
  }
 ],
 "metadata": {
  "kernelspec": {
   "display_name": "Python 3",
   "language": "python",
   "name": "python3"
  },
  "language_info": {
   "codemirror_mode": {
    "name": "ipython",
    "version": 3
   },
   "file_extension": ".py",
   "mimetype": "text/x-python",
   "name": "python",
   "nbconvert_exporter": "python",
   "pygments_lexer": "ipython3",
   "version": "3.8.3"
  }
 },
 "nbformat": 4,
 "nbformat_minor": 4
}
