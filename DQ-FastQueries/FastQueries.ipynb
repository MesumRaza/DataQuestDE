{
 "cells": [
  {
   "cell_type": "markdown",
   "metadata": {},
   "source": [
    "# Building Fast Queries"
   ]
  },
  {
   "cell_type": "markdown",
   "metadata": {},
   "source": [
    "We will imagine that we own an online laptop store and want to build a way to answer a few different business questions about our inventory.\n",
    "\n",
    "The purpose of this is to practice building fast queries.\n",
    "\n",
    "We'll use data from `laptops.csv`. A brief description of columns can be found below:\n",
    "\n",
    "* **ID:** A unique identifier for the laptop.\n",
    "* **Company:** The name of the company that produces the laptop.\n",
    "* **Product:** The name of the laptop.\n",
    "* **TypeName:** The type of laptop.\n",
    "* **Inches:** The size of the screen in inches.\n",
    "* **ScreenResolution:** The resolution of the screen.\n",
    "* **CPU:** The laptop CPU.\n",
    "* **RAM:** The amount of RAM in the laptop.\n",
    "* **Memory:** The size of the hard drive.\n",
    "* **GPU:** The graphics card name.\n",
    "* **OpSys:** The name of the operating system.\n",
    "* **Weight:** The laptop weight.\n",
    "* **Price:** The price of the laptop."
   ]
  },
  {
   "cell_type": "markdown",
   "metadata": {},
   "source": [
    "### Import CSV"
   ]
  },
  {
   "cell_type": "markdown",
   "metadata": {},
   "source": [
    "Let's import our data first."
   ]
  },
  {
   "cell_type": "code",
   "execution_count": null,
   "metadata": {},
   "outputs": [],
   "source": [
    "import csv\n",
    "\n",
    "import random\n",
    "\n",
    "import time"
   ]
  },
  {
   "cell_type": "code",
   "execution_count": null,
   "metadata": {},
   "outputs": [],
   "source": [
    "with open(\"laptops.csv\", \"r\") as f:\n",
    "    reader = list(csv.reader(f))\n",
    "    header = reader[0]\n",
    "    rows = reader[1:]"
   ]
  },
  {
   "cell_type": "code",
   "execution_count": null,
   "metadata": {},
   "outputs": [],
   "source": [
    "# Header\n",
    "for index, col in enumerate(header):\n",
    "    print(f\"{index:2} {col}\")"
   ]
  },
  {
   "cell_type": "code",
   "execution_count": null,
   "metadata": {},
   "outputs": [],
   "source": [
    "# First 5 rows\n",
    "for row in rows[:5]:\n",
    "    print(row)\n",
    "    print()"
   ]
  },
  {
   "cell_type": "markdown",
   "metadata": {},
   "source": [
    "### Inventory Class"
   ]
  },
  {
   "cell_type": "markdown",
   "metadata": {},
   "source": [
    "Let's create a simple class to represent our inventory. We'll give it two attributes, `header` and `rows`"
   ]
  },
  {
   "cell_type": "code",
   "execution_count": null,
   "metadata": {},
   "outputs": [],
   "source": [
    "class Inventory():\n",
    "    def __init__(self, csv_filename):\n",
    "        with open(csv_filename) as f:\n",
    "            reader = list(csv.reader(f))\n",
    "            self.header = reader[0]\n",
    "            self.rows = reader[1:]\n",
    "            \n",
    "        for row in self.rows:\n",
    "            row[-1] = int(row[-1])"
   ]
  },
  {
   "cell_type": "code",
   "execution_count": null,
   "metadata": {},
   "outputs": [],
   "source": [
    "test = Inventory(\"laptops.csv\")"
   ]
  },
  {
   "cell_type": "code",
   "execution_count": null,
   "metadata": {},
   "outputs": [],
   "source": [
    "test.header"
   ]
  },
  {
   "cell_type": "code",
   "execution_count": null,
   "metadata": {},
   "outputs": [],
   "source": [
    "len(test.rows)"
   ]
  },
  {
   "cell_type": "markdown",
   "metadata": {},
   "source": [
    "### Finding a laptop from the ID"
   ]
  },
  {
   "cell_type": "markdown",
   "metadata": {},
   "source": [
    "Let's update the `Inventory` class. We want to use it to find a laptop based on it's ID"
   ]
  },
  {
   "cell_type": "code",
   "execution_count": null,
   "metadata": {},
   "outputs": [],
   "source": [
    "class Inventory():\n",
    "    def __init__(self, csv_filename):\n",
    "        with open(csv_filename) as f:\n",
    "            reader = list(csv.reader(f))\n",
    "            self.header = reader[0]\n",
    "            self.rows = reader[1:]\n",
    "        for row in self.rows:\n",
    "            row[-1] = int(row[-1])\n",
    "            \n",
    "    def get_laptop_from_id(self, laptop_id):\n",
    "        \"\"\"Returns a row if ID is found\"\"\"\n",
    "        for row in self.rows:\n",
    "            identification = row[0]\n",
    "            if identification == laptop_id:\n",
    "                return row\n",
    "        return None"
   ]
  },
  {
   "cell_type": "code",
   "execution_count": null,
   "metadata": {},
   "outputs": [],
   "source": [
    "test = Inventory(\"laptops.csv\")"
   ]
  },
  {
   "cell_type": "code",
   "execution_count": null,
   "metadata": {},
   "outputs": [],
   "source": [
    "test.get_laptop_from_id('3362737')"
   ]
  },
  {
   "cell_type": "code",
   "execution_count": null,
   "metadata": {},
   "outputs": [],
   "source": [
    "test.get_laptop_from_id('3362736')"
   ]
  },
  {
   "cell_type": "markdown",
   "metadata": {},
   "source": [
    "This looks to be working."
   ]
  },
  {
   "cell_type": "markdown",
   "metadata": {},
   "source": [
    "### Improving ID Lookup"
   ]
  },
  {
   "cell_type": "markdown",
   "metadata": {},
   "source": [
    "The previous algorithm has a time complexity of O(R), where R represents the number of rows. In order for this algo to work, it has to look through every single row.\n",
    "\n",
    "There is a quicker way of dealing with this however.\n",
    "\n",
    "One way would be to use a `set` to check if the ID exists. This would be constant time, rather than linear, which is an improvment. \n",
    "\n",
    "However, we also want to retrieve the row that corrosponds to the ID. For this, we'll instead use a `dictionary` object, which has the same fast lookup properties as `sets`, but also allow us to associate values with keys.\n",
    "\n",
    "Let's try this out."
   ]
  },
  {
   "cell_type": "code",
   "execution_count": null,
   "metadata": {},
   "outputs": [],
   "source": [
    "class Inventory():\n",
    "    def __init__(self, csv_filename):\n",
    "        \n",
    "        # Open file and assign header and rows\n",
    "        with open(csv_filename) as f:\n",
    "            reader = list(csv.reader(f))\n",
    "            self.header = reader[0]\n",
    "            self.rows = reader[1:]\n",
    "            \n",
    "        # Convert price to Int\n",
    "        for row in self.rows:\n",
    "            row[-1] = int(row[-1])\n",
    "           \n",
    "        # Store data to dictionary\n",
    "        self.id_to_row = dict()\n",
    "        for row in self.rows:\n",
    "            self.id_to_row[row[0]] = row\n",
    "            \n",
    "    def get_laptop_from_id_fast(self, laptop_id):\n",
    "        \n",
    "        # Fast way to lookup ID\n",
    "        for key, value in self.id_to_row.items():\n",
    "            if key == laptop_id:\n",
    "                return value\n",
    "        return None\n",
    "            \n",
    "    def get_laptop_from_id(self, laptop_id):\n",
    "        \n",
    "        # Slow way to lookup ID\n",
    "        for row in self.rows:\n",
    "            identification = row[0]\n",
    "            if identification == laptop_id:\n",
    "                return row\n",
    "        return None"
   ]
  },
  {
   "cell_type": "code",
   "execution_count": null,
   "metadata": {},
   "outputs": [],
   "source": [
    "test = Inventory(\"laptops.csv\")"
   ]
  },
  {
   "cell_type": "code",
   "execution_count": null,
   "metadata": {},
   "outputs": [],
   "source": [
    "test.get_laptop_from_id_fast('3362737')"
   ]
  },
  {
   "cell_type": "code",
   "execution_count": null,
   "metadata": {},
   "outputs": [],
   "source": [
    "test.get_laptop_from_id_fast('3362736')"
   ]
  },
  {
   "cell_type": "markdown",
   "metadata": {},
   "source": [
    "This works. Unlike our previous algo which has a time complexity of O(R), this algoirthm has a time complexity of O(1). However, it does do this at the cost of memory (the dictionary) and there might be a little bit extra time for actually creating the dictionary on each instance."
   ]
  },
  {
   "cell_type": "markdown",
   "metadata": {},
   "source": [
    "### Comparing the Performance"
   ]
  },
  {
   "cell_type": "markdown",
   "metadata": {},
   "source": [
    "Let's compare performance using the `time` module. We'll generate some random IDs first."
   ]
  },
  {
   "cell_type": "code",
   "execution_count": null,
   "metadata": {},
   "outputs": [],
   "source": [
    "ids = [random.randint(1000000, 9999999) for _ in range(100000)]"
   ]
  },
  {
   "cell_type": "code",
   "execution_count": null,
   "metadata": {},
   "outputs": [],
   "source": [
    "test = Inventory(\"laptops.csv\")"
   ]
  },
  {
   "cell_type": "code",
   "execution_count": null,
   "metadata": {},
   "outputs": [],
   "source": [
    "total_time_no_dict = 0\n",
    "for i in ids:\n",
    "    start = time.time()\n",
    "    test.get_laptop_from_id(i)\n",
    "    end = time.time()\n",
    "    runtime = end - start\n",
    "    total_time_no_dict += runtime"
   ]
  },
  {
   "cell_type": "code",
   "execution_count": null,
   "metadata": {},
   "outputs": [],
   "source": [
    "total_time_dict = 0\n",
    "for i in ids:\n",
    "    start = time.time()\n",
    "    test.get_laptop_from_id_fast(i)\n",
    "    end = time.time()\n",
    "    runtime = end - start\n",
    "    total_time_dict += runtime"
   ]
  },
  {
   "cell_type": "code",
   "execution_count": null,
   "metadata": {},
   "outputs": [],
   "source": [
    "total_time_no_dict"
   ]
  },
  {
   "cell_type": "code",
   "execution_count": null,
   "metadata": {},
   "outputs": [],
   "source": [
    "total_time_dict"
   ]
  },
  {
   "cell_type": "markdown",
   "metadata": {},
   "source": [
    "Here we can see that using the dictionary, our times are faster."
   ]
  },
  {
   "cell_type": "markdown",
   "metadata": {},
   "source": [
    "### Two Laptop Promotion"
   ]
  },
  {
   "cell_type": "markdown",
   "metadata": {},
   "source": [
    "The store in question sometimes offers giftcards - giftcards that can only be used once.\n",
    "\n",
    "The problem here is that customers may feel cheated if they, for example, recieve a **£2,500** giftcard, and there's no way for them to spend all of that in a single transaction.\n",
    "\n",
    "We therefore want to make sure there's a least one way to spend that full amount on a single transaction, whether there is a laptop worth that much, or a combination of laptops adding up to that much.\n",
    "\n",
    "Let's write a function that, given a dollar amount, checks whether it is possible to spend precisely that amount by purchasing up to two laptops."
   ]
  },
  {
   "cell_type": "code",
   "execution_count": null,
   "metadata": {},
   "outputs": [],
   "source": [
    "class Inventory():\n",
    "    def __init__(self, csv_filename):\n",
    "        \n",
    "        # Open file and assign header and rows\n",
    "        with open(csv_filename) as f:\n",
    "            reader = list(csv.reader(f))\n",
    "            self.header = reader[0]\n",
    "            self.rows = reader[1:]\n",
    "            \n",
    "        # Convert price to Int\n",
    "        for row in self.rows:\n",
    "            row[-1] = int(row[-1])\n",
    "           \n",
    "        # Store data to dictionary\n",
    "        self.id_to_row = dict()\n",
    "        for row in self.rows:\n",
    "            self.id_to_row[row[0]] = row\n",
    "            \n",
    "    def get_laptop_from_id_fast(self, laptop_id):\n",
    "        \n",
    "        # Fast way to lookup ID\n",
    "        for key, value in self.id_to_row.items():\n",
    "            if key == laptop_id:\n",
    "                return value\n",
    "        return None\n",
    "            \n",
    "    def get_laptop_from_id(self, laptop_id):\n",
    "        \n",
    "        # Slow way to lookup ID\n",
    "        for row in self.rows:\n",
    "            identification = row[0]\n",
    "            if identification == laptop_id:\n",
    "                return row\n",
    "        return None\n",
    "    \n",
    "    def check_promotion_dollar(self, dollars):\n",
    "        for row in self.rows:\n",
    "            price = row[-1]\n",
    "            if price == dollars:\n",
    "                return True\n",
    "            for row2 in self.rows:\n",
    "                if (row + row2) == price:\n",
    "                    return True\n",
    "        return False"
   ]
  },
  {
   "cell_type": "code",
   "execution_count": null,
   "metadata": {},
   "outputs": [],
   "source": [
    "test = Inventory('laptops.csv')"
   ]
  },
  {
   "cell_type": "code",
   "execution_count": null,
   "metadata": {},
   "outputs": [],
   "source": [
    "test.check_promotion_dollar(1000)"
   ]
  },
  {
   "cell_type": "code",
   "execution_count": null,
   "metadata": {},
   "outputs": [],
   "source": [
    "test.check_promotion_dollar(442)"
   ]
  },
  {
   "cell_type": "markdown",
   "metadata": {},
   "source": [
    "### Optimizing Laptop Promotion"
   ]
  },
  {
   "cell_type": "markdown",
   "metadata": {},
   "source": [
    "Since we only care about whether or not there is a solution, we can store all laptops prices in a set when we initialize the inventory. Then we can check in constant time whether there is a laptop with a given price."
   ]
  },
  {
   "cell_type": "code",
   "execution_count": 68,
   "metadata": {},
   "outputs": [],
   "source": [
    "class Inventory():\n",
    "    def __init__(self, csv_filename):\n",
    "        \n",
    "        # Open file and assign header and rows\n",
    "        with open(csv_filename) as f:\n",
    "            reader = list(csv.reader(f))\n",
    "            self.header = reader[0]\n",
    "            self.rows = reader[1:]\n",
    "            \n",
    "        # Convert price to Int\n",
    "        for row in self.rows:\n",
    "            row[-1] = int(row[-1])\n",
    "           \n",
    "        # Store data to dictionary\n",
    "        self.id_to_row = dict()\n",
    "        for row in self.rows:\n",
    "            self.id_to_row[row[0]] = row\n",
    "            \n",
    "        # Create an empty set to store prices\n",
    "        self.prices = set()\n",
    "        for row in self.rows:\n",
    "            self.prices.add(row[-1])\n",
    "            \n",
    "    def get_laptop_from_id_fast(self, laptop_id):\n",
    "        \n",
    "        # Fast way to lookup ID\n",
    "        for key, value in self.id_to_row.items():\n",
    "            if key == laptop_id:\n",
    "                return value\n",
    "        return None\n",
    "            \n",
    "    def get_laptop_from_id(self, laptop_id):\n",
    "        \n",
    "        # Slow way to lookup ID\n",
    "        for row in self.rows:\n",
    "            identification = row[0]\n",
    "            if identification == laptop_id:\n",
    "                return row\n",
    "        return None\n",
    "    \n",
    "    def check_promotion_dollar(self, dollars):\n",
    "        \n",
    "        # Slow way to check\n",
    "        for row in self.rows:\n",
    "            price = row[-1]\n",
    "            if price == dollars:\n",
    "                return True\n",
    "            for row2 in self.rows:\n",
    "                if (row + row2) == price:\n",
    "                    return True\n",
    "        return False\n",
    "    \n",
    "    def check_promotion_dollar_fast(self, dollars):\n",
    "        \n",
    "        # Fast way to check\n",
    "        if dollars in self.prices:\n",
    "            return True\n",
    "        for value in self.prices:\n",
    "            if (dollars - value) in self.prices:\n",
    "                return True\n",
    "        return False"
   ]
  },
  {
   "cell_type": "code",
   "execution_count": null,
   "metadata": {},
   "outputs": [],
   "source": [
    "test = Inventory(\"laptops.csv\")"
   ]
  },
  {
   "cell_type": "code",
   "execution_count": null,
   "metadata": {},
   "outputs": [],
   "source": [
    "test.check_promotion_dollar_fast(1000)"
   ]
  },
  {
   "cell_type": "code",
   "execution_count": null,
   "metadata": {},
   "outputs": [],
   "source": [
    "test.check_promotion_dollar_fast(442)"
   ]
  },
  {
   "cell_type": "markdown",
   "metadata": {},
   "source": [
    "### Comparing Promotion Functions"
   ]
  },
  {
   "cell_type": "markdown",
   "metadata": {},
   "source": [
    "Now let's compare the peformance"
   ]
  },
  {
   "cell_type": "code",
   "execution_count": null,
   "metadata": {},
   "outputs": [],
   "source": [
    "prices = [random.randint(100, 5001) for _ in range(100)]"
   ]
  },
  {
   "cell_type": "code",
   "execution_count": 69,
   "metadata": {},
   "outputs": [],
   "source": [
    "test = Inventory(\"laptops.csv\")"
   ]
  },
  {
   "cell_type": "code",
   "execution_count": 70,
   "metadata": {},
   "outputs": [],
   "source": [
    "total_time_no_set = 0\n",
    "for value in prices:\n",
    "    start = time.time()\n",
    "    test.check_promotion_dollar(value)\n",
    "    end = time.time()\n",
    "    runtime = end - start\n",
    "    total_time_no_set += runtime"
   ]
  },
  {
   "cell_type": "code",
   "execution_count": 71,
   "metadata": {},
   "outputs": [],
   "source": [
    "total_time_set = 0\n",
    "for value in prices:\n",
    "    start = time.time()\n",
    "    test.check_promotion_dollar_fast(value)\n",
    "    end = time.time()\n",
    "    runtime = end - start\n",
    "    total_time_set += runtime"
   ]
  },
  {
   "cell_type": "code",
   "execution_count": 72,
   "metadata": {},
   "outputs": [
    {
     "data": {
      "text/plain": [
       "23.42894434928894"
      ]
     },
     "execution_count": 72,
     "metadata": {},
     "output_type": "execute_result"
    }
   ],
   "source": [
    "total_time_no_set"
   ]
  },
  {
   "cell_type": "code",
   "execution_count": 73,
   "metadata": {},
   "outputs": [
    {
     "data": {
      "text/plain": [
       "0.0005838871002197266"
      ]
     },
     "execution_count": 73,
     "metadata": {},
     "output_type": "execute_result"
    }
   ],
   "source": [
    "total_time_set"
   ]
  },
  {
   "cell_type": "markdown",
   "metadata": {},
   "source": [
    "Wow! That's quite a difference there."
   ]
  },
  {
   "cell_type": "markdown",
   "metadata": {},
   "source": [
    "### Finding Laptops Within A Budget"
   ]
  },
  {
   "cell_type": "markdown",
   "metadata": {},
   "source": [
    "Next up, we want to answer one question:\n",
    "\n",
    "Given a budget of D dollars, find all laptops whose price is at most D."
   ]
  },
  {
   "cell_type": "code",
   "execution_count": 77,
   "metadata": {},
   "outputs": [],
   "source": [
    "class Inventory():\n",
    "    def __init__(self, csv_filename):\n",
    "        \n",
    "        # Open file and assign header and rows\n",
    "        with open(csv_filename) as f:\n",
    "            reader = list(csv.reader(f))\n",
    "            self.header = reader[0]\n",
    "            self.rows = reader[1:]\n",
    "            \n",
    "        # Convert price to Int\n",
    "        for row in self.rows:\n",
    "            row[-1] = int(row[-1])\n",
    "           \n",
    "        # Store data to dictionary\n",
    "        self.id_to_row = dict()\n",
    "        for row in self.rows:\n",
    "            self.id_to_row[row[0]] = row\n",
    "            \n",
    "        # Create an empty set to store prices\n",
    "        self.prices = set()\n",
    "        for row in self.rows:\n",
    "            self.prices.add(row[-1])\n",
    "            \n",
    "        # Sort rows by price\n",
    "        self.rows_by_price = sorted(self.rows, key = lambda x: x[-1])\n",
    "            \n",
    "    def get_laptop_from_id_fast(self, laptop_id):\n",
    "        \n",
    "        # Fast way to lookup ID\n",
    "        for key, value in self.id_to_row.items():\n",
    "            if key == laptop_id:\n",
    "                return value\n",
    "        return None\n",
    "            \n",
    "    def get_laptop_from_id(self, laptop_id):\n",
    "        \n",
    "        # Slow way to lookup ID\n",
    "        for row in self.rows:\n",
    "            identification = row[0]\n",
    "            if identification == laptop_id:\n",
    "                return row\n",
    "        return None\n",
    "    \n",
    "    def check_promotion_dollar(self, dollars):\n",
    "        \n",
    "        # Slow way to check\n",
    "        for row in self.rows:\n",
    "            price = row[-1]\n",
    "            if price == dollars:\n",
    "                return True\n",
    "            for row2 in self.rows:\n",
    "                if (row + row2) == price:\n",
    "                    return True\n",
    "        return False\n",
    "    \n",
    "    def check_promotion_dollar_fast(self, dollars):\n",
    "        \n",
    "        # Fast way to check\n",
    "        if dollars in self.prices:\n",
    "            return True\n",
    "        for value in self.prices:\n",
    "            if (dollars - value) in self.prices:\n",
    "                return True\n",
    "        return False\n",
    "    \n",
    "    def find_first_laptop_more_expensive(self, target_price):\n",
    "        # Return index of the first row in self.rows_by_price whose price is higher than price. \n",
    "        range_start = 0\n",
    "        range_end = len(self.rows_by_price) - 1\n",
    "        \n",
    "        while range_start < range_end:\n",
    "            \n",
    "            range_middle = (range_start + range_end) // 2\n",
    "            value = self.rows_by_price[range_middle][-1]\n",
    "            \n",
    "            if value <= target_price:\n",
    "                range_start = range_middle + 1\n",
    "            else:\n",
    "                range_end = range_middle\n",
    "\n",
    "        value = self.rows_by_price[range_start][-1]\n",
    "        \n",
    "        if target_price > value:\n",
    "            return -1\n",
    "        \n",
    "        return range_start\n"
   ]
  },
  {
   "cell_type": "code",
   "execution_count": 78,
   "metadata": {},
   "outputs": [],
   "source": [
    "test = Inventory(\"laptops.csv\")"
   ]
  },
  {
   "cell_type": "code",
   "execution_count": 79,
   "metadata": {},
   "outputs": [
    {
     "data": {
      "text/plain": [
       "683"
      ]
     },
     "execution_count": 79,
     "metadata": {},
     "output_type": "execute_result"
    }
   ],
   "source": [
    "test.find_first_laptop_more_expensive(1000)"
   ]
  },
  {
   "cell_type": "code",
   "execution_count": 80,
   "metadata": {},
   "outputs": [
    {
     "data": {
      "text/plain": [
       "-1"
      ]
     },
     "execution_count": 80,
     "metadata": {},
     "output_type": "execute_result"
    }
   ],
   "source": [
    "test.find_first_laptop_more_expensive(10000)"
   ]
  },
  {
   "cell_type": "code",
   "execution_count": null,
   "metadata": {},
   "outputs": [],
   "source": []
  }
 ],
 "metadata": {
  "kernelspec": {
   "display_name": "Python 3",
   "language": "python",
   "name": "python3"
  },
  "language_info": {
   "codemirror_mode": {
    "name": "ipython",
    "version": 3
   },
   "file_extension": ".py",
   "mimetype": "text/x-python",
   "name": "python",
   "nbconvert_exporter": "python",
   "pygments_lexer": "ipython3",
   "version": "3.8.3"
  }
 },
 "nbformat": 4,
 "nbformat_minor": 4
}
