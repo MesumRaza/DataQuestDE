{
 "cells": [
  {
   "cell_type": "markdown",
   "metadata": {},
   "source": [
    "# Optimising Loans"
   ]
  },
  {
   "cell_type": "markdown",
   "metadata": {},
   "source": [
    "In this project, I'll be practice working with chunked dataframes and optimizing a dataframe's memory usage. \n",
    "\n",
    "I'll be working with personal loan data.\n",
    "\n",
    "The Lending Club's website lists approved loans. Qualified investors can view the borrower's credit score, the purpose of the loan, and other details in the loan applications. Once a lender is ready to back a loan, it selects the amount of money it wants to fund. When the loan amount the borrower requested is fully funded, the borrower receives the money, minus the origination fee that Lending Club charges.\n",
    "\n",
    "I'll be working with a dataset of loans approved from 2007-2011.\n",
    "\n",
    "The entire dataset consumes about 67 megabytes of memory. \n",
    "\n",
    "For this project, I'll be imagining that I only have 10 megabytes of memory available.\n",
    "\n",
    "Let's get started..."
   ]
  },
  {
   "cell_type": "code",
   "execution_count": 300,
   "metadata": {},
   "outputs": [],
   "source": [
    "import pandas as pd\n",
    "\n",
    "import numpy as np\n",
    "\n",
    "pd.options.display.max_columns = 99"
   ]
  },
  {
   "cell_type": "markdown",
   "metadata": {},
   "source": [
    "Note here we can use the `nrows` parameter to only load in N amount of rows."
   ]
  },
  {
   "cell_type": "code",
   "execution_count": 2,
   "metadata": {},
   "outputs": [
    {
     "data": {
      "text/html": [
       "<div>\n",
       "<style scoped>\n",
       "    .dataframe tbody tr th:only-of-type {\n",
       "        vertical-align: middle;\n",
       "    }\n",
       "\n",
       "    .dataframe tbody tr th {\n",
       "        vertical-align: top;\n",
       "    }\n",
       "\n",
       "    .dataframe thead th {\n",
       "        text-align: right;\n",
       "    }\n",
       "</style>\n",
       "<table border=\"1\" class=\"dataframe\">\n",
       "  <thead>\n",
       "    <tr style=\"text-align: right;\">\n",
       "      <th></th>\n",
       "      <th>id</th>\n",
       "      <th>member_id</th>\n",
       "      <th>loan_amnt</th>\n",
       "      <th>funded_amnt</th>\n",
       "      <th>funded_amnt_inv</th>\n",
       "      <th>term</th>\n",
       "      <th>int_rate</th>\n",
       "      <th>installment</th>\n",
       "      <th>grade</th>\n",
       "      <th>sub_grade</th>\n",
       "      <th>...</th>\n",
       "      <th>last_pymnt_amnt</th>\n",
       "      <th>last_credit_pull_d</th>\n",
       "      <th>collections_12_mths_ex_med</th>\n",
       "      <th>policy_code</th>\n",
       "      <th>application_type</th>\n",
       "      <th>acc_now_delinq</th>\n",
       "      <th>chargeoff_within_12_mths</th>\n",
       "      <th>delinq_amnt</th>\n",
       "      <th>pub_rec_bankruptcies</th>\n",
       "      <th>tax_liens</th>\n",
       "    </tr>\n",
       "  </thead>\n",
       "  <tbody>\n",
       "    <tr>\n",
       "      <th>0</th>\n",
       "      <td>1077501</td>\n",
       "      <td>1296599.0</td>\n",
       "      <td>5000.0</td>\n",
       "      <td>5000.0</td>\n",
       "      <td>4975.0</td>\n",
       "      <td>36 months</td>\n",
       "      <td>10.65%</td>\n",
       "      <td>162.87</td>\n",
       "      <td>B</td>\n",
       "      <td>B2</td>\n",
       "      <td>...</td>\n",
       "      <td>171.62</td>\n",
       "      <td>Jun-2016</td>\n",
       "      <td>0.0</td>\n",
       "      <td>1.0</td>\n",
       "      <td>INDIVIDUAL</td>\n",
       "      <td>0.0</td>\n",
       "      <td>0.0</td>\n",
       "      <td>0.0</td>\n",
       "      <td>0.0</td>\n",
       "      <td>0.0</td>\n",
       "    </tr>\n",
       "    <tr>\n",
       "      <th>1</th>\n",
       "      <td>1077430</td>\n",
       "      <td>1314167.0</td>\n",
       "      <td>2500.0</td>\n",
       "      <td>2500.0</td>\n",
       "      <td>2500.0</td>\n",
       "      <td>60 months</td>\n",
       "      <td>15.27%</td>\n",
       "      <td>59.83</td>\n",
       "      <td>C</td>\n",
       "      <td>C4</td>\n",
       "      <td>...</td>\n",
       "      <td>119.66</td>\n",
       "      <td>Sep-2013</td>\n",
       "      <td>0.0</td>\n",
       "      <td>1.0</td>\n",
       "      <td>INDIVIDUAL</td>\n",
       "      <td>0.0</td>\n",
       "      <td>0.0</td>\n",
       "      <td>0.0</td>\n",
       "      <td>0.0</td>\n",
       "      <td>0.0</td>\n",
       "    </tr>\n",
       "    <tr>\n",
       "      <th>2</th>\n",
       "      <td>1077175</td>\n",
       "      <td>1313524.0</td>\n",
       "      <td>2400.0</td>\n",
       "      <td>2400.0</td>\n",
       "      <td>2400.0</td>\n",
       "      <td>36 months</td>\n",
       "      <td>15.96%</td>\n",
       "      <td>84.33</td>\n",
       "      <td>C</td>\n",
       "      <td>C5</td>\n",
       "      <td>...</td>\n",
       "      <td>649.91</td>\n",
       "      <td>Jun-2016</td>\n",
       "      <td>0.0</td>\n",
       "      <td>1.0</td>\n",
       "      <td>INDIVIDUAL</td>\n",
       "      <td>0.0</td>\n",
       "      <td>0.0</td>\n",
       "      <td>0.0</td>\n",
       "      <td>0.0</td>\n",
       "      <td>0.0</td>\n",
       "    </tr>\n",
       "    <tr>\n",
       "      <th>3</th>\n",
       "      <td>1076863</td>\n",
       "      <td>1277178.0</td>\n",
       "      <td>10000.0</td>\n",
       "      <td>10000.0</td>\n",
       "      <td>10000.0</td>\n",
       "      <td>36 months</td>\n",
       "      <td>13.49%</td>\n",
       "      <td>339.31</td>\n",
       "      <td>C</td>\n",
       "      <td>C1</td>\n",
       "      <td>...</td>\n",
       "      <td>357.48</td>\n",
       "      <td>Apr-2016</td>\n",
       "      <td>0.0</td>\n",
       "      <td>1.0</td>\n",
       "      <td>INDIVIDUAL</td>\n",
       "      <td>0.0</td>\n",
       "      <td>0.0</td>\n",
       "      <td>0.0</td>\n",
       "      <td>0.0</td>\n",
       "      <td>0.0</td>\n",
       "    </tr>\n",
       "    <tr>\n",
       "      <th>4</th>\n",
       "      <td>1075358</td>\n",
       "      <td>1311748.0</td>\n",
       "      <td>3000.0</td>\n",
       "      <td>3000.0</td>\n",
       "      <td>3000.0</td>\n",
       "      <td>60 months</td>\n",
       "      <td>12.69%</td>\n",
       "      <td>67.79</td>\n",
       "      <td>B</td>\n",
       "      <td>B5</td>\n",
       "      <td>...</td>\n",
       "      <td>67.79</td>\n",
       "      <td>Jun-2016</td>\n",
       "      <td>0.0</td>\n",
       "      <td>1.0</td>\n",
       "      <td>INDIVIDUAL</td>\n",
       "      <td>0.0</td>\n",
       "      <td>0.0</td>\n",
       "      <td>0.0</td>\n",
       "      <td>0.0</td>\n",
       "      <td>0.0</td>\n",
       "    </tr>\n",
       "  </tbody>\n",
       "</table>\n",
       "<p>5 rows × 52 columns</p>\n",
       "</div>"
      ],
      "text/plain": [
       "        id  member_id  loan_amnt  funded_amnt  funded_amnt_inv        term  \\\n",
       "0  1077501  1296599.0     5000.0       5000.0           4975.0   36 months   \n",
       "1  1077430  1314167.0     2500.0       2500.0           2500.0   60 months   \n",
       "2  1077175  1313524.0     2400.0       2400.0           2400.0   36 months   \n",
       "3  1076863  1277178.0    10000.0      10000.0          10000.0   36 months   \n",
       "4  1075358  1311748.0     3000.0       3000.0           3000.0   60 months   \n",
       "\n",
       "  int_rate  installment grade sub_grade  ... last_pymnt_amnt  \\\n",
       "0   10.65%       162.87     B        B2  ...          171.62   \n",
       "1   15.27%        59.83     C        C4  ...          119.66   \n",
       "2   15.96%        84.33     C        C5  ...          649.91   \n",
       "3   13.49%       339.31     C        C1  ...          357.48   \n",
       "4   12.69%        67.79     B        B5  ...           67.79   \n",
       "\n",
       "  last_credit_pull_d collections_12_mths_ex_med  policy_code application_type  \\\n",
       "0           Jun-2016                        0.0          1.0       INDIVIDUAL   \n",
       "1           Sep-2013                        0.0          1.0       INDIVIDUAL   \n",
       "2           Jun-2016                        0.0          1.0       INDIVIDUAL   \n",
       "3           Apr-2016                        0.0          1.0       INDIVIDUAL   \n",
       "4           Jun-2016                        0.0          1.0       INDIVIDUAL   \n",
       "\n",
       "  acc_now_delinq chargeoff_within_12_mths delinq_amnt pub_rec_bankruptcies  \\\n",
       "0            0.0                      0.0         0.0                  0.0   \n",
       "1            0.0                      0.0         0.0                  0.0   \n",
       "2            0.0                      0.0         0.0                  0.0   \n",
       "3            0.0                      0.0         0.0                  0.0   \n",
       "4            0.0                      0.0         0.0                  0.0   \n",
       "\n",
       "  tax_liens  \n",
       "0       0.0  \n",
       "1       0.0  \n",
       "2       0.0  \n",
       "3       0.0  \n",
       "4       0.0  \n",
       "\n",
       "[5 rows x 52 columns]"
      ]
     },
     "execution_count": 2,
     "metadata": {},
     "output_type": "execute_result"
    }
   ],
   "source": [
    "loans_5 = pd.read_csv(\"loans_2007.csv\", nrows = 5)\n",
    "loans_5"
   ]
  },
  {
   "cell_type": "code",
   "execution_count": 40,
   "metadata": {},
   "outputs": [
    {
     "data": {
      "text/plain": [
       "(5, 52)"
      ]
     },
     "execution_count": 40,
     "metadata": {},
     "output_type": "execute_result"
    }
   ],
   "source": [
    "loans_5.shape"
   ]
  },
  {
   "cell_type": "markdown",
   "metadata": {},
   "source": [
    "We'll now load in 1000 rows, and ensure that our file size is under 5MB. We'll use the `memory_usage` method."
   ]
  },
  {
   "cell_type": "code",
   "execution_count": 18,
   "metadata": {},
   "outputs": [
    {
     "data": {
      "text/plain": [
       "1.5502548217773438"
      ]
     },
     "execution_count": 18,
     "metadata": {},
     "output_type": "execute_result"
    }
   ],
   "source": [
    "loans_1000 = pd.read_csv(\"loans_2007.csv\", nrows = 1000)\n",
    "loans_1000.memory_usage(deep = True).sum() / (1024 * 1024) # Convert to MB by dividing by 1024 * 1024"
   ]
  },
  {
   "cell_type": "markdown",
   "metadata": {},
   "source": [
    "### Exploring Data in Chunk"
   ]
  },
  {
   "cell_type": "markdown",
   "metadata": {},
   "source": [
    "Now let's try understand the columns better by using chunks.\n",
    "\n",
    "For each of these chunks, we want to know:\n",
    "\n",
    "1. How many columns have a numeric type? How many have a string type?\n",
    "\n",
    "1. How many unique values are there in each string column? How many of the string columns contain values that are less than 50% unique?\n",
    "\n",
    "1. Which float columns have no missing values and could be candidates for conversion to the integer type?\n",
    "\n",
    "We also want to calculate the total memory usage across all of the chunks.\n",
    "\n",
    "Based on our previous exericse, we could probably triple the number of rows per chunk. Let's try this."
   ]
  },
  {
   "cell_type": "code",
   "execution_count": 35,
   "metadata": {},
   "outputs": [
    {
     "name": "stdout",
     "output_type": "stream",
     "text": [
      "4.649059295654297\n",
      "4.644805908203125\n",
      "4.646563529968262\n",
      "4.647915840148926\n",
      "4.644108772277832\n",
      "4.645991325378418\n",
      "4.644582748413086\n",
      "4.646951675415039\n",
      "4.645077705383301\n",
      "4.64512825012207\n",
      "4.657840728759766\n",
      "4.656707763671875\n",
      "4.663515090942383\n",
      "4.896956443786621\n",
      "0.880854606628418\n"
     ]
    }
   ],
   "source": [
    "chunks_iter = pd.read_csv(\"loans_2007.csv\", chunksize = 3000)\n",
    "for chunk in chunks_iter:\n",
    "    print(chunk.memory_usage(deep = True).sum() / (1024 * 1024))"
   ]
  },
  {
   "cell_type": "markdown",
   "metadata": {},
   "source": [
    "Looks good!"
   ]
  },
  {
   "cell_type": "markdown",
   "metadata": {},
   "source": [
    "Let's see how many rows there are in the data."
   ]
  },
  {
   "cell_type": "code",
   "execution_count": 37,
   "metadata": {},
   "outputs": [
    {
     "data": {
      "text/plain": [
       "42538"
      ]
     },
     "execution_count": 37,
     "metadata": {},
     "output_type": "execute_result"
    }
   ],
   "source": [
    "chunks_iter = pd.read_csv(\"loans_2007.csv\", chunksize = 3000)\n",
    "num_rows = 0\n",
    "for chunk in chunks_iter:\n",
    "    num_rows += len(chunk)\n",
    "num_rows"
   ]
  },
  {
   "cell_type": "markdown",
   "metadata": {},
   "source": [
    "### How many columns have a numeric type? How many have a string type?"
   ]
  },
  {
   "cell_type": "code",
   "execution_count": 142,
   "metadata": {},
   "outputs": [
    {
     "name": "stdout",
     "output_type": "stream",
     "text": [
      "36000    412050\n",
      "36001    426918\n",
      "36002    426414\n",
      "36003    426858\n",
      "36004    426845\n",
      "Name: id, dtype: int64\n",
      "\n",
      "39000    298963\n",
      "39001    298946\n",
      "39002    298649\n",
      "39003    297158\n",
      "39004    297783\n",
      "Name: id, dtype: object\n",
      "\n",
      "42000    247286\n",
      "42001    246996\n",
      "42002    246720\n",
      "42003    246535\n",
      "42004    246197\n",
      "Name: id, dtype: object\n",
      "\n"
     ]
    },
    {
     "data": {
      "text/html": [
       "<div>\n",
       "<style scoped>\n",
       "    .dataframe tbody tr th:only-of-type {\n",
       "        vertical-align: middle;\n",
       "    }\n",
       "\n",
       "    .dataframe tbody tr th {\n",
       "        vertical-align: top;\n",
       "    }\n",
       "\n",
       "    .dataframe thead th {\n",
       "        text-align: right;\n",
       "    }\n",
       "</style>\n",
       "<table border=\"1\" class=\"dataframe\">\n",
       "  <thead>\n",
       "    <tr style=\"text-align: right;\">\n",
       "      <th></th>\n",
       "      <th>C1</th>\n",
       "      <th>C2</th>\n",
       "      <th>C3</th>\n",
       "      <th>C4</th>\n",
       "      <th>C5</th>\n",
       "      <th>C6</th>\n",
       "      <th>C7</th>\n",
       "      <th>C8</th>\n",
       "      <th>C9</th>\n",
       "      <th>C10</th>\n",
       "      <th>C11</th>\n",
       "      <th>C12</th>\n",
       "      <th>C13</th>\n",
       "      <th>C14</th>\n",
       "      <th>C15</th>\n",
       "    </tr>\n",
       "  </thead>\n",
       "  <tbody>\n",
       "    <tr>\n",
       "      <th>Object</th>\n",
       "      <td>21</td>\n",
       "      <td>21</td>\n",
       "      <td>21</td>\n",
       "      <td>21</td>\n",
       "      <td>21</td>\n",
       "      <td>21</td>\n",
       "      <td>21</td>\n",
       "      <td>21</td>\n",
       "      <td>21</td>\n",
       "      <td>21</td>\n",
       "      <td>21</td>\n",
       "      <td>21</td>\n",
       "      <td>21</td>\n",
       "      <td>22</td>\n",
       "      <td>22</td>\n",
       "    </tr>\n",
       "    <tr>\n",
       "      <th>Number</th>\n",
       "      <td>31</td>\n",
       "      <td>31</td>\n",
       "      <td>31</td>\n",
       "      <td>31</td>\n",
       "      <td>31</td>\n",
       "      <td>31</td>\n",
       "      <td>31</td>\n",
       "      <td>31</td>\n",
       "      <td>31</td>\n",
       "      <td>31</td>\n",
       "      <td>31</td>\n",
       "      <td>31</td>\n",
       "      <td>31</td>\n",
       "      <td>30</td>\n",
       "      <td>30</td>\n",
       "    </tr>\n",
       "  </tbody>\n",
       "</table>\n",
       "</div>"
      ],
      "text/plain": [
       "        C1  C2  C3  C4  C5  C6  C7  C8  C9  C10  C11  C12  C13  C14  C15\n",
       "Object  21  21  21  21  21  21  21  21  21   21   21   21   21   22   22\n",
       "Number  31  31  31  31  31  31  31  31  31   31   31   31   31   30   30"
      ]
     },
     "execution_count": 142,
     "metadata": {},
     "output_type": "execute_result"
    }
   ],
   "source": [
    "chunks_iter = pd.read_csv(\"loans_2007.csv\", chunksize = 3000)\n",
    "chunk_dict = {}\n",
    "\n",
    "for i, chunk in enumerate(chunks_iter, 1):\n",
    "    \n",
    "    chunk_name = f\"C{i}\"\n",
    "    obj_total = len(list(chunk.dtypes[chunk.dtypes == np.object].index))\n",
    "    num_total = len(list(chunk.dtypes[(chunk.dtypes == np.float) | (chunk.dtypes == np.int)].index))\n",
    "    \n",
    "    chunk_dict[chunk_name] = [obj_total, num_total]\n",
    "    \n",
    "    if i == 14 or i == 15 or i == 13:\n",
    "        print(chunk[\"id\"][:5])\n",
    "        print()\n",
    "        \n",
    "chunk_df = pd.DataFrame.from_dict(chunk_dict, orient='index', columns = [\"Object\", \"Number\"]).transpose()\n",
    "chunk_df"
   ]
  },
  {
   "cell_type": "markdown",
   "metadata": {},
   "source": [
    "We can see above that column *id* is being cast as an object in the last couple of chunks. As we don't really need the id column for future analysi, we'll just ignore this."
   ]
  },
  {
   "cell_type": "markdown",
   "metadata": {},
   "source": [
    "### How many unique values are there in each string column? and how many of the string columns contain less than 50% unique values?"
   ]
  },
  {
   "cell_type": "code",
   "execution_count": 211,
   "metadata": {},
   "outputs": [
    {
     "name": "stdout",
     "output_type": "stream",
     "text": [
      "term                      : 2\n",
      "grade                     : 7\n",
      "sub_grade                 : 35\n",
      "emp_length                : 11\n",
      "home_ownership            : 5\n",
      "verification_status       : 3\n",
      "loan_status               : 9\n",
      "pymnt_plan                : 2\n",
      "purpose                   : 14\n",
      "initial_list_status       : 1\n",
      "application_type          : 1\n"
     ]
    }
   ],
   "source": [
    "chunks_iter = pd.read_csv(\"loans_2007.csv\", chunksize = 3000)\n",
    "\n",
    "unique_values_dict = {}\n",
    "\n",
    "# Loop through all chunks\n",
    "for chunk in chunks_iter:\n",
    "    obj_total = list(chunk.dtypes[chunk.dtypes == np.object].index)\n",
    "    \n",
    "    if \"id\" in obj_total:\n",
    "        obj_total.remove(\"id\")\n",
    "        \n",
    "    # Adding value counts to dictionary\n",
    "    for col in obj_total:\n",
    "        unique_elements = chunk[col].value_counts()\n",
    "        if col not in unique_values_dict:\n",
    "            unique_values_dict[col] = [unique_elements]\n",
    "        else:\n",
    "            unique_values_dict[col].append(unique_elements)\n",
    "            \n",
    "# Concatenating values in dictionary for each chunk\n",
    "# Grouping by index and calculating sum\n",
    "for col in unique_values_dict:\n",
    "    concat = pd.concat(unique_values_dict[col])\n",
    "    grouped = concat.groupby(concat.index).sum()\n",
    "    if len(grouped) < 50:\n",
    "        print(f\"{col:25} : {len(grouped)}\")"
   ]
  },
  {
   "cell_type": "markdown",
   "metadata": {},
   "source": [
    "### Which float columns have no missing values and could be candidates for conversion to the integer type?"
   ]
  },
  {
   "cell_type": "code",
   "execution_count": 279,
   "metadata": {},
   "outputs": [
    {
     "name": "stdout",
     "output_type": "stream",
     "text": [
      "    1 acc_now_delinq\n",
      "    2 annual_inc\n",
      "    3 chargeoff_within_12_mths\n",
      "    4 collection_recovery_fee\n",
      "    5 collections_12_mths_ex_med\n",
      "    6 delinq_2yrs\n",
      "    7 delinq_amnt\n",
      "    8 dti\n",
      "    9 funded_amnt\n",
      "   10 funded_amnt_inv\n",
      "   11 inq_last_6mths\n",
      "   12 installment\n",
      "   13 last_pymnt_amnt\n",
      "   14 loan_amnt\n",
      "   15 member_id\n",
      "   16 open_acc\n",
      "   17 out_prncp\n",
      "   18 out_prncp_inv\n",
      "   19 policy_code\n",
      "   20 pub_rec\n",
      "   21 pub_rec_bankruptcies\n",
      "   22 recoveries\n",
      "   23 revol_bal\n",
      "   24 tax_liens\n",
      "   25 total_acc\n",
      "   26 total_pymnt\n",
      "   27 total_pymnt_inv\n",
      "   28 total_rec_int\n",
      "   29 total_rec_late_fee\n",
      "   30 total_rec_prncp\n"
     ]
    }
   ],
   "source": [
    "chunks_iter = pd.read_csv(\"loans_2007.csv\", chunksize = 3000)\n",
    "\n",
    "cols = []\n",
    "\n",
    "for chunk in chunks_iter:\n",
    "    floats = chunk.select_dtypes(include = \"float\")\n",
    "    floats_null = floats.columns[~floats.isnull().any()].tolist()\n",
    "    cols.append(floats_null)\n",
    "                            \n",
    "union = sorted(set().union(*cols))\n",
    "\n",
    "for i, u in enumerate(union, 1):\n",
    "    print(f\"{i:5} {u}\")"
   ]
  },
  {
   "cell_type": "markdown",
   "metadata": {},
   "source": [
    "### Calculate memory usage across all chunks"
   ]
  },
  {
   "cell_type": "code",
   "execution_count": 293,
   "metadata": {},
   "outputs": [
    {
     "name": "stdout",
     "output_type": "stream",
     "text": [
      "66.22 MBs\n"
     ]
    }
   ],
   "source": [
    "chunks_iter = pd.read_csv(\"loans_2007.csv\", chunksize = 3000)\n",
    "\n",
    "bits = 0\n",
    "for chunk in chunks_iter:\n",
    "    bits += chunk.memory_usage(deep = True).sum() / (1024 * 1024)\n",
    "    \n",
    "print(f\"{round(bits, 2):2} MBs\")"
   ]
  },
  {
   "cell_type": "markdown",
   "metadata": {},
   "source": [
    "### Optimizing String Columns"
   ]
  },
  {
   "cell_type": "markdown",
   "metadata": {},
   "source": [
    "Let's first see what string columns we should look at."
   ]
  },
  {
   "cell_type": "code",
   "execution_count": 317,
   "metadata": {},
   "outputs": [
    {
     "name": "stdout",
     "output_type": "stream",
     "text": [
      "                                      0                1\n",
      "id                              1077501          1077430\n",
      "member_id                    1.2966e+06      1.31417e+06\n",
      "loan_amnt                          5000             2500\n",
      "funded_amnt                        5000             2500\n",
      "funded_amnt_inv                    4975             2500\n",
      "term                          36 months        60 months\n",
      "int_rate                         10.65%           15.27%\n",
      "installment                      162.87            59.83\n",
      "grade                                 B                C\n",
      "sub_grade                            B2               C4\n",
      "emp_title                           NaN            Ryder\n",
      "emp_length                    10+ years         < 1 year\n",
      "home_ownership                     RENT             RENT\n",
      "annual_inc                        24000            30000\n",
      "verification_status            Verified  Source Verified\n",
      "issue_d                        Dec-2011         Dec-2011\n",
      "loan_status                  Fully Paid      Charged Off\n",
      "pymnt_plan                            n                n\n",
      "purpose                     credit_card              car\n",
      "title                          Computer             bike\n",
      "zip_code                          860xx            309xx\n",
      "addr_state                           AZ               GA\n",
      "dti                               27.65                1\n",
      "delinq_2yrs                           0                0\n",
      "earliest_cr_line               Jan-1985         Apr-1999\n",
      "inq_last_6mths                        1                5\n",
      "open_acc                              3                3\n",
      "pub_rec                               0                0\n",
      "revol_bal                         13648             1687\n",
      "revol_util                        83.7%             9.4%\n",
      "total_acc                             9                4\n",
      "initial_list_status                   f                f\n",
      "out_prncp                             0                0\n",
      "out_prncp_inv                         0                0\n",
      "total_pymnt                     5863.16          1008.71\n",
      "total_pymnt_inv                 5833.84          1008.71\n",
      "total_rec_prncp                    5000           456.46\n",
      "total_rec_int                    863.16           435.17\n",
      "total_rec_late_fee                    0                0\n",
      "recoveries                            0           117.08\n",
      "collection_recovery_fee               0             1.11\n",
      "last_pymnt_d                   Jan-2015         Apr-2013\n",
      "last_pymnt_amnt                  171.62           119.66\n",
      "last_credit_pull_d             Jun-2016         Sep-2013\n",
      "collections_12_mths_ex_med            0                0\n",
      "policy_code                           1                1\n",
      "application_type             INDIVIDUAL       INDIVIDUAL\n",
      "acc_now_delinq                        0                0\n",
      "chargeoff_within_12_mths              0                0\n",
      "delinq_amnt                           0                0\n",
      "pub_rec_bankruptcies                  0                0\n",
      "tax_liens                             0                0\n"
     ]
    }
   ],
   "source": [
    "chunks_iter = pd.read_csv(\"loans_2007.csv\", chunksize = 3000)\n",
    "\n",
    "for chunk in chunks_iter:\n",
    "    print(chunk.head(2).transpose())\n",
    "    break"
   ]
  },
  {
   "cell_type": "markdown",
   "metadata": {},
   "source": [
    "Let's just go with the following columns."
   ]
  },
  {
   "cell_type": "code",
   "execution_count": 320,
   "metadata": {},
   "outputs": [],
   "source": [
    "useful_obj_cols = ['term', \n",
    "                   'sub_grade', \n",
    "                   'emp_title', \n",
    "                   'grade',\n",
    "                   'sub_grade',\n",
    "                   'home_ownership', \n",
    "                   'verification_status', \n",
    "                   'issue_d', \n",
    "                   'purpose', \n",
    "                   'earliest_cr_line', \n",
    "                   'revol_util', \n",
    "                   'last_pymnt_d', \n",
    "                   'last_credit_pull_d']"
   ]
  },
  {
   "cell_type": "code",
   "execution_count": 323,
   "metadata": {},
   "outputs": [
    {
     "name": "stdout",
     "output_type": "stream",
     "text": [
      "term                   object\n",
      "grade                  object\n",
      "sub_grade              object\n",
      "emp_title              object\n",
      "home_ownership         object\n",
      "verification_status    object\n",
      "issue_d                object\n",
      "purpose                object\n",
      "earliest_cr_line       object\n",
      "revol_util             object\n",
      "last_pymnt_d           object\n",
      "last_credit_pull_d     object\n",
      "dtype: object\n"
     ]
    }
   ],
   "source": [
    "chunks_iter = pd.read_csv(\"loans_2007.csv\", chunksize = 3000, usecols = useful_obj_cols)\n",
    "\n",
    "for chunk in chunks_iter:\n",
    "    print(chunk.dtypes)\n",
    "    break"
   ]
  },
  {
   "cell_type": "code",
   "execution_count": null,
   "metadata": {},
   "outputs": [],
   "source": []
  }
 ],
 "metadata": {
  "kernelspec": {
   "display_name": "Python 3",
   "language": "python",
   "name": "python3"
  },
  "language_info": {
   "codemirror_mode": {
    "name": "ipython",
    "version": 3
   },
   "file_extension": ".py",
   "mimetype": "text/x-python",
   "name": "python",
   "nbconvert_exporter": "python",
   "pygments_lexer": "ipython3",
   "version": "3.8.3"
  }
 },
 "nbformat": 4,
 "nbformat_minor": 4
}
