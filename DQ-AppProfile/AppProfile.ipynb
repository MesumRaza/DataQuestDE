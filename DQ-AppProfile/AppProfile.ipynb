{
 "cells": [
  {
   "cell_type": "markdown",
   "metadata": {},
   "source": [
    " # Profitable App Profiles\n",
    " \n",
    " This is a guided project. The aim here is to:\n",
    " \n",
    " 1. To review basic, raw Python skills\n",
    " 2. Get an idea of what kinds of apps are likely to attract more users. The idea is we work at a company which offers apps which are free to donwload and install, and are aimed at English-speaking audiences.\n",
    " \n",
    " For this, we'll be using two datasets:\n",
    " \n",
    "1. Google Play Data: This was collected August 2018 and contains data on approx. 10,000 Android Apps.\n",
    "2. Apple Data: This was collected July 2017 and contains data on approx. 7,000 IOS Apps.\n",
    "\n",
    "Our end goal is to add an app on both Google Play and the App store. We therefore need to find app profiles that are successful on both markets."
   ]
  },
  {
   "cell_type": "markdown",
   "metadata": {},
   "source": [
    "## Data Exploration"
   ]
  },
  {
   "cell_type": "code",
   "execution_count": 1,
   "metadata": {},
   "outputs": [],
   "source": [
    "# Imports\n",
    "from csv import reader"
   ]
  },
  {
   "cell_type": "code",
   "execution_count": 2,
   "metadata": {},
   "outputs": [],
   "source": [
    "# Open Google\n",
    "file = open(\"googleplaystore.csv\")\n",
    "google = list(reader(file))\n",
    "file.close()\n",
    "\n",
    "# Open Apple\n",
    "file = open(\"AppleStore.csv\")\n",
    "apple = list(reader(file))\n",
    "file.close()"
   ]
  },
  {
   "cell_type": "code",
   "execution_count": 3,
   "metadata": {},
   "outputs": [],
   "source": [
    "# Explore data\n",
    "def explore_data(dataset, start, end, rows_and_columns = False):\n",
    "    dataset_slice = dataset[start:end]    \n",
    "    for row in dataset_slice:\n",
    "        print(row)\n",
    "        print('\\n') # adds a new (empty) line after each row\n",
    "\n",
    "    if rows_and_columns:\n",
    "        print('Number of rows:', len(dataset))\n",
    "        print('Number of columns:', len(dataset[0]))"
   ]
  },
  {
   "cell_type": "code",
   "execution_count": 4,
   "metadata": {},
   "outputs": [
    {
     "name": "stdout",
     "output_type": "stream",
     "text": [
      "['App', 'Category', 'Rating', 'Reviews', 'Size', 'Installs', 'Type', 'Price', 'Content Rating', 'Genres', 'Last Updated', 'Current Ver', 'Android Ver']\n",
      "\n",
      "\n",
      "['Photo Editor & Candy Camera & Grid & ScrapBook', 'ART_AND_DESIGN', '4.1', '159', '19M', '10,000+', 'Free', '0', 'Everyone', 'Art & Design', 'January 7, 2018', '1.0.0', '4.0.3 and up']\n",
      "\n",
      "\n",
      "['Coloring book moana', 'ART_AND_DESIGN', '3.9', '967', '14M', '500,000+', 'Free', '0', 'Everyone', 'Art & Design;Pretend Play', 'January 15, 2018', '2.0.0', '4.0.3 and up']\n",
      "\n",
      "\n",
      "['U Launcher Lite – FREE Live Cool Themes, Hide Apps', 'ART_AND_DESIGN', '4.7', '87510', '8.7M', '5,000,000+', 'Free', '0', 'Everyone', 'Art & Design', 'August 1, 2018', '1.2.4', '4.0.3 and up']\n",
      "\n",
      "\n",
      "['Sketch - Draw & Paint', 'ART_AND_DESIGN', '4.5', '215644', '25M', '50,000,000+', 'Free', '0', 'Teen', 'Art & Design', 'June 8, 2018', 'Varies with device', '4.2 and up']\n",
      "\n",
      "\n",
      "Number of rows: 10842\n",
      "Number of columns: 13\n"
     ]
    }
   ],
   "source": [
    "# Google Data Exploration\n",
    "explore_data(google, 0, 5, True)"
   ]
  },
  {
   "cell_type": "code",
   "execution_count": 5,
   "metadata": {},
   "outputs": [
    {
     "name": "stdout",
     "output_type": "stream",
     "text": [
      "['id', 'track_name', 'size_bytes', 'currency', 'price', 'rating_count_tot', 'rating_count_ver', 'user_rating', 'user_rating_ver', 'ver', 'cont_rating', 'prime_genre', 'sup_devices.num', 'ipadSc_urls.num', 'lang.num', 'vpp_lic']\n",
      "\n",
      "\n",
      "['284882215', 'Facebook', '389879808', 'USD', '0.0', '2974676', '212', '3.5', '3.5', '95.0', '4+', 'Social Networking', '37', '1', '29', '1']\n",
      "\n",
      "\n",
      "['389801252', 'Instagram', '113954816', 'USD', '0.0', '2161558', '1289', '4.5', '4.0', '10.23', '12+', 'Photo & Video', '37', '0', '29', '1']\n",
      "\n",
      "\n",
      "['529479190', 'Clash of Clans', '116476928', 'USD', '0.0', '2130805', '579', '4.5', '4.5', '9.24.12', '9+', 'Games', '38', '5', '18', '1']\n",
      "\n",
      "\n",
      "['420009108', 'Temple Run', '65921024', 'USD', '0.0', '1724546', '3842', '4.5', '4.0', '1.6.2', '9+', 'Games', '40', '5', '1', '1']\n",
      "\n",
      "\n",
      "Number of rows: 7198\n",
      "Number of columns: 16\n"
     ]
    }
   ],
   "source": [
    "# Apple Data Exploration\n",
    "explore_data(apple, 0, 5, True)"
   ]
  },
  {
   "cell_type": "markdown",
   "metadata": {},
   "source": [
    "---\n",
    "\n",
    "We can see that for our **Google data**:\n",
    "\n",
    "* There are 10842 rows (including header row)\n",
    "* There are 13 columns\n",
    "\n",
    "We can see that for our **Apple data**:\n",
    "\n",
    "* There are 7198 rows (including header row)\n",
    "* There are 16 columns\n",
    "\n",
    "---\n",
    "\n",
    "For our analysis, we want to indentify the apps which are most profitable. We therefore may want to focus on columns that relate to app reviews and price.\n",
    "\n",
    "---\n",
    "\n",
    "Next up, we note in a Kaggle discussion that one of the rows of data is missing some data. Let's loop through all rows and find rows which don't have the same number of entries as the header row."
   ]
  },
  {
   "cell_type": "markdown",
   "metadata": {},
   "source": [
    "## Data Cleaning"
   ]
  },
  {
   "cell_type": "markdown",
   "metadata": {},
   "source": [
    "### Duplicates"
   ]
  },
  {
   "cell_type": "code",
   "execution_count": 6,
   "metadata": {},
   "outputs": [
    {
     "name": "stdout",
     "output_type": "stream",
     "text": [
      "['Life Made WI-Fi Touchscreen Photo Frame', '1.9', '19', '3.0M', '1,000+', 'Free', '0', 'Everyone', '', 'February 11, 2018', '1.0.19', '4.0 and up']\n",
      "10473\n"
     ]
    }
   ],
   "source": [
    "for row in google:\n",
    "    if len(row) != len(google[0]):\n",
    "        print(row)\n",
    "        print(google.index(row))"
   ]
  },
  {
   "cell_type": "markdown",
   "metadata": {},
   "source": [
    "We've found the row. We can see that it is missing some data. Let's delete it."
   ]
  },
  {
   "cell_type": "code",
   "execution_count": 7,
   "metadata": {},
   "outputs": [],
   "source": [
    "del google[10473]"
   ]
  },
  {
   "cell_type": "markdown",
   "metadata": {},
   "source": [
    "From reading some more Kaggle discussions, it looks like the Google data may have a duplicate applications. Let's see if we can find these."
   ]
  },
  {
   "cell_type": "code",
   "execution_count": 23,
   "metadata": {},
   "outputs": [
    {
     "name": "stdout",
     "output_type": "stream",
     "text": [
      "1181\n"
     ]
    }
   ],
   "source": [
    "total = 0\n",
    "count = 1\n",
    "for row1 in google[1:]:\n",
    "    count += 1\n",
    "    for row2 in google[count:]:\n",
    "        if row2[0] == row1[0]:\n",
    "            total += 1\n",
    "            break\n",
    "print(total)"
   ]
  },
  {
   "cell_type": "markdown",
   "metadata": {},
   "source": [
    "In the above, we can see that there are 1181 duplicates. Note we can also do something like the below to find duplicates."
   ]
  },
  {
   "cell_type": "code",
   "execution_count": 24,
   "metadata": {},
   "outputs": [
    {
     "name": "stdout",
     "output_type": "stream",
     "text": [
      "1181\n"
     ]
    }
   ],
   "source": [
    "duplicate_list = list()\n",
    "unique_list = list()\n",
    "\n",
    "for row in google[1:]:\n",
    "    app = row[0]\n",
    "    if app in unique_list:\n",
    "        duplicate_list.append(app)\n",
    "    else:\n",
    "        unique_list.append(app)\n",
    "        \n",
    "print(len(duplicate_list))   "
   ]
  },
  {
   "cell_type": "markdown",
   "metadata": {},
   "source": [
    "Let's explore the duplicates and see if we can remove them."
   ]
  },
  {
   "cell_type": "code",
   "execution_count": 26,
   "metadata": {},
   "outputs": [
    {
     "data": {
      "text/plain": [
       "['Quick PDF Scanner + OCR FREE',\n",
       " 'Box',\n",
       " 'Google My Business',\n",
       " 'ZOOM Cloud Meetings',\n",
       " 'join.me - Simple Meetings',\n",
       " 'Box',\n",
       " 'Zenefits',\n",
       " 'Google Ads',\n",
       " 'Google My Business',\n",
       " 'Slack']"
      ]
     },
     "execution_count": 26,
     "metadata": {},
     "output_type": "execute_result"
    }
   ],
   "source": [
    "duplicate_list[:10]"
   ]
  },
  {
   "cell_type": "code",
   "execution_count": 43,
   "metadata": {},
   "outputs": [
    {
     "name": "stdout",
     "output_type": "stream",
     "text": [
      "['Instagram', 'SOCIAL', '4.5', '66577313', 'Varies with device', '1,000,000,000+', 'Free', '0', 'Teen', 'Social', 'July 31, 2018', 'Varies with device', 'Varies with device']\n",
      "['Instagram', 'SOCIAL', '4.5', '66577446', 'Varies with device', '1,000,000,000+', 'Free', '0', 'Teen', 'Social', 'July 31, 2018', 'Varies with device', 'Varies with device']\n",
      "['Instagram', 'SOCIAL', '4.5', '66577313', 'Varies with device', '1,000,000,000+', 'Free', '0', 'Teen', 'Social', 'July 31, 2018', 'Varies with device', 'Varies with device']\n",
      "['Instagram', 'SOCIAL', '4.5', '66509917', 'Varies with device', '1,000,000,000+', 'Free', '0', 'Teen', 'Social', 'July 31, 2018', 'Varies with device', 'Varies with device']\n"
     ]
    }
   ],
   "source": [
    "for row in google:\n",
    "    if row[0] == \"Instagram\":\n",
    "        print(row)"
   ]
  },
  {
   "cell_type": "markdown",
   "metadata": {},
   "source": [
    "We can see a slight different at index 3. This corrosponds to number of reviews. A criterion for removing the duplicates could be to keep the record with the highest number of reviews (the most recent entry) and remove the rest. "
   ]
  },
  {
   "cell_type": "code",
   "execution_count": 46,
   "metadata": {},
   "outputs": [],
   "source": [
    "dictionary = dict()\n",
    "\n",
    "for row in google[1:]:\n",
    "    app = row[0]\n",
    "    review = row[3]\n",
    "    if app not in dictionary:\n",
    "        dictionary[app] = review\n",
    "    else:\n",
    "        if review > dictionary[app]:\n",
    "            dictionary[app] = review"
   ]
  },
  {
   "cell_type": "markdown",
   "metadata": {},
   "source": [
    "Now that we have a dictionary with each app name along with their highest review, we'll use this to amend our current google dataset."
   ]
  },
  {
   "cell_type": "code",
   "execution_count": 58,
   "metadata": {},
   "outputs": [
    {
     "data": {
      "text/plain": [
       "9659"
      ]
     },
     "execution_count": 58,
     "metadata": {},
     "output_type": "execute_result"
    }
   ],
   "source": [
    "google_clean = list()\n",
    "already_added = list()\n",
    "\n",
    "for row in google[1:]:\n",
    "    app = row[0]\n",
    "    review = row[3]\n",
    "    if (review == dictionary[app]) and (app not in already_added):\n",
    "        google_clean.append(row)\n",
    "        already_added.append(app)\n",
    "\n",
    "len(google_clean)"
   ]
  },
  {
   "cell_type": "markdown",
   "metadata": {},
   "source": [
    "### Non-English Apps"
   ]
  },
  {
   "cell_type": "markdown",
   "metadata": {},
   "source": [
    "We have now successfuly removed the duplicate rows.\n",
    "\n",
    "Now let's move. We want to remove any non-English speaking apps. The first step here will be to scan all the app names, and remove any of these records if they contain any uncommon characters (i.e. outside the range of 0 - 127 ASCII). We'll first create a function to do detect whether a string's characters are within this range. As some of our English apps names may contain non-ascii characters (e.g. emojis), we'll only class an app as non-English if it contains more than 3 non-ascii characters."
   ]
  },
  {
   "cell_type": "code",
   "execution_count": 79,
   "metadata": {},
   "outputs": [],
   "source": [
    "def ascii_true(string):\n",
    "    count = 0\n",
    "    for char in string:\n",
    "        if ord(char) > 127:\n",
    "            count += 1\n",
    "    if count > 3:\n",
    "        return False\n",
    "    return True"
   ]
  },
  {
   "cell_type": "markdown",
   "metadata": {},
   "source": [
    "Let's now apply this function to our datasets"
   ]
  },
  {
   "cell_type": "code",
   "execution_count": 88,
   "metadata": {},
   "outputs": [],
   "source": [
    "google_english = list()\n",
    "apple_english = list()\n",
    "\n",
    "for row in google_clean:\n",
    "    app = row[0]\n",
    "    if ascii_true(app):\n",
    "        google_english.append(row)\n",
    "\n",
    "for row in apple:\n",
    "    app = row[1]\n",
    "    if ascii_true(app):\n",
    "        apple_english.append(row)"
   ]
  },
  {
   "cell_type": "code",
   "execution_count": 89,
   "metadata": {},
   "outputs": [
    {
     "data": {
      "text/plain": [
       "9614"
      ]
     },
     "execution_count": 89,
     "metadata": {},
     "output_type": "execute_result"
    }
   ],
   "source": [
    "len(google_english)"
   ]
  },
  {
   "cell_type": "code",
   "execution_count": 90,
   "metadata": {},
   "outputs": [
    {
     "data": {
      "text/plain": [
       "6184"
      ]
     },
     "execution_count": 90,
     "metadata": {},
     "output_type": "execute_result"
    }
   ],
   "source": [
    "len(apple_english)"
   ]
  },
  {
   "cell_type": "markdown",
   "metadata": {},
   "source": [
    "### Free Apps"
   ]
  },
  {
   "cell_type": "markdown",
   "metadata": {},
   "source": [
    "Now let's only keep the apps which are free (i.e. price is equal to 0)"
   ]
  },
  {
   "cell_type": "code",
   "execution_count": 102,
   "metadata": {},
   "outputs": [
    {
     "name": "stdout",
     "output_type": "stream",
     "text": [
      "This leaves us with\n",
      "\n",
      "- 8862 google apps\n",
      "- 3222 apple apps\n"
     ]
    }
   ],
   "source": [
    "google_final = list()\n",
    "apple_final = list()\n",
    "\n",
    "for row in google_english:\n",
    "    price = row[7]\n",
    "    if price == '0':\n",
    "        google_final.append(row)\n",
    "    \n",
    "for row in apple_english:\n",
    "    price = row[4]\n",
    "    if price == '0.0':\n",
    "        apple_final.append(row)\n",
    "        \n",
    "print(f\"This leaves us with\\n\\n- {len(google_final)} google apps\\n- {len(apple_final)} apple apps\")"
   ]
  },
  {
   "cell_type": "markdown",
   "metadata": {},
   "source": [
    "## Common Apps by Genre"
   ]
  },
  {
   "cell_type": "markdown",
   "metadata": {},
   "source": [
    "Now we want to look at some specific columns `Genres` and `Category` in the the Google data, and `prime_genre` in the Apple data. Essentially we want to build an app that does well for both Apple and Google. One place to start is in identifying the most common genres."
   ]
  },
  {
   "cell_type": "code",
   "execution_count": 169,
   "metadata": {},
   "outputs": [],
   "source": [
    "# Will produce a frequency table for any column in list-of-lists\n",
    "def freq_table(dataset, index):\n",
    "    freq = dict()\n",
    "    total = 0\n",
    "    for row in dataset:\n",
    "        total += 1\n",
    "        col = row[index]\n",
    "        if col in freq:\n",
    "            freq[col] += 1\n",
    "        else:\n",
    "            freq[col] = 1\n",
    "            \n",
    "    table_percentages = {}\n",
    "    for key in freq:\n",
    "        percentage = (freq[key] / total) * 100\n",
    "        table_percentages[key] = round(percentage, 2)\n",
    "        \n",
    "    return table_percentages"
   ]
  },
  {
   "cell_type": "code",
   "execution_count": 170,
   "metadata": {},
   "outputs": [],
   "source": [
    "# Will create the frequency table and also format it\n",
    "def display_table(dataset, index):\n",
    "    output = list()\n",
    "    table = freq_table(dataset, index)\n",
    "    for key, value in table.items():\n",
    "        tup = (value, key)\n",
    "        output.append(tup)\n",
    "    sorted_output = sorted(output, reverse = True)\n",
    "    for tup in sorted_output:\n",
    "        print(f\"{tup[1]:40s} : {tup[0]}\")"
   ]
  },
  {
   "cell_type": "code",
   "execution_count": 171,
   "metadata": {},
   "outputs": [
    {
     "name": "stdout",
     "output_type": "stream",
     "text": [
      "Genre frequences for Google\n",
      "\n",
      "Tools                                    : 8.44\n",
      "Entertainment                            : 6.07\n",
      "Education                                : 5.35\n",
      "Business                                 : 4.59\n",
      "Productivity                             : 3.89\n",
      "Lifestyle                                : 3.89\n",
      "Finance                                  : 3.7\n",
      "Medical                                  : 3.52\n",
      "Sports                                   : 3.46\n",
      "Personalization                          : 3.32\n",
      "Communication                            : 3.24\n",
      "Action                                   : 3.1\n",
      "Health & Fitness                         : 3.08\n",
      "Photography                              : 2.95\n",
      "News & Magazines                         : 2.8\n",
      "Social                                   : 2.66\n",
      "Travel & Local                           : 2.32\n",
      "Shopping                                 : 2.25\n",
      "Books & Reference                        : 2.14\n",
      "Simulation                               : 2.04\n",
      "Dating                                   : 1.86\n",
      "Arcade                                   : 1.85\n",
      "Video Players & Editors                  : 1.77\n",
      "Casual                                   : 1.75\n",
      "Maps & Navigation                        : 1.4\n",
      "Food & Drink                             : 1.24\n",
      "Puzzle                                   : 1.13\n",
      "Racing                                   : 0.99\n",
      "Role Playing                             : 0.94\n",
      "Libraries & Demo                         : 0.94\n",
      "Auto & Vehicles                          : 0.93\n",
      "Strategy                                 : 0.91\n",
      "House & Home                             : 0.82\n",
      "Weather                                  : 0.8\n",
      "Events                                   : 0.71\n",
      "Adventure                                : 0.68\n",
      "Comics                                   : 0.61\n",
      "Beauty                                   : 0.6\n",
      "Art & Design                             : 0.6\n",
      "Parenting                                : 0.5\n",
      "Card                                     : 0.44\n",
      "Casino                                   : 0.43\n",
      "Trivia                                   : 0.42\n",
      "Educational;Education                    : 0.39\n",
      "Educational                              : 0.37\n",
      "Board                                    : 0.37\n",
      "Education;Education                      : 0.34\n",
      "Word                                     : 0.26\n",
      "Casual;Pretend Play                      : 0.24\n",
      "Music                                    : 0.2\n",
      "Puzzle;Brain Games                       : 0.18\n",
      "Racing;Action & Adventure                : 0.17\n",
      "Entertainment;Music & Video              : 0.17\n",
      "Casual;Brain Games                       : 0.14\n",
      "Casual;Action & Adventure                : 0.14\n",
      "Arcade;Action & Adventure                : 0.12\n",
      "Action;Action & Adventure                : 0.1\n",
      "Educational;Pretend Play                 : 0.09\n",
      "Board;Brain Games                        : 0.09\n",
      "Simulation;Action & Adventure            : 0.08\n",
      "Parenting;Education                      : 0.08\n",
      "Entertainment;Brain Games                : 0.08\n",
      "Parenting;Music & Video                  : 0.07\n",
      "Educational;Brain Games                  : 0.07\n",
      "Casual;Creativity                        : 0.07\n",
      "Art & Design;Creativity                  : 0.07\n",
      "Education;Pretend Play                   : 0.06\n",
      "Role Playing;Pretend Play                : 0.05\n",
      "Education;Creativity                     : 0.05\n",
      "Role Playing;Action & Adventure          : 0.03\n",
      "Puzzle;Action & Adventure                : 0.03\n",
      "Entertainment;Creativity                 : 0.03\n",
      "Entertainment;Action & Adventure         : 0.03\n",
      "Educational;Creativity                   : 0.03\n",
      "Educational;Action & Adventure           : 0.03\n",
      "Education;Music & Video                  : 0.03\n",
      "Education;Brain Games                    : 0.03\n",
      "Education;Action & Adventure             : 0.03\n",
      "Adventure;Action & Adventure             : 0.03\n",
      "Video Players & Editors;Music & Video    : 0.02\n",
      "Sports;Action & Adventure                : 0.02\n",
      "Simulation;Pretend Play                  : 0.02\n",
      "Puzzle;Creativity                        : 0.02\n",
      "Music;Music & Video                      : 0.02\n",
      "Entertainment;Pretend Play               : 0.02\n",
      "Casual;Education                         : 0.02\n",
      "Board;Action & Adventure                 : 0.02\n",
      "Video Players & Editors;Creativity       : 0.01\n",
      "Trivia;Education                         : 0.01\n",
      "Travel & Local;Action & Adventure        : 0.01\n",
      "Tools;Education                          : 0.01\n",
      "Strategy;Education                       : 0.01\n",
      "Strategy;Creativity                      : 0.01\n",
      "Strategy;Action & Adventure              : 0.01\n",
      "Simulation;Education                     : 0.01\n",
      "Role Playing;Brain Games                 : 0.01\n",
      "Racing;Pretend Play                      : 0.01\n",
      "Puzzle;Education                         : 0.01\n",
      "Parenting;Brain Games                    : 0.01\n",
      "Music & Audio;Music & Video              : 0.01\n",
      "Lifestyle;Pretend Play                   : 0.01\n",
      "Lifestyle;Education                      : 0.01\n",
      "Health & Fitness;Education               : 0.01\n",
      "Health & Fitness;Action & Adventure      : 0.01\n",
      "Entertainment;Education                  : 0.01\n",
      "Communication;Creativity                 : 0.01\n",
      "Comics;Creativity                        : 0.01\n",
      "Casual;Music & Video                     : 0.01\n",
      "Card;Brain Games                         : 0.01\n",
      "Card;Action & Adventure                  : 0.01\n",
      "Books & Reference;Education              : 0.01\n",
      "Art & Design;Pretend Play                : 0.01\n",
      "Art & Design;Action & Adventure          : 0.01\n",
      "Arcade;Pretend Play                      : 0.01\n",
      "Adventure;Education                      : 0.01\n"
     ]
    }
   ],
   "source": [
    "print(\"Genre frequences for Google\\n\")\n",
    "display_table(google_final, 9)"
   ]
  },
  {
   "cell_type": "markdown",
   "metadata": {},
   "source": [
    "Let's make some observations regarding Genre for Google\n",
    "\n",
    "* The most common genres appears to be Tools followed by Entertainment, along with apps genres like Productivity and Education. \n",
    "* This may be a bit misleading, as we can see that are many many categories. For example, we can see that a genre like Games has been split into many subcategories. If we were to aggregate this genre, we might find this to be the most common."
   ]
  },
  {
   "cell_type": "code",
   "execution_count": 172,
   "metadata": {},
   "outputs": [
    {
     "name": "stdout",
     "output_type": "stream",
     "text": [
      "Category frequencies for Google\n",
      "\n",
      "FAMILY                                   : 18.93\n",
      "GAME                                     : 9.69\n",
      "TOOLS                                    : 8.45\n",
      "BUSINESS                                 : 4.59\n",
      "LIFESTYLE                                : 3.9\n",
      "PRODUCTIVITY                             : 3.89\n",
      "FINANCE                                  : 3.7\n",
      "MEDICAL                                  : 3.52\n",
      "SPORTS                                   : 3.4\n",
      "PERSONALIZATION                          : 3.32\n",
      "COMMUNICATION                            : 3.24\n",
      "HEALTH_AND_FITNESS                       : 3.08\n",
      "PHOTOGRAPHY                              : 2.95\n",
      "NEWS_AND_MAGAZINES                       : 2.8\n",
      "SOCIAL                                   : 2.66\n",
      "TRAVEL_AND_LOCAL                         : 2.34\n",
      "SHOPPING                                 : 2.25\n",
      "BOOKS_AND_REFERENCE                      : 2.14\n",
      "DATING                                   : 1.86\n",
      "VIDEO_PLAYERS                            : 1.79\n",
      "MAPS_AND_NAVIGATION                      : 1.4\n",
      "FOOD_AND_DRINK                           : 1.24\n",
      "EDUCATION                                : 1.17\n",
      "ENTERTAINMENT                            : 0.96\n",
      "LIBRARIES_AND_DEMO                       : 0.94\n",
      "AUTO_AND_VEHICLES                        : 0.93\n",
      "HOUSE_AND_HOME                           : 0.82\n",
      "WEATHER                                  : 0.8\n",
      "EVENTS                                   : 0.71\n",
      "PARENTING                                : 0.65\n",
      "ART_AND_DESIGN                           : 0.64\n",
      "COMICS                                   : 0.62\n",
      "BEAUTY                                   : 0.6\n"
     ]
    }
   ],
   "source": [
    "print(\"Category frequencies for Google\\n\")\n",
    "display_table(google_final, 1)"
   ]
  },
  {
   "cell_type": "markdown",
   "metadata": {},
   "source": [
    "Let's make some observations about categories for Google\n",
    "\n",
    "* We can see that Family ranks very high here. Additional research will show that Family really means \"Games for Kids\"\n",
    "* We see that Games is the second highest. Thus we may have been right is speculating before that Games is the most common genre/category. \n",
    "* We can also see some productivity apps ranking quite high"
   ]
  },
  {
   "cell_type": "code",
   "execution_count": 173,
   "metadata": {},
   "outputs": [
    {
     "name": "stdout",
     "output_type": "stream",
     "text": [
      "Genre frequencies for Apple\n",
      "\n",
      "Games                                    : 58.16\n",
      "Entertainment                            : 7.88\n",
      "Photo & Video                            : 4.97\n",
      "Education                                : 3.66\n",
      "Social Networking                        : 3.29\n",
      "Shopping                                 : 2.61\n",
      "Utilities                                : 2.51\n",
      "Sports                                   : 2.14\n",
      "Music                                    : 2.05\n",
      "Health & Fitness                         : 2.02\n",
      "Productivity                             : 1.74\n",
      "Lifestyle                                : 1.58\n",
      "News                                     : 1.33\n",
      "Travel                                   : 1.24\n",
      "Finance                                  : 1.12\n",
      "Weather                                  : 0.87\n",
      "Food & Drink                             : 0.81\n",
      "Reference                                : 0.56\n",
      "Business                                 : 0.53\n",
      "Book                                     : 0.43\n",
      "Navigation                               : 0.19\n",
      "Medical                                  : 0.19\n",
      "Catalogs                                 : 0.12\n"
     ]
    }
   ],
   "source": [
    "print(\"Genre frequencies for Apple\\n\")\n",
    "display_table(apple_final, 11)"
   ]
  },
  {
   "cell_type": "markdown",
   "metadata": {},
   "source": [
    "Let's make some observations regarding the genre columns for Apple:"
   ]
  },
  {
   "cell_type": "markdown",
   "metadata": {},
   "source": [
    "* Games is the most common genre, followed by Entertainment\n",
    "* Most apps appear to be for general entertainment more than anything\n",
    "* This doesn't tell us how popular the apps are"
   ]
  },
  {
   "cell_type": "markdown",
   "metadata": {},
   "source": [
    "## Popular Apps by Genre"
   ]
  },
  {
   "cell_type": "markdown",
   "metadata": {},
   "source": [
    "Now let's look at popular apps. The columns we are interested in here are `rating_count_tot` and `Installs` columns of the Apple and Google datasets respectively. Let's calculate the average number of ratings per app genre for Apple."
   ]
  },
  {
   "cell_type": "code",
   "execution_count": 174,
   "metadata": {},
   "outputs": [
    {
     "data": {
      "text/plain": [
       "{'Social Networking': 3.29,\n",
       " 'Photo & Video': 4.97,\n",
       " 'Games': 58.16,\n",
       " 'Music': 2.05,\n",
       " 'Reference': 0.56,\n",
       " 'Health & Fitness': 2.02,\n",
       " 'Weather': 0.87,\n",
       " 'Utilities': 2.51,\n",
       " 'Travel': 1.24,\n",
       " 'Shopping': 2.61,\n",
       " 'News': 1.33,\n",
       " 'Navigation': 0.19,\n",
       " 'Lifestyle': 1.58,\n",
       " 'Entertainment': 7.88,\n",
       " 'Food & Drink': 0.81,\n",
       " 'Sports': 2.14,\n",
       " 'Book': 0.43,\n",
       " 'Finance': 1.12,\n",
       " 'Education': 3.66,\n",
       " 'Productivity': 1.74,\n",
       " 'Business': 0.53,\n",
       " 'Catalogs': 0.12,\n",
       " 'Medical': 0.19}"
      ]
     },
     "execution_count": 174,
     "metadata": {},
     "output_type": "execute_result"
    }
   ],
   "source": [
    "genres_apple_table = freq_table(apple_final, 11)\n",
    "genres_apple_table"
   ]
  },
  {
   "cell_type": "code",
   "execution_count": 175,
   "metadata": {},
   "outputs": [
    {
     "name": "stdout",
     "output_type": "stream",
     "text": [
      "Average number of ratings per app genre for Apple\n",
      "\n",
      "Social Networking    : 71548.35\n",
      "Photo & Video        : 28441.54\n",
      "Games                : 22788.67\n",
      "Music                : 57326.53\n",
      "Reference            : 74942.11\n",
      "Health & Fitness     : 23298.02\n",
      "Weather              : 52279.89\n",
      "Utilities            : 18684.46\n",
      "Travel               : 28243.80\n",
      "Shopping             : 26919.69\n",
      "News                 : 21248.02\n",
      "Navigation           : 86090.33\n",
      "Lifestyle            : 16485.76\n",
      "Entertainment        : 14029.83\n",
      "Food & Drink         : 33333.92\n",
      "Sports               : 23008.90\n",
      "Book                 : 39758.50\n",
      "Finance              : 31467.94\n",
      "Education            : 7003.98\n",
      "Productivity         : 21028.41\n",
      "Business             : 7491.12\n",
      "Catalogs             : 4004.00\n",
      "Medical              : 612.00\n"
     ]
    }
   ],
   "source": [
    "print(\"Average number of ratings per app genre for Apple\\n\")\n",
    "for genre in genres_apple_table:\n",
    "    total = 0\n",
    "    len_genre = 0\n",
    "    for row in apple_final:\n",
    "        genre_app = row[11]\n",
    "        if genre == genre_app:\n",
    "            user_ratings = float(row[5])\n",
    "            total += user_ratings\n",
    "            len_genre += 1\n",
    "    print(f\"{genre:20s} : {total / len_genre:.2f}\")"
   ]
  },
  {
   "cell_type": "markdown",
   "metadata": {},
   "source": [
    "We can see that the highest here is for Navigation"
   ]
  },
  {
   "cell_type": "code",
   "execution_count": 176,
   "metadata": {},
   "outputs": [
    {
     "name": "stdout",
     "output_type": "stream",
     "text": [
      "Waze - GPS Navigation, Maps & Real-time Traffic 345046\n",
      "Google Maps - Navigation & Transit 154911\n",
      "Geocaching® 12811\n",
      "CoPilot GPS – Car Navigation & Offline Maps 3582\n",
      "ImmobilienScout24: Real Estate Search in Germany 187\n",
      "Railway Route Search 5\n"
     ]
    }
   ],
   "source": [
    "for row in apple_final:\n",
    "    if row[11] == \"Navigation\":\n",
    "        print(row[1], row[5])"
   ]
  },
  {
   "cell_type": "markdown",
   "metadata": {},
   "source": [
    "We can see that there are only a handful of apps for Genre, wth Waze and Google heavily skewing the data. This is likely to be a problem. Certain companies will be skewing the data, making a genre look popular, which in reality, a lot of smaller apps of these genres may not be doing well at all.\n",
    "\n",
    "Let's now look at Google."
   ]
  },
  {
   "cell_type": "code",
   "execution_count": 183,
   "metadata": {},
   "outputs": [
    {
     "data": {
      "text/plain": [
       "{'10,000+': 10.2,\n",
       " '5,000,000+': 6.84,\n",
       " '50,000,000+': 2.29,\n",
       " '100,000+': 11.55,\n",
       " '50,000+': 4.77,\n",
       " '1,000,000+': 15.74,\n",
       " '10,000,000+': 10.52,\n",
       " '5,000+': 4.51,\n",
       " '500,000+': 5.57,\n",
       " '1,000,000,000+': 0.23,\n",
       " '100,000,000+': 2.12,\n",
       " '1,000+': 8.4,\n",
       " '500,000,000+': 0.27,\n",
       " '500+': 3.25,\n",
       " '100+': 6.92,\n",
       " '50+': 1.92,\n",
       " '10+': 3.54,\n",
       " '1+': 0.51,\n",
       " '5+': 0.79,\n",
       " '0+': 0.05,\n",
       " '0': 0.01}"
      ]
     },
     "execution_count": 183,
     "metadata": {},
     "output_type": "execute_result"
    }
   ],
   "source": [
    "google_ratings = freq_table(google_final, 5)\n",
    "google_ratings"
   ]
  },
  {
   "cell_type": "markdown",
   "metadata": {},
   "source": [
    "In the above, we can see some \"+\" characters. For the pursposes of this project, we'll just assuming that \"100,000+\" is equivelent to \"100000\""
   ]
  },
  {
   "cell_type": "code",
   "execution_count": 198,
   "metadata": {},
   "outputs": [
    {
     "name": "stdout",
     "output_type": "stream",
     "text": [
      "ART_AND_DESIGN       : 1986335\n",
      "AUTO_AND_VEHICLES    : 647318\n",
      "BEAUTY               : 513152\n",
      "BOOKS_AND_REFERENCE  : 8767812\n",
      "BUSINESS             : 1712290\n",
      "COMICS               : 817657\n",
      "COMMUNICATION        : 38456119\n",
      "DATING               : 854029\n",
      "EDUCATION            : 1820673\n",
      "ENTERTAINMENT        : 11640706\n",
      "EVENTS               : 253542\n",
      "FINANCE              : 1387692\n",
      "FOOD_AND_DRINK       : 1924898\n",
      "HEALTH_AND_FITNESS   : 4188822\n",
      "HOUSE_AND_HOME       : 1331541\n",
      "LIBRARIES_AND_DEMO   : 638504\n",
      "LIFESTYLE            : 1437816\n",
      "GAME                 : 15560966\n",
      "FAMILY               : 3694276\n",
      "MEDICAL              : 120616\n",
      "SOCIAL               : 23253652\n",
      "SHOPPING             : 7036877\n",
      "PHOTOGRAPHY          : 17805628\n",
      "SPORTS               : 3638640\n",
      "TRAVEL_AND_LOCAL     : 13984078\n",
      "TOOLS                : 10682301\n",
      "PERSONALIZATION      : 5201483\n",
      "PRODUCTIVITY         : 16787331\n",
      "PARENTING            : 542604\n",
      "WEATHER              : 5074486\n",
      "VIDEO_PLAYERS        : 24727872\n",
      "NEWS_AND_MAGAZINES   : 9549178\n",
      "MAPS_AND_NAVIGATION  : 4056942\n"
     ]
    }
   ],
   "source": [
    "freq_cat = freq_table(google_final, 1)\n",
    "\n",
    "for cat in freq_cat:\n",
    "    len_cat = 0\n",
    "    total = 0\n",
    "    for row in google_final:\n",
    "        if cat == row[1]:\n",
    "            installs = row[5]\n",
    "            installs = installs.replace(\",\", \"\").replace(\"+\", \"\")\n",
    "            installs = float(installs)\n",
    "            total += installs\n",
    "            len_cat += 1\n",
    "            \n",
    "    avg_installs = total / len_cat\n",
    "    print(f\"{cat:20s} : {avg_installs:.0f}\")"
   ]
  },
  {
   "cell_type": "markdown",
   "metadata": {},
   "source": [
    "Now we can get an idea of the most popular apps. Although we can note some of these, such as Communications, additional reasearch should be conducted to assess whether a category like Communication is being heavily skewed by a few big apps. Ultimately, we don't want to develop a Communication app thinking it will be popular, when it reality it's popularity is explained only by big names like WhatsApp.\n",
    "\n",
    "To be continued..."
   ]
  },
  {
   "cell_type": "code",
   "execution_count": null,
   "metadata": {},
   "outputs": [],
   "source": []
  }
 ],
 "metadata": {
  "kernelspec": {
   "display_name": "Python 3",
   "language": "python",
   "name": "python3"
  },
  "language_info": {
   "codemirror_mode": {
    "name": "ipython",
    "version": 3
   },
   "file_extension": ".py",
   "mimetype": "text/x-python",
   "name": "python",
   "nbconvert_exporter": "python",
   "pygments_lexer": "ipython3",
   "version": "3.8.3"
  }
 },
 "nbformat": 4,
 "nbformat_minor": 4
}
