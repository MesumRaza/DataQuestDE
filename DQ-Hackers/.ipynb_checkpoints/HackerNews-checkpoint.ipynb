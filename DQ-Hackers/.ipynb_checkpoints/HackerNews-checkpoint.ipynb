{
 "cells": [
  {
   "cell_type": "markdown",
   "metadata": {},
   "source": [
    "# Hacker News"
   ]
  },
  {
   "cell_type": "markdown",
   "metadata": {},
   "source": [
    "Hacker news is similar to Reddit, where user submitted stories are voted and commented upon.\n",
    "\n",
    "In this project, we'll explore a Hacker News dataset from 2016, and aim to answer the following questions:\n",
    "\n",
    "1. Do Ask HN or Show HN receive more comments on average?\n",
    "2. Do posts created at a certain time receive more comments on average?\n",
    "\n",
    "Note:\n",
    "\n",
    "* **Ask HN** refers to users asking questions of the Hacker News community. \n",
    "* **Show HN** refers to users showing the Hacker News community somthing\n",
    "\n",
    "Let's get started\n",
    "\n",
    "---"
   ]
  },
  {
   "cell_type": "markdown",
   "metadata": {},
   "source": [
    "## Examining The Data"
   ]
  },
  {
   "cell_type": "code",
   "execution_count": 22,
   "metadata": {},
   "outputs": [],
   "source": [
    "from csv import reader\n",
    "\n",
    "import datetime as dt"
   ]
  },
  {
   "cell_type": "code",
   "execution_count": 23,
   "metadata": {},
   "outputs": [],
   "source": [
    "with open(\"hacker_news.csv\") as file:\n",
    "    hn = list(reader(file))"
   ]
  },
  {
   "cell_type": "code",
   "execution_count": 24,
   "metadata": {},
   "outputs": [],
   "source": [
    "header = hn[0]\n",
    "hn = hn[1:]"
   ]
  },
  {
   "cell_type": "code",
   "execution_count": 25,
   "metadata": {},
   "outputs": [
    {
     "name": "stdout",
     "output_type": "stream",
     "text": [
      "['id', 'title', 'url', 'num_points', 'num_comments', 'author', 'created_at']\n"
     ]
    }
   ],
   "source": [
    "print(header)"
   ]
  },
  {
   "cell_type": "code",
   "execution_count": 4,
   "metadata": {},
   "outputs": [
    {
     "name": "stdout",
     "output_type": "stream",
     "text": [
      "\n",
      "['12224879', 'Interactive Dynamic Video', 'http://www.interactivedynamicvideo.com/', '386', '52', 'ne0phyte', '8/4/2016 11:52']\n",
      "\n",
      "['10975351', 'How to Use Open Source and Shut the Fuck Up at the Same Time', 'http://hueniverse.com/2016/01/26/how-to-use-open-source-and-shut-the-fuck-up-at-the-same-time/', '39', '10', 'josep2', '1/26/2016 19:30']\n",
      "\n",
      "['11964716', \"Florida DJs May Face Felony for April Fools' Water Joke\", 'http://www.thewire.com/entertainment/2013/04/florida-djs-april-fools-water-joke/63798/', '2', '1', 'vezycash', '6/23/2016 22:20']\n",
      "\n",
      "['11919867', 'Technology ventures: From Idea to Enterprise', 'https://www.amazon.com/Technology-Ventures-Enterprise-Thomas-Byers/dp/0073523429', '3', '1', 'hswarna', '6/17/2016 0:01']\n",
      "\n",
      "['10301696', 'Note by Note: The Making of Steinway L1037 (2007)', 'http://www.nytimes.com/2007/11/07/movies/07stein.html?_r=0', '8', '2', 'walterbell', '9/30/2015 4:12']\n"
     ]
    }
   ],
   "source": [
    "for row in hn[:5]:\n",
    "    print()\n",
    "    print(row)"
   ]
  },
  {
   "cell_type": "markdown",
   "metadata": {},
   "source": [
    "Next up, we want to create a new list of lists. If we looked closed at the data, we'll see that some titles start with **Ask HN**, while others start with **Show HN**. We only want to keep these ones. We can see that the `title` column is index 1."
   ]
  },
  {
   "cell_type": "markdown",
   "metadata": {},
   "source": [
    "## Filtering the Data"
   ]
  },
  {
   "cell_type": "code",
   "execution_count": 8,
   "metadata": {},
   "outputs": [],
   "source": [
    "ask_posts = list()\n",
    "show_posts = list()\n",
    "other_posts = list()\n",
    "\n",
    "for row in hn:\n",
    "    title = row[1]\n",
    "    if title.lower().startswith(\"ask hn\"):\n",
    "        ask_posts.append(row)\n",
    "    elif title.lower().startswith(\"show hn\"):\n",
    "        show_posts.append(row)\n",
    "    else:\n",
    "        other_posts.append(row)"
   ]
  },
  {
   "cell_type": "code",
   "execution_count": 9,
   "metadata": {},
   "outputs": [
    {
     "name": "stdout",
     "output_type": "stream",
     "text": [
      "Ask Posts - 1744\n",
      "Show Posts - 1162\n",
      "Other Posts - 17194\n"
     ]
    }
   ],
   "source": [
    "print(f\"Ask Posts - {len(ask_posts)}\")\n",
    "print(f\"Show Posts - {len(show_posts)}\")\n",
    "print(f\"Other Posts - {len(other_posts)}\")"
   ]
  },
  {
   "cell_type": "markdown",
   "metadata": {},
   "source": [
    "Now that we've allocated out the data, let's calculate the average number of comments for show posts, as well as for ask posts."
   ]
  },
  {
   "cell_type": "markdown",
   "metadata": {},
   "source": [
    "## Ask and Show Comments Average"
   ]
  },
  {
   "cell_type": "code",
   "execution_count": 13,
   "metadata": {},
   "outputs": [],
   "source": [
    "total_ask_comments = 0\n",
    "for row in ask_posts:\n",
    "    comments = float(row[4])\n",
    "    total_ask_comments += comments\n",
    "\n",
    "avg_ask_comments = round(total_ask_comments / len(ask_posts), 2)\n",
    "\n",
    "total_show_comments = 0\n",
    "for row in show_posts:\n",
    "    comments = float(row[4])\n",
    "    total_show_comments += comments\n",
    "    \n",
    "avg_show_comments = round(total_show_comments / len(show_posts), 2)"
   ]
  },
  {
   "cell_type": "code",
   "execution_count": 26,
   "metadata": {},
   "outputs": [
    {
     "name": "stdout",
     "output_type": "stream",
     "text": [
      "Average number of ask comments is 14.04\n",
      "Average number of show comments is 10.32\n"
     ]
    }
   ],
   "source": [
    "print(f\"Average number of ask comments is {avg_ask_comments}\")\n",
    "print(f\"Average number of show comments is {avg_show_comments}\")"
   ]
  },
  {
   "cell_type": "markdown",
   "metadata": {},
   "source": [
    "We can see from this that ask questions recieve slightly more comments on average compared to show questions."
   ]
  },
  {
   "cell_type": "markdown",
   "metadata": {},
   "source": [
    "## Ask posts and comments by Hour"
   ]
  },
  {
   "cell_type": "markdown",
   "metadata": {},
   "source": [
    "Next, we'll determine if ask posts created at a certain time are more likely to attract comments. We'll use the following steps to perform this analysis:\n",
    "\n",
    "* Calculate the amount of ask posts created in each hour of the day, along with the number of comments received.\n",
    "* Calculate the average number of comments ask posts receive by hour created."
   ]
  },
  {
   "cell_type": "code",
   "execution_count": 32,
   "metadata": {},
   "outputs": [],
   "source": [
    "results_list = list()\n",
    "\n",
    "for row in ask_posts:\n",
    "    comments = row[4]\n",
    "    date = row[6]\n",
    "    results_list.append([date, comments])"
   ]
  },
  {
   "cell_type": "code",
   "execution_count": 44,
   "metadata": {},
   "outputs": [],
   "source": [
    "counts_by_hour = dict()\n",
    "comments_by_hour = dict()\n",
    "\n",
    "for row in results_list:\n",
    "    comments = float(row[1])\n",
    "    date = dt.datetime.strptime(row[0], \"%m/%d/%Y %H:%M\")\n",
    "    hour = date.strftime(\"%H\")\n",
    "    if hour not in counts_by_hour:\n",
    "        comments_by_hour[hour] = comments\n",
    "        counts_by_hour[hour] = 1\n",
    "    else:\n",
    "        comments_by_hour[hour] += comments\n",
    "        counts_by_hour[hour] += 1"
   ]
  },
  {
   "cell_type": "code",
   "execution_count": 49,
   "metadata": {},
   "outputs": [],
   "source": [
    "def print_table(dictionary):\n",
    "    li = list()\n",
    "    for key, value in dictionary.items():\n",
    "        tup = (value, key)\n",
    "        li.append(tup)\n",
    "    sorted_li = sorted(li, reverse = True)\n",
    "    for items in sorted_li:\n",
    "        print(f\"{items[1]:.5s} : {items[0]}\")"
   ]
  },
  {
   "cell_type": "code",
   "execution_count": 51,
   "metadata": {},
   "outputs": [
    {
     "name": "stdout",
     "output_type": "stream",
     "text": [
      "15 : 116\n",
      "19 : 110\n",
      "21 : 109\n",
      "18 : 109\n",
      "16 : 108\n",
      "14 : 107\n",
      "17 : 100\n",
      "13 : 85\n",
      "20 : 80\n",
      "12 : 73\n",
      "22 : 71\n",
      "23 : 68\n",
      "01 : 60\n",
      "10 : 59\n",
      "11 : 58\n",
      "02 : 58\n",
      "00 : 55\n",
      "03 : 54\n",
      "08 : 48\n",
      "04 : 47\n",
      "05 : 46\n",
      "09 : 45\n",
      "06 : 44\n",
      "07 : 34\n"
     ]
    }
   ],
   "source": [
    "print_table(counts_by_hour)"
   ]
  },
  {
   "cell_type": "code",
   "execution_count": 50,
   "metadata": {},
   "outputs": [
    {
     "name": "stdout",
     "output_type": "stream",
     "text": [
      "15 : 4477.0\n",
      "16 : 1814.0\n",
      "21 : 1745.0\n",
      "20 : 1722.0\n",
      "18 : 1439.0\n",
      "14 : 1416.0\n",
      "02 : 1381.0\n",
      "13 : 1253.0\n",
      "19 : 1188.0\n",
      "17 : 1146.0\n",
      "10 : 793.0\n",
      "12 : 687.0\n",
      "01 : 683.0\n",
      "11 : 641.0\n",
      "23 : 543.0\n",
      "08 : 492.0\n",
      "22 : 479.0\n",
      "05 : 464.0\n",
      "00 : 447.0\n",
      "03 : 421.0\n",
      "06 : 397.0\n",
      "04 : 337.0\n",
      "07 : 267.0\n",
      "09 : 251.0\n"
     ]
    }
   ],
   "source": [
    "print_table(comments_by_hour)"
   ]
  },
  {
   "cell_type": "markdown",
   "metadata": {},
   "source": [
    "Let's now work out the average number of comments for posts by hour"
   ]
  },
  {
   "cell_type": "code",
   "execution_count": 62,
   "metadata": {},
   "outputs": [],
   "source": [
    "ask_comments_hour = list()\n",
    "\n",
    "for key, value in comments_by_hour.items():\n",
    "    ask_comments_hour.append([key, value / counts_by_hour[key]])"
   ]
  },
  {
   "cell_type": "code",
   "execution_count": 77,
   "metadata": {},
   "outputs": [
    {
     "name": "stdout",
     "output_type": "stream",
     "text": [
      "15:00 : 38.6\n",
      "02:00 : 23.8\n",
      "20:00 : 21.5\n",
      "16:00 : 16.8\n",
      "21:00 : 16.0\n",
      "13:00 : 14.7\n",
      "10:00 : 13.4\n",
      "14:00 : 13.2\n",
      "18:00 : 13.2\n",
      "17:00 : 11.5\n",
      "01:00 : 11.4\n",
      "11:00 : 11.1\n",
      "19:00 : 10.8\n",
      "08:00 : 10.2\n",
      "05:00 : 10.1\n",
      "12:00 : 9.4\n",
      "06:00 : 9.0\n",
      "00:00 : 8.1\n",
      "23:00 : 8.0\n",
      "07:00 : 7.9\n",
      "03:00 : 7.8\n",
      "04:00 : 7.2\n",
      "22:00 : 6.7\n",
      "09:00 : 5.6\n"
     ]
    }
   ],
   "source": [
    "sorted_list = list()\n",
    "\n",
    "for row in ask_comments_hour:\n",
    "    sorted_list.append([row[1], row[0]])\n",
    "\n",
    "sorted_list = sorted(sorted_list, reverse = True)\n",
    "for row in sorted_list:\n",
    "    print(f\"{row[1]:2}:00 : {round(row[0], 1)}\")"
   ]
  },
  {
   "cell_type": "markdown",
   "metadata": {},
   "source": [
    "We can see from the above, that the best time to post an ask question Hacker News (if you want to recieve comments) is 3pm, followed by 2pm and 8pm (Eastern Time in the US). The worst time is 9am."
   ]
  },
  {
   "cell_type": "markdown",
   "metadata": {},
   "source": [
    "To be continued..."
   ]
  },
  {
   "cell_type": "code",
   "execution_count": null,
   "metadata": {},
   "outputs": [],
   "source": []
  }
 ],
 "metadata": {
  "kernelspec": {
   "display_name": "Python 3",
   "language": "python",
   "name": "python3"
  },
  "language_info": {
   "codemirror_mode": {
    "name": "ipython",
    "version": 3
   },
   "file_extension": ".py",
   "mimetype": "text/x-python",
   "name": "python",
   "nbconvert_exporter": "python",
   "pygments_lexer": "ipython3",
   "version": "3.8.3"
  }
 },
 "nbformat": 4,
 "nbformat_minor": 4
}
