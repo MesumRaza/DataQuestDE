{
 "cells": [
  {
   "cell_type": "markdown",
   "metadata": {},
   "source": [
    "## Answering Business Questions using SQL"
   ]
  },
  {
   "cell_type": "markdown",
   "metadata": {},
   "source": [
    "This is a small project where I'll be using SQL to answer some business questions. \n",
    "\n",
    "The main purpose here is to further develop my SQL understanding."
   ]
  },
  {
   "cell_type": "markdown",
   "metadata": {},
   "source": [
    "### Schema"
   ]
  },
  {
   "cell_type": "markdown",
   "metadata": {},
   "source": [
    "We'll be using the **chinook** database. \n",
    "\n",
    "Chinook is a record store, and thus it's database contains information on `customer`, `invoice`, `artist`, etc.\n",
    "\n",
    "The database's schema can be seen below:"
   ]
  },
  {
   "cell_type": "markdown",
   "metadata": {},
   "source": [
    "<img src=\"chinook-schema.svg\" alt=\"Drawing\" style=\"width: 500px;\"/>"
   ]
  },
  {
   "cell_type": "markdown",
   "metadata": {},
   "source": [
    "### Creating Helper Functions"
   ]
  },
  {
   "cell_type": "markdown",
   "metadata": {},
   "source": [
    "For this, we'll be using the the `sqlite3` and `pandas` libraries. Let's import these."
   ]
  },
  {
   "cell_type": "code",
   "execution_count": 2,
   "metadata": {},
   "outputs": [],
   "source": [
    "import pandas as pd\n",
    "\n",
    "import sqlite3"
   ]
  },
  {
   "cell_type": "markdown",
   "metadata": {},
   "source": [
    "We'll next create a function utilising `Pandas` which will make running queries simpler, and allow for better visualisation of the returned results. We'll also implement the `with` statement so that our our database doesn't stay open longer than required"
   ]
  },
  {
   "cell_type": "code",
   "execution_count": 3,
   "metadata": {},
   "outputs": [],
   "source": [
    "def run_query(query):\n",
    "    with sqlite3.connect('chinook.db') as conn:\n",
    "        return pd.read_sql(query, conn)"
   ]
  },
  {
   "cell_type": "markdown",
   "metadata": {},
   "source": [
    "We'll now create another function which will allow us to run queries that don't return results (e.g. `CREATE VIEW`). We don't need to use `pandas` for this."
   ]
  },
  {
   "cell_type": "code",
   "execution_count": 5,
   "metadata": {},
   "outputs": [],
   "source": [
    "def run_command(command):\n",
    "    with sqlite3.connect('chinook.db') as conn:\n",
    "        conn.isolation_level = None\n",
    "        conn.execute(command)"
   ]
  },
  {
   "cell_type": "markdown",
   "metadata": {},
   "source": [
    "Finally, we'll create a function that'll return a list of all views and tables within our database."
   ]
  },
  {
   "cell_type": "code",
   "execution_count": 7,
   "metadata": {},
   "outputs": [],
   "source": [
    "def show_tables():\n",
    "    tables = run_query(\"\"\"SELECT name, type FROM sqlite_master\n",
    "                          WHERE type IN (\"table\",\"view\");\"\"\")\n",
    "    print(tables)"
   ]
  },
  {
   "cell_type": "code",
   "execution_count": 8,
   "metadata": {},
   "outputs": [
    {
     "name": "stdout",
     "output_type": "stream",
     "text": [
      "              name   type\n",
      "0            album  table\n",
      "1           artist  table\n",
      "2         customer  table\n",
      "3         employee  table\n",
      "4            genre  table\n",
      "5          invoice  table\n",
      "6     invoice_line  table\n",
      "7       media_type  table\n",
      "8         playlist  table\n",
      "9   playlist_track  table\n",
      "10           track  table\n"
     ]
    }
   ],
   "source": [
    "show_tables()"
   ]
  },
  {
   "cell_type": "code",
   "execution_count": null,
   "metadata": {},
   "outputs": [],
   "source": []
  }
 ],
 "metadata": {
  "kernelspec": {
   "display_name": "Python 3",
   "language": "python",
   "name": "python3"
  },
  "language_info": {
   "codemirror_mode": {
    "name": "ipython",
    "version": 3
   },
   "file_extension": ".py",
   "mimetype": "text/x-python",
   "name": "python",
   "nbconvert_exporter": "python",
   "pygments_lexer": "ipython3",
   "version": "3.8.3"
  }
 },
 "nbformat": 4,
 "nbformat_minor": 4
}
