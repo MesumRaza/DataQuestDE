{
 "cells": [
  {
   "cell_type": "markdown",
   "metadata": {},
   "source": [
    "## Answering Business Questions using SQL"
   ]
  },
  {
   "cell_type": "markdown",
   "metadata": {},
   "source": [
    "This is a small project where I'll be using SQL to answer some business questions. \n",
    "\n",
    "The main purpose here is to further develop my SQL understanding.\n",
    "\n",
    "---"
   ]
  },
  {
   "cell_type": "markdown",
   "metadata": {},
   "source": [
    "### Schema"
   ]
  },
  {
   "cell_type": "markdown",
   "metadata": {},
   "source": [
    "We'll be using the **chinook** database. \n",
    "\n",
    "Chinook is a record store, and thus it's database contains information on `customer`, `invoice`, `artist`, etc.\n",
    "\n",
    "The database's schema can be seen below:"
   ]
  },
  {
   "cell_type": "markdown",
   "metadata": {},
   "source": [
    "<img src=\"chinook-schema.svg\" alt=\"Drawing\" style=\"width: 500px;\" align = \"left\"/>"
   ]
  },
  {
   "cell_type": "markdown",
   "metadata": {},
   "source": [
    "### Creating Helper Functions"
   ]
  },
  {
   "cell_type": "markdown",
   "metadata": {},
   "source": [
    "For this, we'll be using the the `sqlite3` and `pandas` libraries. Let's import these."
   ]
  },
  {
   "cell_type": "code",
   "execution_count": 1,
   "metadata": {},
   "outputs": [],
   "source": [
    "import pandas as pd\n",
    "\n",
    "import sqlite3"
   ]
  },
  {
   "cell_type": "markdown",
   "metadata": {},
   "source": [
    "We'll next create a function utilising `Pandas` which will make running queries simpler, and allow for better visualisation of the returned results. We'll also implement the `with` statement so that our our database doesn't stay open longer than required.\n",
    "\n",
    "With our function below, what's happening is:\n",
    "\n",
    "1. SQL query is passed to function\n",
    "2. Our database `chinook` is connected to\n",
    "3. The query is run on the database using `pandas` and returned as a dataframe \n",
    "4. Our database is closed"
   ]
  },
  {
   "cell_type": "code",
   "execution_count": 2,
   "metadata": {},
   "outputs": [],
   "source": [
    "def run_query(query):\n",
    "    with sqlite3.connect('chinook.db') as conn:\n",
    "        return pd.read_sql(query, conn)"
   ]
  },
  {
   "cell_type": "markdown",
   "metadata": {},
   "source": [
    "We'll now create another function which will allow us to run queries that don't return results (e.g. `CREATE VIEW`). We don't need to use `pandas` for this."
   ]
  },
  {
   "cell_type": "code",
   "execution_count": 3,
   "metadata": {},
   "outputs": [],
   "source": [
    "def run_command(command):\n",
    "    with sqlite3.connect('chinook.db') as conn:\n",
    "        conn.isolation_level = None\n",
    "        conn.execute(command)"
   ]
  },
  {
   "cell_type": "markdown",
   "metadata": {},
   "source": [
    "Finally, we'll create a function that'll return a list of all views and tables within our database."
   ]
  },
  {
   "cell_type": "code",
   "execution_count": 4,
   "metadata": {},
   "outputs": [],
   "source": [
    "def show_tables():\n",
    "    tables = run_query(\"\"\"SELECT name, type FROM sqlite_master\n",
    "                          WHERE type IN (\"table\",\"view\");\"\"\")\n",
    "    print(tables)"
   ]
  },
  {
   "cell_type": "code",
   "execution_count": 5,
   "metadata": {},
   "outputs": [
    {
     "name": "stdout",
     "output_type": "stream",
     "text": [
      "              name   type\n",
      "0            album  table\n",
      "1           artist  table\n",
      "2         customer  table\n",
      "3         employee  table\n",
      "4            genre  table\n",
      "5          invoice  table\n",
      "6     invoice_line  table\n",
      "7       media_type  table\n",
      "8         playlist  table\n",
      "9   playlist_track  table\n",
      "10           track  table\n",
      "11     top_5_names   view\n"
     ]
    }
   ],
   "source": [
    "show_tables()"
   ]
  },
  {
   "cell_type": "markdown",
   "metadata": {},
   "source": [
    "### Selecting Albums to Purchase"
   ]
  },
  {
   "cell_type": "markdown",
   "metadata": {},
   "source": [
    "The Chinook has signed a deal with a new record label.\n",
    "\n",
    "We want to select the first three albums that will be added to the store, from a list of four. \n",
    "\n",
    "All four albums are by artists that don't have any tracks in the store right now - we have the artist names, and the genre of music they produce:"
   ]
  },
  {
   "cell_type": "markdown",
   "metadata": {},
   "source": [
    "<img src=\"artists.png\" alt=\"Drawing\" style=\"width: 200px\" align=\"left\"/>"
   ]
  },
  {
   "cell_type": "markdown",
   "metadata": {},
   "source": [
    "The record label specializes in artists from the USA, and they have given Chinook some money to advertise the new albums in the USA, so we're interested in finding out which genres sell the best in the USA.\n",
    "\n",
    "Let's write a query to find out which genres sell the most tracks in the USA."
   ]
  },
  {
   "cell_type": "code",
   "execution_count": 6,
   "metadata": {},
   "outputs": [
    {
     "data": {
      "text/html": [
       "<div>\n",
       "<style scoped>\n",
       "    .dataframe tbody tr th:only-of-type {\n",
       "        vertical-align: middle;\n",
       "    }\n",
       "\n",
       "    .dataframe tbody tr th {\n",
       "        vertical-align: top;\n",
       "    }\n",
       "\n",
       "    .dataframe thead th {\n",
       "        text-align: right;\n",
       "    }\n",
       "</style>\n",
       "<table border=\"1\" class=\"dataframe\">\n",
       "  <thead>\n",
       "    <tr style=\"text-align: right;\">\n",
       "      <th></th>\n",
       "      <th>genre</th>\n",
       "      <th>total</th>\n",
       "      <th>percentage</th>\n",
       "    </tr>\n",
       "  </thead>\n",
       "  <tbody>\n",
       "    <tr>\n",
       "      <th>0</th>\n",
       "      <td>Rock</td>\n",
       "      <td>561</td>\n",
       "      <td>53.0</td>\n",
       "    </tr>\n",
       "    <tr>\n",
       "      <th>1</th>\n",
       "      <td>Alternative &amp; Punk</td>\n",
       "      <td>130</td>\n",
       "      <td>12.0</td>\n",
       "    </tr>\n",
       "    <tr>\n",
       "      <th>2</th>\n",
       "      <td>Metal</td>\n",
       "      <td>124</td>\n",
       "      <td>12.0</td>\n",
       "    </tr>\n",
       "    <tr>\n",
       "      <th>3</th>\n",
       "      <td>R&amp;B/Soul</td>\n",
       "      <td>53</td>\n",
       "      <td>5.0</td>\n",
       "    </tr>\n",
       "    <tr>\n",
       "      <th>4</th>\n",
       "      <td>Blues</td>\n",
       "      <td>36</td>\n",
       "      <td>3.0</td>\n",
       "    </tr>\n",
       "    <tr>\n",
       "      <th>5</th>\n",
       "      <td>Alternative</td>\n",
       "      <td>35</td>\n",
       "      <td>3.0</td>\n",
       "    </tr>\n",
       "    <tr>\n",
       "      <th>6</th>\n",
       "      <td>Latin</td>\n",
       "      <td>22</td>\n",
       "      <td>2.0</td>\n",
       "    </tr>\n",
       "    <tr>\n",
       "      <th>7</th>\n",
       "      <td>Pop</td>\n",
       "      <td>22</td>\n",
       "      <td>2.0</td>\n",
       "    </tr>\n",
       "    <tr>\n",
       "      <th>8</th>\n",
       "      <td>Hip Hop/Rap</td>\n",
       "      <td>20</td>\n",
       "      <td>2.0</td>\n",
       "    </tr>\n",
       "    <tr>\n",
       "      <th>9</th>\n",
       "      <td>Jazz</td>\n",
       "      <td>14</td>\n",
       "      <td>1.0</td>\n",
       "    </tr>\n",
       "  </tbody>\n",
       "</table>\n",
       "</div>"
      ],
      "text/plain": [
       "                genre  total  percentage\n",
       "0                Rock    561        53.0\n",
       "1  Alternative & Punk    130        12.0\n",
       "2               Metal    124        12.0\n",
       "3            R&B/Soul     53         5.0\n",
       "4               Blues     36         3.0\n",
       "5         Alternative     35         3.0\n",
       "6               Latin     22         2.0\n",
       "7                 Pop     22         2.0\n",
       "8         Hip Hop/Rap     20         2.0\n",
       "9                Jazz     14         1.0"
      ]
     },
     "execution_count": 6,
     "metadata": {},
     "output_type": "execute_result"
    }
   ],
   "source": [
    "c = \"\"\"WITH genre_total AS\n",
    "                (\n",
    "                Select \n",
    "                    g.name,\n",
    "                    COUNT(t.track_id) absolute_total\n",
    "                FROM genre g \n",
    "                INNER JOIN track t ON t.genre_id = g.genre_id\n",
    "                INNER JOIN invoice_line il ON il.track_id = t.track_id\n",
    "                INNER JOIN invoice i ON i.invoice_id = il.invoice_id\n",
    "                INNER JOIN customer c ON c.customer_id = i.customer_id\n",
    "                WHERE c.country = \"USA\"\n",
    "                GROUP BY 1\n",
    "                )\n",
    "             SELECT \n",
    "                 name genre, \n",
    "                 absolute_total total,\n",
    "                 ROUND(CAST(absolute_total AS float) / \n",
    "                 (SELECT SUM(absolute_total) FROM genre_total) * 100, 0) percentage\n",
    "             FROM genre_total\n",
    "             ORDER BY 2 DESC\n",
    "             LIMIT 10;\n",
    "          \"\"\"\n",
    "\n",
    "run_query(c)"
   ]
  },
  {
   "cell_type": "markdown",
   "metadata": {},
   "source": [
    "Here we can see that top 10 most popular genres in the USA. We could have also added an additional clause to filter by only the genres that we're interested in:"
   ]
  },
  {
   "cell_type": "code",
   "execution_count": 7,
   "metadata": {},
   "outputs": [
    {
     "data": {
      "text/html": [
       "<div>\n",
       "<style scoped>\n",
       "    .dataframe tbody tr th:only-of-type {\n",
       "        vertical-align: middle;\n",
       "    }\n",
       "\n",
       "    .dataframe tbody tr th {\n",
       "        vertical-align: top;\n",
       "    }\n",
       "\n",
       "    .dataframe thead th {\n",
       "        text-align: right;\n",
       "    }\n",
       "</style>\n",
       "<table border=\"1\" class=\"dataframe\">\n",
       "  <thead>\n",
       "    <tr style=\"text-align: right;\">\n",
       "      <th></th>\n",
       "      <th>genre</th>\n",
       "      <th>total</th>\n",
       "      <th>percentage</th>\n",
       "    </tr>\n",
       "  </thead>\n",
       "  <tbody>\n",
       "    <tr>\n",
       "      <th>0</th>\n",
       "      <td>Alternative &amp; Punk</td>\n",
       "      <td>130</td>\n",
       "      <td>12.0</td>\n",
       "    </tr>\n",
       "    <tr>\n",
       "      <th>1</th>\n",
       "      <td>Blues</td>\n",
       "      <td>36</td>\n",
       "      <td>3.0</td>\n",
       "    </tr>\n",
       "    <tr>\n",
       "      <th>2</th>\n",
       "      <td>Pop</td>\n",
       "      <td>22</td>\n",
       "      <td>2.0</td>\n",
       "    </tr>\n",
       "    <tr>\n",
       "      <th>3</th>\n",
       "      <td>Hip Hop/Rap</td>\n",
       "      <td>20</td>\n",
       "      <td>2.0</td>\n",
       "    </tr>\n",
       "  </tbody>\n",
       "</table>\n",
       "</div>"
      ],
      "text/plain": [
       "                genre  total  percentage\n",
       "0  Alternative & Punk    130        12.0\n",
       "1               Blues     36         3.0\n",
       "2                 Pop     22         2.0\n",
       "3         Hip Hop/Rap     20         2.0"
      ]
     },
     "execution_count": 7,
     "metadata": {},
     "output_type": "execute_result"
    }
   ],
   "source": [
    "c = \"\"\"WITH genre_total AS\n",
    "                (\n",
    "                Select \n",
    "                    g.name,\n",
    "                    COUNT(t.track_id) absolute_total\n",
    "                FROM genre g \n",
    "                INNER JOIN track t ON t.genre_id = g.genre_id\n",
    "                INNER JOIN invoice_line il ON il.track_id = t.track_id\n",
    "                INNER JOIN invoice i ON i.invoice_id = il.invoice_id\n",
    "                INNER JOIN customer c ON c.customer_id = i.customer_id\n",
    "                WHERE c.country = \"USA\"\n",
    "                GROUP BY 1\n",
    "                )\n",
    "             SELECT \n",
    "                 name genre, \n",
    "                 absolute_total total,\n",
    "                 ROUND(CAST(absolute_total AS float) / \n",
    "                 (SELECT SUM(absolute_total) FROM genre_total) * 100, 0) percentage\n",
    "             FROM genre_total\n",
    "             WHERE genre LIKE \"%Hip%\" OR genre LIKE \"%Pop%\" OR genre LIKE \"%Punk%\" OR genre LIKE \"%Blues%\"\n",
    "             ORDER BY 2 DESC\n",
    "             LIMIT 10;\n",
    "          \"\"\"\n",
    "\n",
    "run_query(c)"
   ]
  },
  {
   "cell_type": "markdown",
   "metadata": {},
   "source": [
    "From this, the artists we may want to go with are:\n",
    "\n",
    "1. Red Tone\n",
    "2. Slim Jim Bites\n",
    "3. Meteor and the Girls"
   ]
  },
  {
   "cell_type": "markdown",
   "metadata": {},
   "source": [
    "### Analysing Employee Sales Performance"
   ]
  },
  {
   "cell_type": "markdown",
   "metadata": {},
   "source": [
    "Each customer for the Chinook store gets assigned to a sales support agent within the company when they first make a purchase.\n",
    "\n",
    "Let's anlayse the purchases of customers belonging to each employee to see if any sales support agent is performing either better or worse than the others.\n",
    "\n",
    "We'll write a query that finds the total dollar amount of sales assigned to each sales support agent within the company."
   ]
  },
  {
   "cell_type": "code",
   "execution_count": 8,
   "metadata": {},
   "outputs": [
    {
     "data": {
      "text/html": [
       "<div>\n",
       "<style scoped>\n",
       "    .dataframe tbody tr th:only-of-type {\n",
       "        vertical-align: middle;\n",
       "    }\n",
       "\n",
       "    .dataframe tbody tr th {\n",
       "        vertical-align: top;\n",
       "    }\n",
       "\n",
       "    .dataframe thead th {\n",
       "        text-align: right;\n",
       "    }\n",
       "</style>\n",
       "<table border=\"1\" class=\"dataframe\">\n",
       "  <thead>\n",
       "    <tr style=\"text-align: right;\">\n",
       "      <th></th>\n",
       "      <th>support_rep</th>\n",
       "      <th>hire_date</th>\n",
       "      <th>total_customers</th>\n",
       "      <th>sales</th>\n",
       "      <th>percentage</th>\n",
       "    </tr>\n",
       "  </thead>\n",
       "  <tbody>\n",
       "    <tr>\n",
       "      <th>0</th>\n",
       "      <td>Jane Peacock</td>\n",
       "      <td>2017-04-01 00:00:00</td>\n",
       "      <td>212</td>\n",
       "      <td>1731.51</td>\n",
       "      <td>37.0</td>\n",
       "    </tr>\n",
       "    <tr>\n",
       "      <th>1</th>\n",
       "      <td>Margaret Park</td>\n",
       "      <td>2017-05-03 00:00:00</td>\n",
       "      <td>214</td>\n",
       "      <td>1584.00</td>\n",
       "      <td>34.0</td>\n",
       "    </tr>\n",
       "    <tr>\n",
       "      <th>2</th>\n",
       "      <td>Steve Johnson</td>\n",
       "      <td>2017-10-17 00:00:00</td>\n",
       "      <td>188</td>\n",
       "      <td>1393.92</td>\n",
       "      <td>30.0</td>\n",
       "    </tr>\n",
       "  </tbody>\n",
       "</table>\n",
       "</div>"
      ],
      "text/plain": [
       "     support_rep            hire_date  total_customers    sales  percentage\n",
       "0   Jane Peacock  2017-04-01 00:00:00              212  1731.51        37.0\n",
       "1  Margaret Park  2017-05-03 00:00:00              214  1584.00        34.0\n",
       "2  Steve Johnson  2017-10-17 00:00:00              188  1393.92        30.0"
      ]
     },
     "execution_count": 8,
     "metadata": {},
     "output_type": "execute_result"
    }
   ],
   "source": [
    "c = \"\"\"WITH subquery AS \n",
    "            (\n",
    "            SELECT\n",
    "                (e.first_name || \" \" || e.last_name) support_rep,\n",
    "                e.hire_date,\n",
    "                COUNT(*) total_customers,\n",
    "                SUM(i.total) sales\n",
    "            FROM customer c\n",
    "            INNER JOIN invoice i ON i.customer_id = c.customer_id\n",
    "            INNER JOIN employee e ON e.employee_id = c.support_rep_id\n",
    "            WHERE e.title = \"Sales Support Agent\"\n",
    "            GROUP BY 1 ORDER BY 4 DESC\n",
    "            )\n",
    "            SELECT\n",
    "                *,\n",
    "                ROUND(sales / (SELECT SUM(sales) FROM subquery) * 100, 0) percentage\n",
    "            FROM subquery\n",
    "          \"\"\"\n",
    "\n",
    "run_query(c)"
   ]
  },
  {
   "cell_type": "markdown",
   "metadata": {},
   "source": [
    "We can make a few observations here. We only have a 3 support reps. Of these, Jane Peacock has made the most sales, with Steven Johnson making the least. Margaret Park is in the middle.\n",
    "\n",
    "However, when we look at the hire date of each rep, we can see that Jane and Margaret started within 1 month of each other, whereas Steven started around 6 months later. And despite this, Jane and Margaret have had roughly the same amount of customers, with Steven falling short. \n",
    "\n",
    "Based on this, we might argue that Jane has performed the best in terms of sales. With Margaret performing the worst."
   ]
  },
  {
   "cell_type": "markdown",
   "metadata": {},
   "source": [
    "### Analysing Sales by Country"
   ]
  },
  {
   "cell_type": "markdown",
   "metadata": {},
   "source": [
    "We will now write a  query that collates data on purchases from different countries (from the `customer` table)\n",
    "\n",
    "Where a country has only one customer, we'll collect these into an \"Other\" group.\n",
    "\n",
    "We'll sort the resutls by the total sales from highest to lowest, with the \"Other\" group at the very bottom.\n",
    "\n",
    "For each country, we'll include:\n",
    "\n",
    "* total number of customers\n",
    "* total value of sales\n",
    "* average value of sales per customer\n",
    "* average order value"
   ]
  },
  {
   "cell_type": "code",
   "execution_count": 9,
   "metadata": {},
   "outputs": [
    {
     "data": {
      "text/html": [
       "<div>\n",
       "<style scoped>\n",
       "    .dataframe tbody tr th:only-of-type {\n",
       "        vertical-align: middle;\n",
       "    }\n",
       "\n",
       "    .dataframe tbody tr th {\n",
       "        vertical-align: top;\n",
       "    }\n",
       "\n",
       "    .dataframe thead th {\n",
       "        text-align: right;\n",
       "    }\n",
       "</style>\n",
       "<table border=\"1\" class=\"dataframe\">\n",
       "  <thead>\n",
       "    <tr style=\"text-align: right;\">\n",
       "      <th></th>\n",
       "      <th>Country</th>\n",
       "      <th>Customers</th>\n",
       "      <th>Sales Value</th>\n",
       "      <th>Avg per Customer</th>\n",
       "      <th>Avg per Order</th>\n",
       "    </tr>\n",
       "  </thead>\n",
       "  <tbody>\n",
       "    <tr>\n",
       "      <th>0</th>\n",
       "      <td>USA</td>\n",
       "      <td>13</td>\n",
       "      <td>1040.49</td>\n",
       "      <td>80.04</td>\n",
       "      <td>7.94</td>\n",
       "    </tr>\n",
       "    <tr>\n",
       "      <th>1</th>\n",
       "      <td>Canada</td>\n",
       "      <td>8</td>\n",
       "      <td>535.59</td>\n",
       "      <td>66.95</td>\n",
       "      <td>7.05</td>\n",
       "    </tr>\n",
       "    <tr>\n",
       "      <th>2</th>\n",
       "      <td>Brazil</td>\n",
       "      <td>5</td>\n",
       "      <td>427.68</td>\n",
       "      <td>85.54</td>\n",
       "      <td>7.01</td>\n",
       "    </tr>\n",
       "    <tr>\n",
       "      <th>3</th>\n",
       "      <td>France</td>\n",
       "      <td>5</td>\n",
       "      <td>389.07</td>\n",
       "      <td>77.81</td>\n",
       "      <td>7.78</td>\n",
       "    </tr>\n",
       "    <tr>\n",
       "      <th>4</th>\n",
       "      <td>Germany</td>\n",
       "      <td>4</td>\n",
       "      <td>334.62</td>\n",
       "      <td>83.66</td>\n",
       "      <td>8.16</td>\n",
       "    </tr>\n",
       "    <tr>\n",
       "      <th>5</th>\n",
       "      <td>Czech Republic</td>\n",
       "      <td>2</td>\n",
       "      <td>273.24</td>\n",
       "      <td>136.62</td>\n",
       "      <td>9.11</td>\n",
       "    </tr>\n",
       "    <tr>\n",
       "      <th>6</th>\n",
       "      <td>United Kingdom</td>\n",
       "      <td>3</td>\n",
       "      <td>245.52</td>\n",
       "      <td>81.84</td>\n",
       "      <td>8.77</td>\n",
       "    </tr>\n",
       "    <tr>\n",
       "      <th>7</th>\n",
       "      <td>Portugal</td>\n",
       "      <td>2</td>\n",
       "      <td>185.13</td>\n",
       "      <td>92.57</td>\n",
       "      <td>6.38</td>\n",
       "    </tr>\n",
       "    <tr>\n",
       "      <th>8</th>\n",
       "      <td>India</td>\n",
       "      <td>2</td>\n",
       "      <td>183.15</td>\n",
       "      <td>91.58</td>\n",
       "      <td>8.72</td>\n",
       "    </tr>\n",
       "    <tr>\n",
       "      <th>9</th>\n",
       "      <td>Other</td>\n",
       "      <td>15</td>\n",
       "      <td>39.60</td>\n",
       "      <td>39.60</td>\n",
       "      <td>7.92</td>\n",
       "    </tr>\n",
       "  </tbody>\n",
       "</table>\n",
       "</div>"
      ],
      "text/plain": [
       "          Country  Customers  Sales Value  Avg per Customer  Avg per Order\n",
       "0             USA         13      1040.49             80.04           7.94\n",
       "1          Canada          8       535.59             66.95           7.05\n",
       "2          Brazil          5       427.68             85.54           7.01\n",
       "3          France          5       389.07             77.81           7.78\n",
       "4         Germany          4       334.62             83.66           8.16\n",
       "5  Czech Republic          2       273.24            136.62           9.11\n",
       "6  United Kingdom          3       245.52             81.84           8.77\n",
       "7        Portugal          2       185.13             92.57           6.38\n",
       "8           India          2       183.15             91.58           8.72\n",
       "9           Other         15        39.60             39.60           7.92"
      ]
     },
     "execution_count": 9,
     "metadata": {},
     "output_type": "execute_result"
    }
   ],
   "source": [
    "c = \"\"\"WITH full_data AS \n",
    "                (\n",
    "                SELECT \n",
    "                    c.country,\n",
    "                    c.customer_id,\n",
    "                    i.invoice_id,\n",
    "                    il.unit_price\n",
    "                FROM customer c\n",
    "                INNER JOIN invoice i ON i.customer_id = c.customer_id\n",
    "                INNER JOIN invoice_line il ON il.invoice_id = i.invoice_id\n",
    "                ),\n",
    "            -- This calcualates a lot of our statistics, and groups countries with 1 customer under \"Other\"\n",
    "            country_other AS\n",
    "                (\n",
    "                SELECT\n",
    "                    country,\n",
    "                    COUNT(DISTINCT(customer_id)) total_customers,\n",
    "                    SUM(unit_price) total_sales_value,\n",
    "                    ROUND(SUM(unit_price) / COUNT(DISTINCT(customer_id)), 2) avg_per_customer,\n",
    "                    ROUND(SUM(unit_price) / COUNT(DISTINCT(invoice_id)), 2) avg_per_order,\n",
    "                    CASE \n",
    "                        WHEN COUNT(DISTINCT(customer_id)) = 1 THEN \"Other\"\n",
    "                        ELSE country\n",
    "                    END AS country_final\n",
    "                FROM full_data\n",
    "                GROUP BY 1\n",
    "                ),\n",
    "            -- This adds a sort column, which we'll use to move \"Other\" country values to the bottom\n",
    "            country_sort AS\n",
    "                (\n",
    "                SELECT \n",
    "                    country_final country,\n",
    "                    SUM(total_customers) total_customers,\n",
    "                    total_sales_value,\n",
    "                    avg_per_customer,\n",
    "                    avg_per_order, \n",
    "                    CASE \n",
    "                        WHEN country_final = \"Other\" THEN 0\n",
    "                        ELSE 1\n",
    "                    END AS sort\n",
    "                FROM country_other\n",
    "                GROUP BY 1\n",
    "                )\n",
    "        SELECT \n",
    "            country \"Country\",\n",
    "            total_customers \"Customers\",\n",
    "            total_sales_value \"Sales Value\",\n",
    "            avg_per_customer \"Avg per Customer\",\n",
    "            avg_per_order \"Avg per Order\"\n",
    "        FROM country_sort\n",
    "        ORDER BY sort DESC, total_sales_value DESC\n",
    "       \"\"\"\n",
    "\n",
    "run_query(c)"
   ]
  },
  {
   "cell_type": "markdown",
   "metadata": {},
   "source": [
    "Our query was a little longer and more complex than it needed to be (something I'll come back and improve at a later point). However, we got what we wanted.\n",
    "\n",
    "From the results, the top 3 biggest markets are the **USA**, **Canada**, and **Brazil** in regards to total sales value.\n",
    "\n",
    "However, we can also note that the average spent by customer for **Czech Republic** is high compared to other countries. There's potential here, and thus marketing efforts directed here may prove fruitful going forward. However, we should be aware that there are only 2 customers. Being such a small sample size, we should be aware that these could both ultimately prove be outliers if we increased the customer count going forward."
   ]
  },
  {
   "cell_type": "markdown",
   "metadata": {},
   "source": [
    "### Customers and Country"
   ]
  },
  {
   "cell_type": "markdown",
   "metadata": {},
   "source": [
    "Here we will use a couple of subqueries, along with the `WITH` clause to find the customer from each country that has spent the most money at Chinook."
   ]
  },
  {
   "cell_type": "code",
   "execution_count": 10,
   "metadata": {},
   "outputs": [
    {
     "data": {
      "text/html": [
       "<div>\n",
       "<style scoped>\n",
       "    .dataframe tbody tr th:only-of-type {\n",
       "        vertical-align: middle;\n",
       "    }\n",
       "\n",
       "    .dataframe tbody tr th {\n",
       "        vertical-align: top;\n",
       "    }\n",
       "\n",
       "    .dataframe thead th {\n",
       "        text-align: right;\n",
       "    }\n",
       "</style>\n",
       "<table border=\"1\" class=\"dataframe\">\n",
       "  <thead>\n",
       "    <tr style=\"text-align: right;\">\n",
       "      <th></th>\n",
       "      <th>Country</th>\n",
       "      <th>Name</th>\n",
       "      <th>Total</th>\n",
       "    </tr>\n",
       "  </thead>\n",
       "  <tbody>\n",
       "    <tr>\n",
       "      <th>0</th>\n",
       "      <td>Czech Republic</td>\n",
       "      <td>František Wichterlová</td>\n",
       "      <td>144.54</td>\n",
       "    </tr>\n",
       "    <tr>\n",
       "      <th>1</th>\n",
       "      <td>Ireland</td>\n",
       "      <td>Hugh O'Reilly</td>\n",
       "      <td>114.84</td>\n",
       "    </tr>\n",
       "    <tr>\n",
       "      <th>2</th>\n",
       "      <td>India</td>\n",
       "      <td>Manoj Pareek</td>\n",
       "      <td>111.87</td>\n",
       "    </tr>\n",
       "    <tr>\n",
       "      <th>3</th>\n",
       "      <td>Brazil</td>\n",
       "      <td>Luís Gonçalves</td>\n",
       "      <td>108.90</td>\n",
       "    </tr>\n",
       "    <tr>\n",
       "      <th>4</th>\n",
       "      <td>Portugal</td>\n",
       "      <td>João Fernandes</td>\n",
       "      <td>102.96</td>\n",
       "    </tr>\n",
       "  </tbody>\n",
       "</table>\n",
       "</div>"
      ],
      "text/plain": [
       "          Country                   Name   Total\n",
       "0  Czech Republic  František Wichterlová  144.54\n",
       "1         Ireland          Hugh O'Reilly  114.84\n",
       "2           India           Manoj Pareek  111.87\n",
       "3          Brazil         Luís Gonçalves  108.90\n",
       "4        Portugal         João Fernandes  102.96"
      ]
     },
     "execution_count": 10,
     "metadata": {},
     "output_type": "execute_result"
    }
   ],
   "source": [
    "c = \"\"\"WITH \n",
    "            customer_total AS\n",
    "                (\n",
    "                SELECT \n",
    "                    c.customer_id,\n",
    "                    i.total\n",
    "                FROM customer AS c\n",
    "                INNER JOIN invoice i ON i.customer_id = c.customer_id\n",
    "                ),  \n",
    "            customer_total_sum AS \n",
    "                (\n",
    "                SELECT\n",
    "                    customer_id,\n",
    "                    SUM(total) total\n",
    "                FROM customer_total\n",
    "                GROUP BY 1\n",
    "                )\n",
    "        SELECT \n",
    "            c.country Country,\n",
    "            c.first_name || \" \" || c.last_name 'Name',\n",
    "            cts.total Total\n",
    "        FROM customer_total_sum AS cts\n",
    "        INNER JOIN customer c ON c.customer_id = cts.customer_id\n",
    "        GROUP BY 1 ORDER BY 3 DESC LIMIT 5\n",
    "    \"\"\"\n",
    "\n",
    "run_query(c)"
   ]
  },
  {
   "cell_type": "markdown",
   "metadata": {},
   "source": [
    "We can see here the top 5 customers in terms of money spent. This sort of information may prove useful going forward if we wanted to identify why certain customers are spending more than others."
   ]
  },
  {
   "cell_type": "markdown",
   "metadata": {},
   "source": [
    "### Albums vs Individual Tracks"
   ]
  },
  {
   "cell_type": "markdown",
   "metadata": {},
   "source": [
    "Management are currently considering a new purchasing strategy to save money. The strategy they are considering is to purchase only the most popular tracks from each album from record companies, instead of purchasing every track from an album.\n",
    "\n",
    "Let's now find out what percentage of purchases are individual tracks vs whole albums.\n",
    "\n",
    "In order to answer the question, we're going to have to **identify whether each invoice has all the tracks from an album**. We can do this by **getting the list of tracks from an invoice and comparing it to the list of tracks from an album**. \n",
    "\n",
    "We can find the album to compare the purchase to by looking up the album that one of the purchased tracks belongs to. It doesn't matter which track we pick, since if it's an album purchase, that album will be the same for all tracks.\n",
    "\n",
    "Let's now write a query that **categorizes each invoice as either an album purchase or not**, and calculates the following summary statistics:\n",
    "\n",
    "* **Number of invoices**\n",
    "* **Percentage of invoices**\n",
    "\n",
    "We'll then make a recommendation on whether Chinook should continue to buy full albums from record companies."
   ]
  },
  {
   "cell_type": "code",
   "execution_count": 45,
   "metadata": {},
   "outputs": [
    {
     "ename": "DatabaseError",
     "evalue": "Execution failed on sql 'WITH invoice_first_track AS (\n              SELECT \n                    il.invoice_id invoice_id, \n                    MIN(il.track_id) first_track_id \n              FROM \n                invoice_line il \n              GROUP BY 1 ),\n            repeat AS (\n                SELECT \n                  t.track_id \n                FROM \n                  track t \n                WHERE \n                  t.album_id = (\n                        SELECT \n                          t2.album_id \n                        FROM \n                          track t2 \n                        WHERE \n                          t2.track_id = ifs.first_track_id\n                                ) \n                EXCEPT \n                SELECT \n                  il2.track_id \n                FROM \n                  invoice_line il2 \n                WHERE \n                  il2.invoice_id = ifs.invoice_id\n                  ) IS NULL \n                  AND (\n                    SELECT \n                      il2.track_id \n                    FROM \n                      invoice_line il2 \n                    WHERE \n                      il2.invoice_id = ifs.invoice_id \n                EXCEPT \n                SELECT \n                  t.track_id \n                FROM \n                  track t \n                WHERE \n                  t.album_id = (\n                SELECT \n                  t2.album_id \n                FROM \n                  track t2 \n                WHERE \n                  t2.track_id = ifs.first_track_id\n                  )))\n      \n            SELECT * FROM invoice\n       ': near \"IS\": syntax error",
     "output_type": "error",
     "traceback": [
      "\u001b[0;31m---------------------------------------------------------------------------\u001b[0m",
      "\u001b[0;31mOperationalError\u001b[0m                          Traceback (most recent call last)",
      "\u001b[0;32m~/opt/anaconda3/lib/python3.8/site-packages/pandas/io/sql.py\u001b[0m in \u001b[0;36mexecute\u001b[0;34m(self, *args, **kwargs)\u001b[0m\n\u001b[1;32m   1585\u001b[0m         \u001b[0;32mtry\u001b[0m\u001b[0;34m:\u001b[0m\u001b[0;34m\u001b[0m\u001b[0;34m\u001b[0m\u001b[0m\n\u001b[0;32m-> 1586\u001b[0;31m             \u001b[0mcur\u001b[0m\u001b[0;34m.\u001b[0m\u001b[0mexecute\u001b[0m\u001b[0;34m(\u001b[0m\u001b[0;34m*\u001b[0m\u001b[0margs\u001b[0m\u001b[0;34m,\u001b[0m \u001b[0;34m**\u001b[0m\u001b[0mkwargs\u001b[0m\u001b[0;34m)\u001b[0m\u001b[0;34m\u001b[0m\u001b[0;34m\u001b[0m\u001b[0m\n\u001b[0m\u001b[1;32m   1587\u001b[0m             \u001b[0;32mreturn\u001b[0m \u001b[0mcur\u001b[0m\u001b[0;34m\u001b[0m\u001b[0;34m\u001b[0m\u001b[0m\n",
      "\u001b[0;31mOperationalError\u001b[0m: near \"IS\": syntax error",
      "\nThe above exception was the direct cause of the following exception:\n",
      "\u001b[0;31mDatabaseError\u001b[0m                             Traceback (most recent call last)",
      "\u001b[0;32m<ipython-input-45-bc09017d03b5>\u001b[0m in \u001b[0;36m<module>\u001b[0;34m\u001b[0m\n\u001b[1;32m     53\u001b[0m        \"\"\"\n\u001b[1;32m     54\u001b[0m \u001b[0;34m\u001b[0m\u001b[0m\n\u001b[0;32m---> 55\u001b[0;31m \u001b[0mrun_query\u001b[0m\u001b[0;34m(\u001b[0m\u001b[0mc\u001b[0m\u001b[0;34m)\u001b[0m\u001b[0;34m\u001b[0m\u001b[0;34m\u001b[0m\u001b[0m\n\u001b[0m",
      "\u001b[0;32m<ipython-input-2-41c0f000a2fa>\u001b[0m in \u001b[0;36mrun_query\u001b[0;34m(query)\u001b[0m\n\u001b[1;32m      1\u001b[0m \u001b[0;32mdef\u001b[0m \u001b[0mrun_query\u001b[0m\u001b[0;34m(\u001b[0m\u001b[0mquery\u001b[0m\u001b[0;34m)\u001b[0m\u001b[0;34m:\u001b[0m\u001b[0;34m\u001b[0m\u001b[0;34m\u001b[0m\u001b[0m\n\u001b[1;32m      2\u001b[0m     \u001b[0;32mwith\u001b[0m \u001b[0msqlite3\u001b[0m\u001b[0;34m.\u001b[0m\u001b[0mconnect\u001b[0m\u001b[0;34m(\u001b[0m\u001b[0;34m'chinook.db'\u001b[0m\u001b[0;34m)\u001b[0m \u001b[0;32mas\u001b[0m \u001b[0mconn\u001b[0m\u001b[0;34m:\u001b[0m\u001b[0;34m\u001b[0m\u001b[0;34m\u001b[0m\u001b[0m\n\u001b[0;32m----> 3\u001b[0;31m         \u001b[0;32mreturn\u001b[0m \u001b[0mpd\u001b[0m\u001b[0;34m.\u001b[0m\u001b[0mread_sql\u001b[0m\u001b[0;34m(\u001b[0m\u001b[0mquery\u001b[0m\u001b[0;34m,\u001b[0m \u001b[0mconn\u001b[0m\u001b[0;34m)\u001b[0m\u001b[0;34m\u001b[0m\u001b[0;34m\u001b[0m\u001b[0m\n\u001b[0m",
      "\u001b[0;32m~/opt/anaconda3/lib/python3.8/site-packages/pandas/io/sql.py\u001b[0m in \u001b[0;36mread_sql\u001b[0;34m(sql, con, index_col, coerce_float, params, parse_dates, columns, chunksize)\u001b[0m\n\u001b[1;32m    404\u001b[0m \u001b[0;34m\u001b[0m\u001b[0m\n\u001b[1;32m    405\u001b[0m     \u001b[0;32mif\u001b[0m \u001b[0misinstance\u001b[0m\u001b[0;34m(\u001b[0m\u001b[0mpandas_sql\u001b[0m\u001b[0;34m,\u001b[0m \u001b[0mSQLiteDatabase\u001b[0m\u001b[0;34m)\u001b[0m\u001b[0;34m:\u001b[0m\u001b[0;34m\u001b[0m\u001b[0;34m\u001b[0m\u001b[0m\n\u001b[0;32m--> 406\u001b[0;31m         return pandas_sql.read_query(\n\u001b[0m\u001b[1;32m    407\u001b[0m             \u001b[0msql\u001b[0m\u001b[0;34m,\u001b[0m\u001b[0;34m\u001b[0m\u001b[0;34m\u001b[0m\u001b[0m\n\u001b[1;32m    408\u001b[0m             \u001b[0mindex_col\u001b[0m\u001b[0;34m=\u001b[0m\u001b[0mindex_col\u001b[0m\u001b[0;34m,\u001b[0m\u001b[0;34m\u001b[0m\u001b[0;34m\u001b[0m\u001b[0m\n",
      "\u001b[0;32m~/opt/anaconda3/lib/python3.8/site-packages/pandas/io/sql.py\u001b[0m in \u001b[0;36mread_query\u001b[0;34m(self, sql, index_col, coerce_float, params, parse_dates, chunksize)\u001b[0m\n\u001b[1;32m   1631\u001b[0m \u001b[0;34m\u001b[0m\u001b[0m\n\u001b[1;32m   1632\u001b[0m         \u001b[0margs\u001b[0m \u001b[0;34m=\u001b[0m \u001b[0m_convert_params\u001b[0m\u001b[0;34m(\u001b[0m\u001b[0msql\u001b[0m\u001b[0;34m,\u001b[0m \u001b[0mparams\u001b[0m\u001b[0;34m)\u001b[0m\u001b[0;34m\u001b[0m\u001b[0;34m\u001b[0m\u001b[0m\n\u001b[0;32m-> 1633\u001b[0;31m         \u001b[0mcursor\u001b[0m \u001b[0;34m=\u001b[0m \u001b[0mself\u001b[0m\u001b[0;34m.\u001b[0m\u001b[0mexecute\u001b[0m\u001b[0;34m(\u001b[0m\u001b[0;34m*\u001b[0m\u001b[0margs\u001b[0m\u001b[0;34m)\u001b[0m\u001b[0;34m\u001b[0m\u001b[0;34m\u001b[0m\u001b[0m\n\u001b[0m\u001b[1;32m   1634\u001b[0m         \u001b[0mcolumns\u001b[0m \u001b[0;34m=\u001b[0m \u001b[0;34m[\u001b[0m\u001b[0mcol_desc\u001b[0m\u001b[0;34m[\u001b[0m\u001b[0;36m0\u001b[0m\u001b[0;34m]\u001b[0m \u001b[0;32mfor\u001b[0m \u001b[0mcol_desc\u001b[0m \u001b[0;32min\u001b[0m \u001b[0mcursor\u001b[0m\u001b[0;34m.\u001b[0m\u001b[0mdescription\u001b[0m\u001b[0;34m]\u001b[0m\u001b[0;34m\u001b[0m\u001b[0;34m\u001b[0m\u001b[0m\n\u001b[1;32m   1635\u001b[0m \u001b[0;34m\u001b[0m\u001b[0m\n",
      "\u001b[0;32m~/opt/anaconda3/lib/python3.8/site-packages/pandas/io/sql.py\u001b[0m in \u001b[0;36mexecute\u001b[0;34m(self, *args, **kwargs)\u001b[0m\n\u001b[1;32m   1596\u001b[0m \u001b[0;34m\u001b[0m\u001b[0m\n\u001b[1;32m   1597\u001b[0m             \u001b[0mex\u001b[0m \u001b[0;34m=\u001b[0m \u001b[0mDatabaseError\u001b[0m\u001b[0;34m(\u001b[0m\u001b[0;34mf\"Execution failed on sql '{args[0]}': {exc}\"\u001b[0m\u001b[0;34m)\u001b[0m\u001b[0;34m\u001b[0m\u001b[0;34m\u001b[0m\u001b[0m\n\u001b[0;32m-> 1598\u001b[0;31m             \u001b[0;32mraise\u001b[0m \u001b[0mex\u001b[0m \u001b[0;32mfrom\u001b[0m \u001b[0mexc\u001b[0m\u001b[0;34m\u001b[0m\u001b[0;34m\u001b[0m\u001b[0m\n\u001b[0m\u001b[1;32m   1599\u001b[0m \u001b[0;34m\u001b[0m\u001b[0m\n\u001b[1;32m   1600\u001b[0m     \u001b[0;34m@\u001b[0m\u001b[0mstaticmethod\u001b[0m\u001b[0;34m\u001b[0m\u001b[0;34m\u001b[0m\u001b[0m\n",
      "\u001b[0;31mDatabaseError\u001b[0m: Execution failed on sql 'WITH invoice_first_track AS (\n              SELECT \n                    il.invoice_id invoice_id, \n                    MIN(il.track_id) first_track_id \n              FROM \n                invoice_line il \n              GROUP BY 1 ),\n            repeat AS (\n                SELECT \n                  t.track_id \n                FROM \n                  track t \n                WHERE \n                  t.album_id = (\n                        SELECT \n                          t2.album_id \n                        FROM \n                          track t2 \n                        WHERE \n                          t2.track_id = ifs.first_track_id\n                                ) \n                EXCEPT \n                SELECT \n                  il2.track_id \n                FROM \n                  invoice_line il2 \n                WHERE \n                  il2.invoice_id = ifs.invoice_id\n                  ) IS NULL \n                  AND (\n                    SELECT \n                      il2.track_id \n                    FROM \n                      invoice_line il2 \n                    WHERE \n                      il2.invoice_id = ifs.invoice_id \n                EXCEPT \n                SELECT \n                  t.track_id \n                FROM \n                  track t \n                WHERE \n                  t.album_id = (\n                SELECT \n                  t2.album_id \n                FROM \n                  track t2 \n                WHERE \n                  t2.track_id = ifs.first_track_id\n                  )))\n      \n            SELECT * FROM invoice\n       ': near \"IS\": syntax error"
     ]
    }
   ],
   "source": [
    "c = \"\"\"WITH invoice_first_track AS (\n",
    "              SELECT \n",
    "                    il.invoice_id invoice_id, \n",
    "                    MIN(il.track_id) first_track_id \n",
    "              FROM \n",
    "                invoice_line il \n",
    "              GROUP BY 1 ),\n",
    "            repeat AS (\n",
    "                SELECT \n",
    "                  t.track_id \n",
    "                FROM \n",
    "                  track t \n",
    "                WHERE \n",
    "                  t.album_id = (SELECT t2.album_id FROM track t2 WHERE t2.track_id = ifs.first_track_id) \n",
    "                  \n",
    "                EXCEPT\n",
    "                \n",
    "                SELECT \n",
    "                  il2.track_id \n",
    "                FROM \n",
    "                  invoice_line il2 \n",
    "                WHERE \n",
    "                  il2.invoice_id = ifs.invoice_id\n",
    "                  ) IS NULL \n",
    "                  \n",
    "                  AND (\n",
    "                    SELECT \n",
    "                      il2.track_id \n",
    "                    FROM \n",
    "                      invoice_line il2 \n",
    "                    WHERE \n",
    "                      il2.invoice_id = ifs.invoice_id \n",
    "                EXCEPT \n",
    "                SELECT \n",
    "                  t.track_id \n",
    "                FROM \n",
    "                  track t \n",
    "                WHERE \n",
    "                  t.album_id = (\n",
    "                SELECT \n",
    "                  t2.album_id \n",
    "                FROM \n",
    "                  track t2 \n",
    "                WHERE \n",
    "                  t2.track_id = ifs.first_track_id\n",
    "                  ))\n",
    "      \n",
    "            SELECT * FROM invoice\n",
    "       \"\"\"\n",
    "\n",
    "run_query(c)"
   ]
  },
  {
   "cell_type": "code",
   "execution_count": 8,
   "metadata": {},
   "outputs": [],
   "source": [
    "import pandas as pd\n",
    "import sqlite3"
   ]
  },
  {
   "cell_type": "code",
   "execution_count": 16,
   "metadata": {},
   "outputs": [],
   "source": [
    "def run_query(query):\n",
    "    with sqlite3.connect('my_database.db') as con:\n",
    "        return pd.read_sql(query, con)"
   ]
  },
  {
   "cell_type": "code",
   "execution_count": 17,
   "metadata": {},
   "outputs": [
    {
     "data": {
      "text/html": [
       "<div>\n",
       "<style scoped>\n",
       "    .dataframe tbody tr th:only-of-type {\n",
       "        vertical-align: middle;\n",
       "    }\n",
       "\n",
       "    .dataframe tbody tr th {\n",
       "        vertical-align: top;\n",
       "    }\n",
       "\n",
       "    .dataframe thead th {\n",
       "        text-align: right;\n",
       "    }\n",
       "</style>\n",
       "<table border=\"1\" class=\"dataframe\">\n",
       "  <thead>\n",
       "    <tr style=\"text-align: right;\">\n",
       "      <th></th>\n",
       "      <th>country</th>\n",
       "    </tr>\n",
       "  </thead>\n",
       "  <tbody>\n",
       "    <tr>\n",
       "      <th>0</th>\n",
       "      <td>Brazil</td>\n",
       "    </tr>\n",
       "    <tr>\n",
       "      <th>1</th>\n",
       "      <td>Germany</td>\n",
       "    </tr>\n",
       "    <tr>\n",
       "      <th>2</th>\n",
       "      <td>Canada</td>\n",
       "    </tr>\n",
       "  </tbody>\n",
       "</table>\n",
       "</div>"
      ],
      "text/plain": [
       "   country\n",
       "0   Brazil\n",
       "1  Germany\n",
       "2   Canada"
      ]
     },
     "execution_count": 17,
     "metadata": {},
     "output_type": "execute_result"
    }
   ],
   "source": [
    "df = run_query(\"SELECT country FROM my_table LIMIT 3;\")\n",
    "df"
   ]
  },
  {
   "cell_type": "code",
   "execution_count": null,
   "metadata": {},
   "outputs": [],
   "source": []
  }
 ],
 "metadata": {
  "kernelspec": {
   "display_name": "Python 3",
   "language": "python",
   "name": "python3"
  },
  "language_info": {
   "codemirror_mode": {
    "name": "ipython",
    "version": 3
   },
   "file_extension": ".py",
   "mimetype": "text/x-python",
   "name": "python",
   "nbconvert_exporter": "python",
   "pygments_lexer": "ipython3",
   "version": "3.8.3"
  }
 },
 "nbformat": 4,
 "nbformat_minor": 4
}
